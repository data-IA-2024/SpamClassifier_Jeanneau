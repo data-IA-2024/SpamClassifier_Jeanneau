{
 "cells": [
  {
   "cell_type": "markdown",
   "id": "21e497f5-fa85-4ee0-9ae8-6c99d4937b8b",
   "metadata": {},
   "source": [
    "# Projet SPAM Classifier\n",
    "\n",
    "Concevoir un classifieur de détection automatique de SPAM.\n",
    "\n",
    "La collection SMS Spam est un ensemble de messages SMS marqués qui ont été collectés pour la recherche sur les SMS Spam. Elle contient un ensemble de messages SMS en anglais de 5 574 messages, étiquetés selon qu'ils sont ham (légitimes) ou spam.\n",
    "Rémi vous encourage à vous documenter sur les caractéristiques type des spam et de développer votre stratégie de préparation des données dans ce sens.\n",
    "\n",
    "En tant que développeur IA, voici les missions :\n",
    "- Analyse du besoin\n",
    "- Construction d'un pipeline de ML\n",
    "- Prétraitement des données\n",
    "- Entrainement, fine tuning, validation et sélection d'un modèle de classification\n",
    "\n"
   ]
  },
  {
   "cell_type": "code",
   "execution_count": 3,
   "id": "63050380-4a97-46c3-a76c-66befdc4a738",
   "metadata": {},
   "outputs": [],
   "source": [
    "import pandas as pd\n",
    "import os\n",
    "import csv\n",
    "import matplotlib.pyplot as plt\n",
    "import seaborn as sns\n",
    "import string\n",
    "import numpy as np\n",
    "import re\n",
    "\n",
    "from sklearn.metrics import confusion_matrix, classification_report, ConfusionMatrixDisplay\n",
    "\n",
    "from sklearn.model_selection import train_test_split\n",
    "\n",
    "from sklearn.svm import SVC\n",
    "\n",
    "from sklearn.feature_extraction.text import CountVectorizer\n",
    "from sklearn.feature_extraction.text import HashingVectorizer\n",
    "\n",
    "from sklearn.neighbors import KNeighborsClassifier\n"
   ]
  },
  {
   "cell_type": "markdown",
   "id": "d5da20e1-d0a0-4862-8c27-9eb4a17bf63b",
   "metadata": {},
   "source": [
    "# Import des donnees"
   ]
  },
  {
   "cell_type": "code",
   "execution_count": 5,
   "id": "717263c6-eb96-4f38-bb71-900d6a183b1e",
   "metadata": {},
   "outputs": [],
   "source": [
    "path = os.getcwd() + \"/Dataset/SMSSpamCollection\"\n",
    "#path='https://raw.githubusercontent.com/remijul/dataset/refs/heads/master/SMSSpamCollection'\n",
    "df_ori = pd.read_table(path, sep='\\t', header=None, names = ['label','msg'])\n",
    "#df_ori = pd.read_table(path, sep='\\t', header=None, names = ['label','msg'], quoting=csv.QUOTE_NONE)"
   ]
  },
  {
   "cell_type": "code",
   "execution_count": 6,
   "id": "4d429679-7b44-4ae2-a4b8-571703c2ec90",
   "metadata": {},
   "outputs": [
    {
     "name": "stdout",
     "output_type": "stream",
     "text": [
      "(5572, 2)\n",
      "       label                     msg\n",
      "count   5572                    5572\n",
      "unique     2                    5169\n",
      "top      ham  Sorry, I'll call later\n",
      "freq    4825                      30\n",
      "<class 'pandas.core.frame.DataFrame'>\n",
      "RangeIndex: 5572 entries, 0 to 5571\n",
      "Data columns (total 2 columns):\n",
      " #   Column  Non-Null Count  Dtype \n",
      "---  ------  --------------  ----- \n",
      " 0   label   5572 non-null   object\n",
      " 1   msg     5572 non-null   object\n",
      "dtypes: object(2)\n",
      "memory usage: 87.2+ KB\n",
      "None\n"
     ]
    }
   ],
   "source": [
    "print(df_ori.shape)\n",
    "print(df_ori.describe())\n",
    "print(df_ori.info())"
   ]
  },
  {
   "cell_type": "code",
   "execution_count": 7,
   "id": "33b95aba-308e-4306-9c1a-d841a8eb4ddf",
   "metadata": {
    "colab": {
     "base_uri": "https://localhost:8080/"
    },
    "executionInfo": {
     "elapsed": 28,
     "status": "ok",
     "timestamp": 1736505536710,
     "user": {
      "displayName": "Cyril",
      "userId": "12507562464753876791"
     },
     "user_tz": -60
    },
    "id": "KhF8SdVc5ybL",
    "outputId": "8fb2fc51-6c4b-4643-e3f4-7858178fd487"
   },
   "outputs": [
    {
     "name": "stdout",
     "output_type": "stream",
     "text": [
      "   label  \\\n",
      "0    ham   \n",
      "1    ham   \n",
      "2   spam   \n",
      "3    ham   \n",
      "4    ham   \n",
      "5   spam   \n",
      "6    ham   \n",
      "7    ham   \n",
      "8   spam   \n",
      "9   spam   \n",
      "10   ham   \n",
      "11  spam   \n",
      "12  spam   \n",
      "13   ham   \n",
      "14   ham   \n",
      "15  spam   \n",
      "16   ham   \n",
      "17   ham   \n",
      "18   ham   \n",
      "19  spam   \n",
      "\n",
      "                                                                                                                                                                                                     msg  \n",
      "0                                                                                        Go until jurong point, crazy.. Available only in bugis n great world la e buffet... Cine there got amore wat...  \n",
      "1                                                                                                                                                                          Ok lar... Joking wif u oni...  \n",
      "2                                            Free entry in 2 a wkly comp to win FA Cup final tkts 21st May 2005. Text FA to 87121 to receive entry question(std txt rate)T&C's apply 08452810075over18's  \n",
      "3                                                                                                                                                      U dun say so early hor... U c already then say...  \n",
      "4                                                                                                                                          Nah I don't think he goes to usf, he lives around here though  \n",
      "5                                                    FreeMsg Hey there darling it's been 3 week's now and no word back! I'd like some fun you up for it still? Tb ok! XxX std chgs to send, £1.50 to rcv  \n",
      "6                                                                                                                          Even my brother is not like to speak with me. They treat me like aids patent.  \n",
      "7                                       As per your request 'Melle Melle (Oru Minnaminunginte Nurungu Vettam)' has been set as your callertune for all Callers. Press *9 to copy your friends Callertune  \n",
      "8                                          WINNER!! As a valued network customer you have been selected to receivea £900 prize reward! To claim call 09061701461. Claim code KL341. Valid 12 hours only.  \n",
      "9                                             Had your mobile 11 months or more? U R entitled to Update to the latest colour mobiles with camera for Free! Call The Mobile Update Co FREE on 08002986030  \n",
      "10                                                                                         I'm gonna be home soon and i don't want to talk about this stuff anymore tonight, k? I've cried enough today.  \n",
      "11                                                              SIX chances to win CASH! From 100 to 20,000 pounds txt> CSH11 and send to 87575. Cost 150p/day, 6days, 16+ TsandCs apply Reply HL 4 info  \n",
      "12                                           URGENT! You have won a 1 week FREE membership in our £100,000 Prize Jackpot! Txt the word: CLAIM to No: 81010 T&C www.dbuk.net LCCLTD POBOX 4403LDNW1A7RW18  \n",
      "13  I've been searching for the right words to thank you for this breather. I promise i wont take your help for granted and will fulfil my promise. You have been wonderful and a blessing at all times.  \n",
      "14                                                                                                                                                                   I HAVE A DATE ON SUNDAY WITH WILL!!  \n",
      "15                                                 XXXMobileMovieClub: To use your credit, click the WAP link in the next txt message or click here>> http://wap. xxxmobilemovieclub.com?n=QJKGIGHJJGCBL  \n",
      "16                                                                                                                                                                            Oh k...i'm watching here:)  \n",
      "17                                                                                                                     Eh u remember how 2 spell his name... Yes i did. He v naughty make until i v wet.  \n",
      "18                                                                                                                                              Fine if thats the way u feel. Thats the way its gota b  \n",
      "19                                           England v Macedonia - dont miss the goals/team news. Txt ur national team to 87077 eg ENGLAND to 87077 Try:WALES, SCOTLAND 4txt/ú1.20 POBOXox36504W45WQ 16+  \n",
      "     label  \\\n",
      "5552   ham   \n",
      "5553   ham   \n",
      "5554   ham   \n",
      "5555   ham   \n",
      "5556   ham   \n",
      "5557   ham   \n",
      "5558   ham   \n",
      "5559   ham   \n",
      "5560   ham   \n",
      "5561   ham   \n",
      "5562   ham   \n",
      "5563   ham   \n",
      "5564   ham   \n",
      "5565   ham   \n",
      "5566  spam   \n",
      "5567  spam   \n",
      "5568   ham   \n",
      "5569   ham   \n",
      "5570   ham   \n",
      "5571   ham   \n",
      "\n",
      "                                                                                                                                                                                                                                                                                    msg  \n",
      "5552                                                                                                                                                                                        Have a safe trip to Nigeria. Wish you happiness and very soon company to share moments with  \n",
      "5553                                                                                                                                                                                                                                                        Hahaha..use your brain dear  \n",
      "5554                                                                                                                                                                                 Well keep in mind I've only got enough gas for one more round trip barring a sudden influx of cash  \n",
      "5555                                                                                                                          Yeh. Indians was nice. Tho it did kane me off a bit he he. We shud go out 4 a drink sometime soon. Mite hav 2 go 2 da works 4 a laugh soon. Love Pete x x  \n",
      "5556                                                                                                                                                                                                                    Yes i have. So that's why u texted. Pshew...missing you so much  \n",
      "5557  No. I meant the calculation is the same. That  &lt;#&gt; units at  &lt;#&gt; . This school is really expensive. Have you started practicing your accent. Because its important. And have you decided if you are doing 4years of dental school or if you'll just do the nmde exam.  \n",
      "5558                                                                                                                                                                                                                                                             Sorry, I'll call later  \n",
      "5559                                                                                                                                                                                                                 if you aren't here in the next  &lt;#&gt;  hours imma flip my shit  \n",
      "5560                                                                                                                                                                                                                                                  Anything lor. Juz both of us lor.  \n",
      "5561                                                                                                                                                                                                             Get me out of this dump heap. My mom decided to come to lowes. BORING.  \n",
      "5562                                                                                                                                                                                   Ok lor... Sony ericsson salesman... I ask shuhui then she say quite gd 2 use so i considering...  \n",
      "5563                                                                                                                                                                                                                                                                Ard 6 like dat lor.  \n",
      "5564                                                                                                                                                                                                                Why don't you wait 'til at least wednesday to see if you get your .  \n",
      "5565                                                                                                                                                                                                                                                                       Huh y lei...  \n",
      "5566                                                                                                                                REMINDER FROM O2: To get 2.50 pounds free call credit and details of great offers pls reply 2 this text with your valid name, house no and postcode  \n",
      "5567                                                                                                                   This is the 2nd time we have tried 2 contact u. U have won the £750 Pound prize. 2 claim is easy, call 087187272008 NOW1! Only 10p per minute. BT-national-rate.  \n",
      "5568                                                                                                                                                                                                                                               Will ü b going to esplanade fr home?  \n",
      "5569                                                                                                                                                                                                                          Pity, * was in mood for that. So...any other suggestions?  \n",
      "5570                                                                                                                                                      The guy did some bitching but I acted like i'd be interested in buying something else next week and he gave it to us for free  \n",
      "5571                                                                                                                                                                                                                                                         Rofl. Its true to its name  \n"
     ]
    }
   ],
   "source": [
    "# On affiche les premières et dernières lignes\n",
    "pd.set_option('display.max_colwidth', None)\n",
    "print(df_ori.head(20))\n",
    "print(df_ori.tail(20))"
   ]
  },
  {
   "cell_type": "markdown",
   "id": "de3f40e0-4b29-4c43-8a11-2a36a3ffdf1a",
   "metadata": {
    "id": "WADK81LP6hoh"
   },
   "source": [
    "**Remarque :**  \n",
    "*On a 5572 entrées au lieu de 5574 prévus dans le dataset.  \n",
    "Et en vrac... des mots en majuscules, des numéros de téléphone, des liens internet et des messages plus ou moins longs*"
   ]
  },
  {
   "cell_type": "code",
   "execution_count": 9,
   "id": "2a5213dd-f7c9-4bd2-942a-49b2a68ce892",
   "metadata": {
    "colab": {
     "base_uri": "https://localhost:8080/"
    },
    "executionInfo": {
     "elapsed": 7,
     "status": "ok",
     "timestamp": 1736505536710,
     "user": {
      "displayName": "Cyril",
      "userId": "12507562464753876791"
     },
     "user_tz": -60
    },
    "id": "SPrayPtqGEmN",
    "outputId": "c802d1f1-5b87-4d10-c3bc-90454b31ed04"
   },
   "outputs": [
    {
     "name": "stdout",
     "output_type": "stream",
     "text": [
      "Nb de valeurs nulles dans la colonne spam : 0\n",
      "Nb de valeurs nulles dans la colonne msg : 0\n"
     ]
    }
   ],
   "source": [
    "# Y-a-t-il des valeurs manquantes ?\n",
    "\n",
    "print(f\"Nb de valeurs nulles dans la colonne spam : {df_ori.label.isnull().sum()}\")\n",
    "print(f\"Nb de valeurs nulles dans la colonne msg : {df_ori.msg.isnull().sum()}\")"
   ]
  },
  {
   "cell_type": "code",
   "execution_count": 10,
   "id": "ae6e088f-466b-48cb-8c9b-671363b7a72c",
   "metadata": {
    "colab": {
     "base_uri": "https://localhost:8080/",
     "height": 1000
    },
    "executionInfo": {
     "elapsed": 6,
     "status": "ok",
     "timestamp": 1736505536710,
     "user": {
      "displayName": "Cyril",
      "userId": "12507562464753876791"
     },
     "user_tz": -60
    },
    "id": "z7H5Z4CCc3Zq",
    "outputId": "7e8f79bb-5b56-4a03-dfd5-6e5f393e53c6"
   },
   "outputs": [
    {
     "data": {
      "text/html": [
       "<div>\n",
       "<style scoped>\n",
       "    .dataframe tbody tr th:only-of-type {\n",
       "        vertical-align: middle;\n",
       "    }\n",
       "\n",
       "    .dataframe tbody tr th {\n",
       "        vertical-align: top;\n",
       "    }\n",
       "\n",
       "    .dataframe thead th {\n",
       "        text-align: right;\n",
       "    }\n",
       "</style>\n",
       "<table border=\"1\" class=\"dataframe\">\n",
       "  <thead>\n",
       "    <tr style=\"text-align: right;\">\n",
       "      <th></th>\n",
       "      <th>label</th>\n",
       "      <th>msg</th>\n",
       "    </tr>\n",
       "  </thead>\n",
       "  <tbody>\n",
       "    <tr>\n",
       "      <th>198</th>\n",
       "      <td>ham</td>\n",
       "      <td>is your hamster dead? Hey so tmr i meet you at 1pm orchard mrt?</td>\n",
       "    </tr>\n",
       "    <tr>\n",
       "      <th>291</th>\n",
       "      <td>ham</td>\n",
       "      <td>Hey you told your name to gautham ah?</td>\n",
       "    </tr>\n",
       "    <tr>\n",
       "      <th>645</th>\n",
       "      <td>ham</td>\n",
       "      <td>Allo! We have braved the buses and taken on the trains and triumphed. I mean we‘re in b‘ham. Have a jolly good rest of week</td>\n",
       "    </tr>\n",
       "    <tr>\n",
       "      <th>869</th>\n",
       "      <td>spam</td>\n",
       "      <td>Hello. We need some posh birds and chaps to user trial prods for champneys. Can i put you down? I need your address and dob asap. Ta r</td>\n",
       "    </tr>\n",
       "    <tr>\n",
       "      <th>1193</th>\n",
       "      <td>ham</td>\n",
       "      <td>I was up all night too worrying about this appt. It's a shame we missed a girls night out with quizzes popcorn and you doing my hair.</td>\n",
       "    </tr>\n",
       "    <tr>\n",
       "      <th>1488</th>\n",
       "      <td>ham</td>\n",
       "      <td>I told your number to gautham..</td>\n",
       "    </tr>\n",
       "    <tr>\n",
       "      <th>1514</th>\n",
       "      <td>ham</td>\n",
       "      <td>Hows the champ just leaving glasgow!</td>\n",
       "    </tr>\n",
       "    <tr>\n",
       "      <th>1741</th>\n",
       "      <td>spam</td>\n",
       "      <td>UR GOING 2 BAHAMAS! CallFREEFONE 08081560665 and speak to a live operator to claim either Bahamas cruise of£2000 CASH 18+only. To opt out txt X to 07786200117</td>\n",
       "    </tr>\n",
       "    <tr>\n",
       "      <th>2016</th>\n",
       "      <td>ham</td>\n",
       "      <td>Just re read it and I have no shame but tell me how he takes it and if he runs I will blame u 4 ever!! Not really 4 ever just a long time</td>\n",
       "    </tr>\n",
       "    <tr>\n",
       "      <th>2318</th>\n",
       "      <td>ham</td>\n",
       "      <td>Waqt se pehle or naseeb se zyada kisi ko kuch nahi milta,Zindgi wo nahi he jo hum sochte hai Zindgi wo hai jo ham jeetey hai..........</td>\n",
       "    </tr>\n",
       "    <tr>\n",
       "      <th>2389</th>\n",
       "      <td>ham</td>\n",
       "      <td>wiskey Brandy Rum Gin Beer Vodka Scotch Shampain Wine \"KUDI\"yarasu dhina vaazhthukkal. ..</td>\n",
       "    </tr>\n",
       "    <tr>\n",
       "      <th>2619</th>\n",
       "      <td>ham</td>\n",
       "      <td>Hey pple...$700 or $900 for 5 nights...Excellent location wif breakfast hamper!!!</td>\n",
       "    </tr>\n",
       "    <tr>\n",
       "      <th>2677</th>\n",
       "      <td>ham</td>\n",
       "      <td>* Am on a train back from northampton so i'm afraid not!</td>\n",
       "    </tr>\n",
       "    <tr>\n",
       "      <th>2823</th>\n",
       "      <td>spam</td>\n",
       "      <td>ROMCAPspam Everyone around should be responding well to your presence since you are so warm and outgoing. You are bringing in a real breath of sunshine.</td>\n",
       "    </tr>\n",
       "    <tr>\n",
       "      <th>2878</th>\n",
       "      <td>ham</td>\n",
       "      <td>twenty past five he said will this train have been to durham already or not coz i am in a reserved seat</td>\n",
       "    </tr>\n",
       "    <tr>\n",
       "      <th>3176</th>\n",
       "      <td>spam</td>\n",
       "      <td>UR GOING 2 BAHAMAS! CallFREEFONE 08081560665 and speak to a live operator to claim either Bahamas cruise of£2000 CASH 18+only. To opt out txt X to 07786200117</td>\n",
       "    </tr>\n",
       "    <tr>\n",
       "      <th>3446</th>\n",
       "      <td>ham</td>\n",
       "      <td>wiskey Brandy Rum Gin Beer Vodka Scotch Shampain Wine \"KUDI\"yarasu dhina vaazhthukkal. ..</td>\n",
       "    </tr>\n",
       "    <tr>\n",
       "      <th>3454</th>\n",
       "      <td>ham</td>\n",
       "      <td>Nowadays people are notixiquating the laxinorficated opportunity for bambling of entropication.... Have you ever oblisingately opted ur books for the masteriastering amplikater of fidalfication? It is very champlaxigating, i think it is atrocious.. Wotz Ur Opinion???? Junna</td>\n",
       "    </tr>\n",
       "    <tr>\n",
       "      <th>3529</th>\n",
       "      <td>spam</td>\n",
       "      <td>You are a £1000 winner or Guaranteed Caller Prize, this is our Final attempt to contact you! To Claim Call 09071517866 Now! 150ppmPOBox10183BhamB64XE</td>\n",
       "    </tr>\n",
       "    <tr>\n",
       "      <th>4145</th>\n",
       "      <td>ham</td>\n",
       "      <td>That's a shame! Maybe cld meet for few hrs tomo?</td>\n",
       "    </tr>\n",
       "    <tr>\n",
       "      <th>4276</th>\n",
       "      <td>ham</td>\n",
       "      <td>Haiyoh... Maybe your hamster was jealous of million</td>\n",
       "    </tr>\n",
       "    <tr>\n",
       "      <th>4320</th>\n",
       "      <td>ham</td>\n",
       "      <td>Are you still playing with gautham?</td>\n",
       "    </tr>\n",
       "    <tr>\n",
       "      <th>4520</th>\n",
       "      <td>ham</td>\n",
       "      <td>Just got part Nottingham - 3 hrs 63miles. Good thing i love my man so much, but only doing 40mph. Hey ho</td>\n",
       "    </tr>\n",
       "    <tr>\n",
       "      <th>4624</th>\n",
       "      <td>ham</td>\n",
       "      <td>U need my presnts always bcz U cant mis love. \"jeevithathile irulinae neekunna prakasamanu sneham\" prakasam ennal prabha 'That mns prabha is'LOVE' Got it. Dont mis me....</td>\n",
       "    </tr>\n",
       "    <tr>\n",
       "      <th>5056</th>\n",
       "      <td>ham</td>\n",
       "      <td>Am on a train back from northampton so i'm afraid not! I'm staying skyving off today ho ho! Will be around wednesday though. Do you fancy the comedy club this week by the way?</td>\n",
       "    </tr>\n",
       "    <tr>\n",
       "      <th>5081</th>\n",
       "      <td>ham</td>\n",
       "      <td>Keep ur problems in ur heart, b'coz nobody will fight for u. Only u &amp;amp; u have to fight for ur self &amp;amp; win the battle. -VIVEKANAND- G 9t.. SD..\\nham\\tYeah, give me a call if you've got a minute\\nham\\tHI BABE UAWAKE?FEELLIKW SHIT.JUSTFOUND OUT VIA ALETTER THATMUM GOTMARRIED 4thNOV.BEHIND OURBACKS  FUCKINNICE!SELFISH,DEVIOUSBITCH.ANYWAY,IL CALL U\"</td>\n",
       "    </tr>\n",
       "  </tbody>\n",
       "</table>\n",
       "</div>"
      ],
      "text/plain": [
       "     label  \\\n",
       "198    ham   \n",
       "291    ham   \n",
       "645    ham   \n",
       "869   spam   \n",
       "1193   ham   \n",
       "1488   ham   \n",
       "1514   ham   \n",
       "1741  spam   \n",
       "2016   ham   \n",
       "2318   ham   \n",
       "2389   ham   \n",
       "2619   ham   \n",
       "2677   ham   \n",
       "2823  spam   \n",
       "2878   ham   \n",
       "3176  spam   \n",
       "3446   ham   \n",
       "3454   ham   \n",
       "3529  spam   \n",
       "4145   ham   \n",
       "4276   ham   \n",
       "4320   ham   \n",
       "4520   ham   \n",
       "4624   ham   \n",
       "5056   ham   \n",
       "5081   ham   \n",
       "\n",
       "                                                                                                                                                                                                                                                                                                                                                                     msg  \n",
       "198                                                                                                                                                                                                                                                                                                     is your hamster dead? Hey so tmr i meet you at 1pm orchard mrt?   \n",
       "291                                                                                                                                                                                                                                                                                                                                Hey you told your name to gautham ah?  \n",
       "645                                                                                                                                                                                                                                          Allo! We have braved the buses and taken on the trains and triumphed. I mean we‘re in b‘ham. Have a jolly good rest of week  \n",
       "869                                                                                                                                                                                                                               Hello. We need some posh birds and chaps to user trial prods for champneys. Can i put you down? I need your address and dob asap. Ta r  \n",
       "1193                                                                                                                                                                                                                               I was up all night too worrying about this appt. It's a shame we missed a girls night out with quizzes popcorn and you doing my hair.  \n",
       "1488                                                                                                                                                                                                                                                                                                                                     I told your number to gautham..  \n",
       "1514                                                                                                                                                                                                                                                                                                                                Hows the champ just leaving glasgow!  \n",
       "1741                                                                                                                                                                                                      UR GOING 2 BAHAMAS! CallFREEFONE 08081560665 and speak to a live operator to claim either Bahamas cruise of£2000 CASH 18+only. To opt out txt X to 07786200117  \n",
       "2016                                                                                                                                                                                                                          Just re read it and I have no shame but tell me how he takes it and if he runs I will blame u 4 ever!! Not really 4 ever just a long time   \n",
       "2318                                                                                                                                                                                                                              Waqt se pehle or naseeb se zyada kisi ko kuch nahi milta,Zindgi wo nahi he jo hum sochte hai Zindgi wo hai jo ham jeetey hai..........  \n",
       "2389                                                                                                                                                                                                                                                                           wiskey Brandy Rum Gin Beer Vodka Scotch Shampain Wine \"KUDI\"yarasu dhina vaazhthukkal. ..  \n",
       "2619                                                                                                                                                                                                                                                                                   Hey pple...$700 or $900 for 5 nights...Excellent location wif breakfast hamper!!!  \n",
       "2677                                                                                                                                                                                                                                                                                                            * Am on a train back from northampton so i'm afraid not!  \n",
       "2823                                                                                                                                                                                                            ROMCAPspam Everyone around should be responding well to your presence since you are so warm and outgoing. You are bringing in a real breath of sunshine.  \n",
       "2878                                                                                                                                                                                                                                                             twenty past five he said will this train have been to durham already or not coz i am in a reserved seat  \n",
       "3176                                                                                                                                                                                                      UR GOING 2 BAHAMAS! CallFREEFONE 08081560665 and speak to a live operator to claim either Bahamas cruise of£2000 CASH 18+only. To opt out txt X to 07786200117  \n",
       "3446                                                                                                                                                                                                                                                                           wiskey Brandy Rum Gin Beer Vodka Scotch Shampain Wine \"KUDI\"yarasu dhina vaazhthukkal. ..  \n",
       "3454                                                                                  Nowadays people are notixiquating the laxinorficated opportunity for bambling of entropication.... Have you ever oblisingately opted ur books for the masteriastering amplikater of fidalfication? It is very champlaxigating, i think it is atrocious.. Wotz Ur Opinion???? Junna  \n",
       "3529                                                                                                                                                                                                               You are a £1000 winner or Guaranteed Caller Prize, this is our Final attempt to contact you! To Claim Call 09071517866 Now! 150ppmPOBox10183BhamB64XE  \n",
       "4145                                                                                                                                                                                                                                                                                                                    That's a shame! Maybe cld meet for few hrs tomo?  \n",
       "4276                                                                                                                                                                                                                                                                                                                 Haiyoh... Maybe your hamster was jealous of million  \n",
       "4320                                                                                                                                                                                                                                                                                                                                 Are you still playing with gautham?  \n",
       "4520                                                                                                                                                                                                                                                            Just got part Nottingham - 3 hrs 63miles. Good thing i love my man so much, but only doing 40mph. Hey ho  \n",
       "4624                                                                                                                                                                                          U need my presnts always bcz U cant mis love. \"jeevithathile irulinae neekunna prakasamanu sneham\" prakasam ennal prabha 'That mns prabha is'LOVE' Got it. Dont mis me....  \n",
       "5056                                                                                                                                                                                     Am on a train back from northampton so i'm afraid not! I'm staying skyving off today ho ho! Will be around wednesday though. Do you fancy the comedy club this week by the way?  \n",
       "5081  Keep ur problems in ur heart, b'coz nobody will fight for u. Only u &amp; u have to fight for ur self &amp; win the battle. -VIVEKANAND- G 9t.. SD..\\nham\\tYeah, give me a call if you've got a minute\\nham\\tHI BABE UAWAKE?FEELLIKW SHIT.JUSTFOUND OUT VIA ALETTER THATMUM GOTMARRIED 4thNOV.BEHIND OURBACKS  FUCKINNICE!SELFISH,DEVIOUSBITCH.ANYWAY,IL CALL U\"  "
      ]
     },
     "execution_count": 10,
     "metadata": {},
     "output_type": "execute_result"
    }
   ],
   "source": [
    "# J'ai fait fausse route !!! En fait le probleme vient de 3 lignes extraites en une seule à cause de guillemets\n",
    "# on va rechercher si les mots ham ou spam sont présents dans la colonne msg.\n",
    "pd.set_option('display.max_colwidth', None)\n",
    "test = df_ori.msg.str.contains(r'(?:ham|spam)')\n",
    "df_ori[test]"
   ]
  },
  {
   "cell_type": "code",
   "execution_count": 11,
   "id": "5db77784-c691-47cf-b94b-3a7464b7ed2d",
   "metadata": {
    "colab": {
     "base_uri": "https://localhost:8080/",
     "height": 53
    },
    "executionInfo": {
     "elapsed": 5,
     "status": "ok",
     "timestamp": 1736505536710,
     "user": {
      "displayName": "Cyril",
      "userId": "12507562464753876791"
     },
     "user_tz": -60
    },
    "id": "qRdCVWEre635",
    "outputId": "f5338382-deb5-462e-b2fa-36ff733c01db"
   },
   "outputs": [
    {
     "data": {
      "text/html": [
       "<div>\n",
       "<style scoped>\n",
       "    .dataframe tbody tr th:only-of-type {\n",
       "        vertical-align: middle;\n",
       "    }\n",
       "\n",
       "    .dataframe tbody tr th {\n",
       "        vertical-align: top;\n",
       "    }\n",
       "\n",
       "    .dataframe thead th {\n",
       "        text-align: right;\n",
       "    }\n",
       "</style>\n",
       "<table border=\"1\" class=\"dataframe\">\n",
       "  <thead>\n",
       "    <tr style=\"text-align: right;\">\n",
       "      <th></th>\n",
       "      <th>label</th>\n",
       "      <th>msg</th>\n",
       "    </tr>\n",
       "  </thead>\n",
       "  <tbody>\n",
       "    <tr>\n",
       "      <th>5081</th>\n",
       "      <td>ham</td>\n",
       "      <td>Keep ur problems in ur heart, b'coz nobody will fight for u. Only u &amp;amp; u have to fight for ur self &amp;amp; win the battle. -VIVEKANAND- G 9t.. SD..\\nham\\tYeah, give me a call if you've got a minute\\nham\\tHI BABE UAWAKE?FEELLIKW SHIT.JUSTFOUND OUT VIA ALETTER THATMUM GOTMARRIED 4thNOV.BEHIND OURBACKS  FUCKINNICE!SELFISH,DEVIOUSBITCH.ANYWAY,IL CALL U\"</td>\n",
       "    </tr>\n",
       "  </tbody>\n",
       "</table>\n",
       "</div>"
      ],
      "text/plain": [
       "     label  \\\n",
       "5081   ham   \n",
       "\n",
       "                                                                                                                                                                                                                                                                                                                                                                     msg  \n",
       "5081  Keep ur problems in ur heart, b'coz nobody will fight for u. Only u &amp; u have to fight for ur self &amp; win the battle. -VIVEKANAND- G 9t.. SD..\\nham\\tYeah, give me a call if you've got a minute\\nham\\tHI BABE UAWAKE?FEELLIKW SHIT.JUSTFOUND OUT VIA ALETTER THATMUM GOTMARRIED 4thNOV.BEHIND OURBACKS  FUCKINNICE!SELFISH,DEVIOUSBITCH.ANYWAY,IL CALL U\"  "
      ]
     },
     "execution_count": 11,
     "metadata": {},
     "output_type": "execute_result"
    }
   ],
   "source": [
    "# On affine notre expression regulière\n",
    "test = df_ori.msg.str.contains(r'\\b(?:ham|spam)\\t')\n",
    "df_ori[test]\n"
   ]
  },
  {
   "cell_type": "markdown",
   "id": "390dd783-e3e7-4989-8a57-a2961fad889d",
   "metadata": {},
   "source": [
    "**Remarque :**  \n",
    "*On remarque ici que la ligne 5081 comprend 3 lignes. En étudiant les données brutes, on constate que le probleme provient du \" (double quotes). \n",
    "On peut recharger les données avec l'option quoting=csv.QUOTE_NONE*"
   ]
  },
  {
   "cell_type": "code",
   "execution_count": 13,
   "id": "2c737c72-f8ac-4ad8-8ce4-fad8b39f4954",
   "metadata": {
    "executionInfo": {
     "elapsed": 515,
     "status": "ok",
     "timestamp": 1736505537221,
     "user": {
      "displayName": "Cyril",
      "userId": "12507562464753876791"
     },
     "user_tz": -60
    },
    "id": "iZm7mQB6fKJC"
   },
   "outputs": [],
   "source": [
    "\n",
    "import csv\n",
    "df_ori = pd.read_table(path, sep='\\t', header=None, names = ['label','msg'], quoting=csv.QUOTE_NONE)\n"
   ]
  },
  {
   "cell_type": "code",
   "execution_count": 14,
   "id": "9f4af295-000a-4ee0-9a14-e169f7cdb3d4",
   "metadata": {
    "colab": {
     "base_uri": "https://localhost:8080/",
     "height": 269
    },
    "executionInfo": {
     "elapsed": 9,
     "status": "ok",
     "timestamp": 1736505537221,
     "user": {
      "displayName": "Cyril",
      "userId": "12507562464753876791"
     },
     "user_tz": -60
    },
    "id": "C8u0qZ--yNM-",
    "outputId": "1a8f29dc-49b5-4e85-fc13-2b026482e293"
   },
   "outputs": [
    {
     "data": {
      "text/html": [
       "<div>\n",
       "<style scoped>\n",
       "    .dataframe tbody tr th:only-of-type {\n",
       "        vertical-align: middle;\n",
       "    }\n",
       "\n",
       "    .dataframe tbody tr th {\n",
       "        vertical-align: top;\n",
       "    }\n",
       "\n",
       "    .dataframe thead th {\n",
       "        text-align: right;\n",
       "    }\n",
       "</style>\n",
       "<table border=\"1\" class=\"dataframe\">\n",
       "  <thead>\n",
       "    <tr style=\"text-align: right;\">\n",
       "      <th></th>\n",
       "      <th>label</th>\n",
       "      <th>msg</th>\n",
       "    </tr>\n",
       "  </thead>\n",
       "  <tbody>\n",
       "    <tr>\n",
       "      <th>5080</th>\n",
       "      <td>ham</td>\n",
       "      <td>Mark works tomorrow. He gets out at 5. His work is by your house so he can meet u afterwards.</td>\n",
       "    </tr>\n",
       "    <tr>\n",
       "      <th>5081</th>\n",
       "      <td>ham</td>\n",
       "      <td>\"Keep ur problems in ur heart, b'coz nobody will fight for u. Only u &amp;amp; u have to fight for ur self &amp;amp; win the battle. -VIVEKANAND- G 9t.. SD..</td>\n",
       "    </tr>\n",
       "    <tr>\n",
       "      <th>5082</th>\n",
       "      <td>ham</td>\n",
       "      <td>Yeah, give me a call if you've got a minute</td>\n",
       "    </tr>\n",
       "    <tr>\n",
       "      <th>5083</th>\n",
       "      <td>ham</td>\n",
       "      <td>\"HI BABE UAWAKE?FEELLIKW SHIT.JUSTFOUND OUT VIA ALETTER THATMUM GOTMARRIED 4thNOV.BEHIND OURBACKS  FUCKINNICE!SELFISH,DEVIOUSBITCH.ANYWAY,IL CALL U\"</td>\n",
       "    </tr>\n",
       "    <tr>\n",
       "      <th>5084</th>\n",
       "      <td>ham</td>\n",
       "      <td>Amazing : If you rearrange these letters it gives the same meaning... Dormitory = Dirty room Astronomer = Moon starer The eyes = They see Election results = Lies lets recount Mother-in-law = Woman Hitler Eleven plus two =Twelve plus one Its Amazing... !:-)</td>\n",
       "    </tr>\n",
       "    <tr>\n",
       "      <th>5085</th>\n",
       "      <td>ham</td>\n",
       "      <td>Aiya we discuss later lar... Pick ü up at 4 is it?</td>\n",
       "    </tr>\n",
       "  </tbody>\n",
       "</table>\n",
       "</div>"
      ],
      "text/plain": [
       "     label  \\\n",
       "5080   ham   \n",
       "5081   ham   \n",
       "5082   ham   \n",
       "5083   ham   \n",
       "5084   ham   \n",
       "5085   ham   \n",
       "\n",
       "                                                                                                                                                                                                                                                                   msg  \n",
       "5080                                                                                                                                                                     Mark works tomorrow. He gets out at 5. His work is by your house so he can meet u afterwards.  \n",
       "5081                                                                                                             \"Keep ur problems in ur heart, b'coz nobody will fight for u. Only u &amp; u have to fight for ur self &amp; win the battle. -VIVEKANAND- G 9t.. SD..  \n",
       "5082                                                                                                                                                                                                                       Yeah, give me a call if you've got a minute  \n",
       "5083                                                                                                            \"HI BABE UAWAKE?FEELLIKW SHIT.JUSTFOUND OUT VIA ALETTER THATMUM GOTMARRIED 4thNOV.BEHIND OURBACKS  FUCKINNICE!SELFISH,DEVIOUSBITCH.ANYWAY,IL CALL U\"  \n",
       "5084  Amazing : If you rearrange these letters it gives the same meaning... Dormitory = Dirty room Astronomer = Moon starer The eyes = They see Election results = Lies lets recount Mother-in-law = Woman Hitler Eleven plus two =Twelve plus one Its Amazing... !:-)  \n",
       "5085                                                                                                                                                                                                                Aiya we discuss later lar... Pick ü up at 4 is it?  "
      ]
     },
     "execution_count": 14,
     "metadata": {},
     "output_type": "execute_result"
    }
   ],
   "source": [
    "df_ori.loc[5080:5085]"
   ]
  },
  {
   "cell_type": "code",
   "execution_count": 15,
   "id": "57de562d-a556-44aa-b6ba-dcf614114769",
   "metadata": {},
   "outputs": [
    {
     "data": {
      "text/plain": [
       "(5574, 2)"
      ]
     },
     "execution_count": 15,
     "metadata": {},
     "output_type": "execute_result"
    }
   ],
   "source": [
    "df_ori.shape"
   ]
  },
  {
   "cell_type": "markdown",
   "id": "32f0d103-70ff-470c-8c65-1ef2c5b30f07",
   "metadata": {},
   "source": [
    "**Remarque :**  \n",
    "*On remarque ici que la ligne 5081 a bien été splittée en 3 lignes [5081, 5082, 5083] et notre dataset a 5574 lignes comme prévu*"
   ]
  },
  {
   "cell_type": "markdown",
   "id": "1aab65c2-87e7-4907-aaf5-e651b3d290b8",
   "metadata": {},
   "source": [
    "# Nettoyage"
   ]
  },
  {
   "cell_type": "markdown",
   "id": "5dcdb70f-e2c7-4df5-bcaf-8ef913832398",
   "metadata": {},
   "source": [
    "## Traitement des caractères spéciaux"
   ]
  },
  {
   "cell_type": "code",
   "execution_count": 19,
   "id": "5a33c179-5f27-4eda-afd7-e47c6e7fe1d5",
   "metadata": {},
   "outputs": [],
   "source": [
    "def list_char_non_alphanum(s):\n",
    "    caracteres_exclus = string.ascii_letters + string.digits + ' ' + string.punctuation + '£'\n",
    "    pattern = f\"[^{re.escape(caracteres_exclus)}]\"\n",
    "    caracteres_speciaux = re.findall(pattern, s)\n",
    "    if caracteres_speciaux != []: return caracteres_speciaux"
   ]
  },
  {
   "cell_type": "code",
   "execution_count": 20,
   "id": "224e5c0e-1804-4a15-8a6f-56e1a255abe9",
   "metadata": {},
   "outputs": [],
   "source": [
    "serie_special_char = df_ori.msg.apply(list_char_non_alphanum).dropna()"
   ]
  },
  {
   "cell_type": "code",
   "execution_count": 21,
   "id": "e788d905-9aee-4b7c-a518-628e8ce3126a",
   "metadata": {},
   "outputs": [
    {
     "data": {
      "text/plain": [
       "18      [, ]\n",
       "19         [ú]\n",
       "21         [‘]\n",
       "22         [ü]\n",
       "35         [ü]\n",
       "         ...  \n",
       "5467       [‘]\n",
       "5468    [¡, ¡]\n",
       "5475       [ü]\n",
       "5513       [‘]\n",
       "5570       [ü]\n",
       "Name: msg, Length: 229, dtype: object"
      ]
     },
     "execution_count": 21,
     "metadata": {},
     "output_type": "execute_result"
    }
   ],
   "source": [
    "serie_special_char"
   ]
  },
  {
   "cell_type": "code",
   "execution_count": 22,
   "id": "0a55a0d3-2370-491f-9070-42e9ba30bcc6",
   "metadata": {},
   "outputs": [
    {
     "name": "stdout",
     "output_type": "stream",
     "text": [
      "['\\x92', 'ú', '‘', 'ü', 'Ü', '–', '…', 'è', '\\x94', '“', '\\x91', '’', '\\x93', '\\x96', '»', '—', 'é', 'É', 'ì', '鈥', '┾', '〨', '¡']\n"
     ]
    }
   ],
   "source": [
    "list_char_unique = serie_special_char.dropna().explode().unique().tolist()\n",
    "print(list_char_unique)"
   ]
  },
  {
   "cell_type": "code",
   "execution_count": 23,
   "id": "7cad9157-ced5-4d0b-a092-29ff359d80d7",
   "metadata": {},
   "outputs": [],
   "source": [
    "for i in serie_special_char.index:\n",
    "        for j in serie_special_char.loc[i]:\n",
    "            if j in ['ú','ü','Ü']:\n",
    "                df_ori.loc[i, 'msg'] = df_ori.loc[i, 'msg'].replace(j, \"U\")\n",
    "            if j in ['\\x92', '\\x94', '\\x91', '\\x93','\\x96', '–', '…', '’', \"'\", '“', '»', '‘', '—', 'è', 'ì', '鈥', '┾', '〨', '¡']:\n",
    "                df_ori.loc[i, 'msg'] = df_ori.loc[i, 'msg'].replace(j, \" \")\n",
    "            if j in ['é', 'É']:\n",
    "                df_ori.loc[i, 'msg'] = df_ori.loc[i, 'msg'].replace(j, \"a\")\n"
   ]
  },
  {
   "cell_type": "code",
   "execution_count": 24,
   "id": "c019edfb-bb4f-48f1-9fe1-47c0d4f82dce",
   "metadata": {},
   "outputs": [
    {
     "data": {
      "text/html": [
       "<div>\n",
       "<style scoped>\n",
       "    .dataframe tbody tr th:only-of-type {\n",
       "        vertical-align: middle;\n",
       "    }\n",
       "\n",
       "    .dataframe tbody tr th {\n",
       "        vertical-align: top;\n",
       "    }\n",
       "\n",
       "    .dataframe thead th {\n",
       "        text-align: right;\n",
       "    }\n",
       "</style>\n",
       "<table border=\"1\" class=\"dataframe\">\n",
       "  <thead>\n",
       "    <tr style=\"text-align: right;\">\n",
       "      <th></th>\n",
       "      <th>label</th>\n",
       "      <th>msg</th>\n",
       "    </tr>\n",
       "  </thead>\n",
       "  <tbody>\n",
       "    <tr>\n",
       "      <th>18</th>\n",
       "      <td>ham</td>\n",
       "      <td>Fine if that s the way u feel. That s the way its gota b</td>\n",
       "    </tr>\n",
       "    <tr>\n",
       "      <th>22</th>\n",
       "      <td>ham</td>\n",
       "      <td>So U pay first lar... Then when is da stock comin...</td>\n",
       "    </tr>\n",
       "    <tr>\n",
       "      <th>5468</th>\n",
       "      <td>spam</td>\n",
       "      <td>http//tms. widelive.com/index. wml?id=820554ad0a1705572711&amp;first=true C C Ringtone</td>\n",
       "    </tr>\n",
       "  </tbody>\n",
       "</table>\n",
       "</div>"
      ],
      "text/plain": [
       "     label  \\\n",
       "18     ham   \n",
       "22     ham   \n",
       "5468  spam   \n",
       "\n",
       "                                                                                      msg  \n",
       "18                               Fine if that s the way u feel. That s the way its gota b  \n",
       "22                                   So U pay first lar... Then when is da stock comin...  \n",
       "5468  http//tms. widelive.com/index. wml?id=820554ad0a1705572711&first=true C C Ringtone   "
      ]
     },
     "execution_count": 24,
     "metadata": {},
     "output_type": "execute_result"
    }
   ],
   "source": [
    "df_ori.loc[[18, 22, 5468]]"
   ]
  },
  {
   "cell_type": "markdown",
   "id": "8721b03a-eaba-4f1f-b6f4-2925a0ab0a9e",
   "metadata": {},
   "source": [
    "## Traitement des doublons"
   ]
  },
  {
   "cell_type": "code",
   "execution_count": 26,
   "id": "3c21e733-71c0-4e6e-b966-e7df53af5ad3",
   "metadata": {},
   "outputs": [
    {
     "data": {
      "text/plain": [
       "label  msg                                                                                                                                                             \n",
       "ham    Sorry, I'll call later                                                                                                                                              30\n",
       "       I cant pick the phone right now. Pls send a message                                                                                                                 12\n",
       "       Ok...                                                                                                                                                               10\n",
       "       7 wonders in My WORLD 7th You 6th Ur style 5th Ur smile 4th Ur Personality 3rd Ur Nature 2nd Ur SMS and 1st \"Ur Lovely Friendship\"... good morning dear              4\n",
       "       Ok.                                                                                                                                                                  4\n",
       "                                                                                                                                                                           ..\n",
       "spam   Great NEW Offer - DOUBLE Mins & DOUBLE Txt on best Orange tariffs AND get latest camera phones 4 FREE! Call MobileUpd8 free on 08000839402 NOW! or 2stoptxt T&Cs     2\n",
       "ham    Friendship poem: Dear O Dear U R Not Near But I Can Hear Dont Get Fear Live With Cheer No More Tear U R Always my Dear. Gud ni8                                      2\n",
       "spam   Hard LIVE 121 chat just 60p/min. Choose your girl and connect LIVE. Call 09094646899 now! Cheap Chat UK's biggest live service. VU BCM1896WC1N3XX                    2\n",
       "       Great News! Call FREEFONE 08006344447 to claim your guaranteed £1000 CASH or £2000 gift. Speak to a live operator NOW!                                               2\n",
       "ham    I call you later, don't have network. If urgnt, sms me.                                                                                                              2\n",
       "Name: count, Length: 282, dtype: int64"
      ]
     },
     "execution_count": 26,
     "metadata": {},
     "output_type": "execute_result"
    }
   ],
   "source": [
    "doublons_count = df_ori.value_counts() \n",
    "mask = pd.DataFrame(doublons_count)['count'] > 1\n",
    "doublons_count[mask]"
   ]
  },
  {
   "cell_type": "code",
   "execution_count": 27,
   "id": "2dce0f0f-f2d2-4057-a4bc-7ba4f06d9dcd",
   "metadata": {},
   "outputs": [
    {
     "data": {
      "text/plain": [
       "(5170, 2)"
      ]
     },
     "execution_count": 27,
     "metadata": {},
     "output_type": "execute_result"
    }
   ],
   "source": [
    "df_no_doublons = df_ori.drop_duplicates()\n",
    "df_no_doublons.shape"
   ]
  },
  {
   "cell_type": "code",
   "execution_count": 28,
   "id": "c422abe0-6e53-4701-88fc-6138cfd3e19b",
   "metadata": {},
   "outputs": [
    {
     "name": "stdout",
     "output_type": "stream",
     "text": [
      "Nombre de doublons supprimés :  404\n"
     ]
    }
   ],
   "source": [
    "print(\"Nombre de doublons supprimés : \", df_ori.duplicated().sum())"
   ]
  },
  {
   "cell_type": "markdown",
   "id": "3c3b8e8b-16ea-4b17-9601-8e7f89cdac66",
   "metadata": {},
   "source": [
    "## Traitement des valeurs manquantes\n",
    "=> On constate qu'il n'y en a pas"
   ]
  },
  {
   "cell_type": "code",
   "execution_count": 30,
   "id": "dd45f279-7efe-4b59-b8f3-6ba9445c417b",
   "metadata": {},
   "outputs": [
    {
     "data": {
      "text/plain": [
       "label  msg  \n",
       "False  False    5170\n",
       "Name: count, dtype: int64"
      ]
     },
     "execution_count": 30,
     "metadata": {},
     "output_type": "execute_result"
    }
   ],
   "source": [
    "df_no_doublons.isna().value_counts()"
   ]
  },
  {
   "cell_type": "markdown",
   "id": "c8d329df-ee99-4146-b7d5-0d47cebae769",
   "metadata": {},
   "source": [
    " On a maintenant un dataset clean, on va travailler sur df"
   ]
  },
  {
   "cell_type": "code",
   "execution_count": 32,
   "id": "bf50a6eb-b69f-4598-a4e6-3f27e8bcf80a",
   "metadata": {},
   "outputs": [],
   "source": [
    "df = df_no_doublons.copy()"
   ]
  },
  {
   "cell_type": "markdown",
   "id": "1533826e-f66c-4878-b836-f994315a0d1b",
   "metadata": {},
   "source": [
    "# Analyse"
   ]
  },
  {
   "cell_type": "markdown",
   "id": "63e0de4d-c02c-48d4-8994-c42a7691b675",
   "metadata": {
    "id": "-T5iBD5mqQvv"
   },
   "source": [
    "## Analyse de l'étiquette spam/ham"
   ]
  },
  {
   "cell_type": "markdown",
   "id": "cb69d8e6-9282-4fe2-a7f7-ea9cd8c4c18a",
   "metadata": {
    "id": "NP6fOzcRHkMp"
   },
   "source": [
    "* Compter le nombre d'occurrences de chaque classe, spam et ham\n",
    "\n",
    "* Calculer la proportion de chaque classe\n",
    "\n",
    "Vous pouvez utiliser un graphique pour mieux visualiser la distribution.\n",
    "\n",
    "Déséquilibre de classes ? Le déséquilibre de classes peut influencer les performances du modèle."
   ]
  },
  {
   "cell_type": "code",
   "execution_count": 36,
   "id": "943c4114-4851-4e4e-aed4-5664f2b0b053",
   "metadata": {
    "colab": {
     "base_uri": "https://localhost:8080/"
    },
    "executionInfo": {
     "elapsed": 275,
     "status": "ok",
     "timestamp": 1736333118507,
     "user": {
      "displayName": "Lan Xu",
      "userId": "17164455521206809623"
     },
     "user_tz": -60
    },
    "id": "HmGT-v67qifU",
    "outputId": "27d74e47-9d23-4ab2-8aa0-3a87c0cd9485"
   },
   "outputs": [
    {
     "name": "stdout",
     "output_type": "stream",
     "text": [
      "label\n",
      "ham     4518\n",
      "spam     652\n",
      "Name: count, dtype: int64\n"
     ]
    }
   ],
   "source": [
    "# Compter le nombre d'occurrences de chaque classe\n",
    "occurrences = df['label'].value_counts()\n",
    "print(occurrences)"
   ]
  },
  {
   "cell_type": "code",
   "execution_count": 37,
   "id": "6a94001a-2507-4026-8356-d40649cf215d",
   "metadata": {
    "colab": {
     "base_uri": "https://localhost:8080/"
    },
    "executionInfo": {
     "elapsed": 195,
     "status": "ok",
     "timestamp": 1736333175101,
     "user": {
      "displayName": "Lan Xu",
      "userId": "17164455521206809623"
     },
     "user_tz": -60
    },
    "id": "KUZBk7NTqifU",
    "outputId": "f5217666-9e9d-4cef-bfe8-89f592a93d00"
   },
   "outputs": [
    {
     "name": "stdout",
     "output_type": "stream",
     "text": [
      "label\n",
      "ham     0.873888\n",
      "spam    0.126112\n",
      "Name: proportion, dtype: float64\n"
     ]
    }
   ],
   "source": [
    "# Calculer la proportion de chaque classe\n",
    "proportions = df['label'].value_counts(normalize=True)\n",
    "print(proportions)"
   ]
  },
  {
   "cell_type": "code",
   "execution_count": 38,
   "id": "c0a8c5df-95dd-4bb2-97a5-2c756e07326c",
   "metadata": {
    "colab": {
     "base_uri": "https://localhost:8080/",
     "height": 542
    },
    "executionInfo": {
     "elapsed": 5,
     "status": "ok",
     "timestamp": 1736505537221,
     "user": {
      "displayName": "Cyril",
      "userId": "12507562464753876791"
     },
     "user_tz": -60
    },
    "id": "J_Y1KR5iHjNX",
    "outputId": "a26855fc-c345-4418-89ce-12293a296e21"
   },
   "outputs": [
    {
     "data": {
      "image/png": "[encoded data removed]",
      "text/plain": [
       "<Figure size 640x480 with 1 Axes>"
      ]
     },
     "metadata": {},
     "output_type": "display_data"
    }
   ],
   "source": [
    "plt.pie(proportions, autopct=lambda p: f'{p:.1f}%', startangle=90)\n",
    "plt.title('Proportion des classes')\n",
    "plt.axis('equal')  # Cette ligne assure que le camembert est bien un cercle et non une ellipse\n",
    "plt.show()"
   ]
  },
  {
   "cell_type": "markdown",
   "id": "ba0651ad-eadd-4594-b0d3-223314502d22",
   "metadata": {
    "id": "2L3ZFmIgPbXf"
   },
   "source": [
    "*Il semble effectivement qu'il y ait un déséquilibre d'autant qu'il semble aujourd'hui fréquent de recevoir plus de spams que de messages désirés.*"
   ]
  },
  {
   "cell_type": "markdown",
   "id": "01fab11e-51a6-4eb6-90a7-2acd3cf922f4",
   "metadata": {
    "id": "Tt-vMPNVrzPN"
   },
   "source": [
    "## Analyse du texte des SMS"
   ]
  },
  {
   "cell_type": "markdown",
   "id": "48be68a4-01f9-49a8-8a7c-3d9fec54b9c7",
   "metadata": {
    "id": "yefSIg7Br0OL"
   },
   "source": [
    "* Analyser la longueur des messages : distribution des longueurs pour les messages spam et ham, longueur moyenne, graphique\n",
    "\n",
    "* Analyser le nombre de mots dans chaque message"
   ]
  },
  {
   "cell_type": "code",
   "execution_count": 42,
   "id": "6717d6df-cea5-40ac-9f62-5f3a636d7c6e",
   "metadata": {
    "executionInfo": {
     "elapsed": 409,
     "status": "ok",
     "timestamp": 1736505537625,
     "user": {
      "displayName": "Cyril",
      "userId": "12507562464753876791"
     },
     "user_tz": -60
    },
    "id": "ijL68Se-t8jt"
   },
   "outputs": [],
   "source": [
    "def nb_caracteres_msg(msg):\n",
    "    return len(msg)\n",
    "\n",
    "def nb_mots_msg(msg):\n",
    "    return len(msg.split()) #on considère ici un mot entre un ou plusieurs espaces. \"you're\" est un seul mot\n",
    "\n",
    "# Nous allons ajouter 2 colonnes à notre dataset avec ces 2 longueurs\n",
    "\n",
    "df['nb_caracteres'] = df['msg'].apply(nb_caracteres_msg)\n",
    "df['nb_mots'] = df['msg'].apply(nb_mots_msg)\n",
    "\n"
   ]
  },
  {
   "cell_type": "code",
   "execution_count": 43,
   "id": "131c305b-07c2-402a-9554-b6ec237fdce1",
   "metadata": {},
   "outputs": [
    {
     "data": {
      "text/html": [
       "<div>\n",
       "<style scoped>\n",
       "    .dataframe tbody tr th:only-of-type {\n",
       "        vertical-align: middle;\n",
       "    }\n",
       "\n",
       "    .dataframe tbody tr th {\n",
       "        vertical-align: top;\n",
       "    }\n",
       "\n",
       "    .dataframe thead th {\n",
       "        text-align: right;\n",
       "    }\n",
       "</style>\n",
       "<table border=\"1\" class=\"dataframe\">\n",
       "  <thead>\n",
       "    <tr style=\"text-align: right;\">\n",
       "      <th></th>\n",
       "      <th>label</th>\n",
       "      <th>msg</th>\n",
       "      <th>nb_caracteres</th>\n",
       "      <th>nb_mots</th>\n",
       "    </tr>\n",
       "  </thead>\n",
       "  <tbody>\n",
       "    <tr>\n",
       "      <th>0</th>\n",
       "      <td>ham</td>\n",
       "      <td>Go until jurong point, crazy.. Available only in bugis n great world la e buffet... Cine there got amore wat...</td>\n",
       "      <td>111</td>\n",
       "      <td>20</td>\n",
       "    </tr>\n",
       "    <tr>\n",
       "      <th>1</th>\n",
       "      <td>ham</td>\n",
       "      <td>Ok lar... Joking wif u oni...</td>\n",
       "      <td>29</td>\n",
       "      <td>6</td>\n",
       "    </tr>\n",
       "    <tr>\n",
       "      <th>2</th>\n",
       "      <td>spam</td>\n",
       "      <td>Free entry in 2 a wkly comp to win FA Cup final tkts 21st May 2005. Text FA to 87121 to receive entry question(std txt rate)T&amp;C's apply 08452810075over18's</td>\n",
       "      <td>155</td>\n",
       "      <td>28</td>\n",
       "    </tr>\n",
       "    <tr>\n",
       "      <th>3</th>\n",
       "      <td>ham</td>\n",
       "      <td>U dun say so early hor... U c already then say...</td>\n",
       "      <td>49</td>\n",
       "      <td>11</td>\n",
       "    </tr>\n",
       "    <tr>\n",
       "      <th>4</th>\n",
       "      <td>ham</td>\n",
       "      <td>Nah I don't think he goes to usf, he lives around here though</td>\n",
       "      <td>61</td>\n",
       "      <td>13</td>\n",
       "    </tr>\n",
       "  </tbody>\n",
       "</table>\n",
       "</div>"
      ],
      "text/plain": [
       "  label  \\\n",
       "0   ham   \n",
       "1   ham   \n",
       "2  spam   \n",
       "3   ham   \n",
       "4   ham   \n",
       "\n",
       "                                                                                                                                                           msg  \\\n",
       "0                                              Go until jurong point, crazy.. Available only in bugis n great world la e buffet... Cine there got amore wat...   \n",
       "1                                                                                                                                Ok lar... Joking wif u oni...   \n",
       "2  Free entry in 2 a wkly comp to win FA Cup final tkts 21st May 2005. Text FA to 87121 to receive entry question(std txt rate)T&C's apply 08452810075over18's   \n",
       "3                                                                                                            U dun say so early hor... U c already then say...   \n",
       "4                                                                                                Nah I don't think he goes to usf, he lives around here though   \n",
       "\n",
       "   nb_caracteres  nb_mots  \n",
       "0            111       20  \n",
       "1             29        6  \n",
       "2            155       28  \n",
       "3             49       11  \n",
       "4             61       13  "
      ]
     },
     "execution_count": 43,
     "metadata": {},
     "output_type": "execute_result"
    }
   ],
   "source": [
    "df.head()"
   ]
  },
  {
   "cell_type": "code",
   "execution_count": 44,
   "id": "e01f07dd-f829-41b7-8925-50f97ac78eeb",
   "metadata": {
    "colab": {
     "base_uri": "https://localhost:8080/",
     "height": 445
    },
    "executionInfo": {
     "elapsed": 334,
     "status": "ok",
     "timestamp": 1736505537956,
     "user": {
      "displayName": "Cyril",
      "userId": "12507562464753876791"
     },
     "user_tz": -60
    },
    "id": "AZ9uk6jEgn3s",
    "outputId": "a2fdbdec-e36a-4251-9916-5acd5b889d59"
   },
   "outputs": [
    {
     "data": {
      "image/png": "[encoded data removed]",
      "text/plain": [
       "<Figure size 1000x500 with 1 Axes>"
      ]
     },
     "metadata": {},
     "output_type": "display_data"
    }
   ],
   "source": [
    "import matplotlib.pyplot as plt\n",
    "\n",
    "plt.figure(figsize=(10,5))\n",
    "plt.hist(df[df['label'] == 'spam']['nb_caracteres'], range=(0,400), bins=50, alpha=0.5, label='spam', color='red', density=True)\n",
    "plt.hist(df[df['label'] == 'ham']['nb_caracteres'], range=(0,400), bins=50,  alpha=0.5, label='ham', color='blue', density=True)\n",
    "plt.legend(loc='upper right')\n",
    "plt.show()"
   ]
  },
  {
   "cell_type": "code",
   "execution_count": 45,
   "id": "6f774c27-21ce-46b6-9389-ae3f50b0d1cd",
   "metadata": {
    "colab": {
     "base_uri": "https://localhost:8080/"
    },
    "executionInfo": {
     "elapsed": 3,
     "status": "ok",
     "timestamp": 1736505538728,
     "user": {
      "displayName": "Cyril",
      "userId": "12507562464753876791"
     },
     "user_tz": -60
    },
    "id": "DZ9TFzFHlJtp",
    "outputId": "2e97b1d3-5919-4191-dcb2-9d21b9c2b580"
   },
   "outputs": [
    {
     "name": "stdout",
     "output_type": "stream",
     "text": [
      "La longueur moyenne des messages ham est de 70.89 caractères.\n",
      "La longueur moyenne des messages spam est de 137.71 caractères.\n"
     ]
    }
   ],
   "source": [
    "ham_nb_moyen_caractères = df[df['label'] == 'ham']['nb_caracteres'].mean()\n",
    "spam_nb_moyen_caractères = df[df['label'] == 'spam']['nb_caracteres'].mean()\n",
    "print(f\"La longueur moyenne des messages ham est de {round(ham_nb_moyen_caractères, 2)} caractères.\")\n",
    "print(f\"La longueur moyenne des messages spam est de {round(spam_nb_moyen_caractères, 2)} caractères.\")"
   ]
  },
  {
   "cell_type": "markdown",
   "id": "bacb4057-2fd5-476f-8896-2c0013b1e7b0",
   "metadata": {
    "id": "2TKT7xoElPAg"
   },
   "source": [
    "**On regarde maintenant en nombre de mots**"
   ]
  },
  {
   "cell_type": "code",
   "execution_count": 47,
   "id": "74b7e8b5-8bba-46cd-8025-829bff2e3a53",
   "metadata": {
    "colab": {
     "base_uri": "https://localhost:8080/",
     "height": 445
    },
    "executionInfo": {
     "elapsed": 556,
     "status": "ok",
     "timestamp": 1736505539283,
     "user": {
      "displayName": "Cyril",
      "userId": "12507562464753876791"
     },
     "user_tz": -60
    },
    "id": "iIccmGLhX9nR",
    "outputId": "d48702e1-50af-4657-bff8-3b5063a0d8ed"
   },
   "outputs": [
    {
     "data": {
      "image/png": "[encoded data removed]",
      "text/plain": [
       "<Figure size 1000x500 with 1 Axes>"
      ]
     },
     "metadata": {},
     "output_type": "display_data"
    }
   ],
   "source": [
    "plt.figure(figsize=(10,5))\n",
    "plt.hist(df[df['label'] == 'spam']['nb_mots'], range=(0,80), bins=80, alpha=0.5, label='spam')\n",
    "plt.hist(df[df['label'] == 'ham']['nb_mots'], range=(0,80), bins=80, alpha=0.5, label='ham')\n",
    "plt.legend(loc='upper right')\n",
    "plt.show()"
   ]
  },
  {
   "cell_type": "code",
   "execution_count": 48,
   "id": "668e23e8-069f-4d6f-9f94-239a98c8fa17",
   "metadata": {
    "colab": {
     "base_uri": "https://localhost:8080/"
    },
    "executionInfo": {
     "elapsed": 4,
     "status": "ok",
     "timestamp": 1736505539283,
     "user": {
      "displayName": "Cyril",
      "userId": "12507562464753876791"
     },
     "user_tz": -60
    },
    "id": "grOf3d2cbFx6",
    "outputId": "e743416d-7262-4793-9cff-af877ebf4a08"
   },
   "outputs": [
    {
     "name": "stdout",
     "output_type": "stream",
     "text": [
      "La longueur moyenne des messages ham est de 14.25 mots.\n",
      "La longueur moyenne des messages spam est de 23.74 mots.\n"
     ]
    }
   ],
   "source": [
    "ham_nb_moyen_mots = df[df['label'] == 'ham']['nb_mots'].mean()\n",
    "spam_nb_moyen_mots = df[df['label'] == 'spam']['nb_mots'].mean()\n",
    "print(f\"La longueur moyenne des messages ham est de {round(ham_nb_moyen_mots, 2)} mots.\")\n",
    "print(f\"La longueur moyenne des messages spam est de {round(spam_nb_moyen_mots, 2)} mots.\")"
   ]
  },
  {
   "cell_type": "code",
   "execution_count": 49,
   "id": "1b774463-f7fc-4fb7-a215-1e4ef3add436",
   "metadata": {
    "colab": {
     "base_uri": "https://localhost:8080/",
     "height": 142
    },
    "executionInfo": {
     "elapsed": 3,
     "status": "ok",
     "timestamp": 1736505539283,
     "user": {
      "displayName": "Cyril",
      "userId": "12507562464753876791"
     },
     "user_tz": -60
    },
    "id": "xuOmx13p8BA-",
    "outputId": "446ccb99-d9c4-49cd-8906-7c532df957c6"
   },
   "outputs": [
    {
     "data": {
      "text/html": [
       "<div>\n",
       "<style scoped>\n",
       "    .dataframe tbody tr th:only-of-type {\n",
       "        vertical-align: middle;\n",
       "    }\n",
       "\n",
       "    .dataframe tbody tr th {\n",
       "        vertical-align: top;\n",
       "    }\n",
       "\n",
       "    .dataframe thead th {\n",
       "        text-align: right;\n",
       "    }\n",
       "</style>\n",
       "<table border=\"1\" class=\"dataframe\">\n",
       "  <thead>\n",
       "    <tr style=\"text-align: right;\">\n",
       "      <th></th>\n",
       "      <th>count</th>\n",
       "      <th>mean</th>\n",
       "      <th>std</th>\n",
       "      <th>min</th>\n",
       "      <th>25%</th>\n",
       "      <th>50%</th>\n",
       "      <th>75%</th>\n",
       "      <th>max</th>\n",
       "    </tr>\n",
       "    <tr>\n",
       "      <th>label</th>\n",
       "      <th></th>\n",
       "      <th></th>\n",
       "      <th></th>\n",
       "      <th></th>\n",
       "      <th></th>\n",
       "      <th></th>\n",
       "      <th></th>\n",
       "      <th></th>\n",
       "    </tr>\n",
       "  </thead>\n",
       "  <tbody>\n",
       "    <tr>\n",
       "      <th>ham</th>\n",
       "      <td>4518.0</td>\n",
       "      <td>70.894865</td>\n",
       "      <td>56.590179</td>\n",
       "      <td>2.0</td>\n",
       "      <td>34.0</td>\n",
       "      <td>53.0</td>\n",
       "      <td>91.0</td>\n",
       "      <td>910.0</td>\n",
       "    </tr>\n",
       "    <tr>\n",
       "      <th>spam</th>\n",
       "      <td>652.0</td>\n",
       "      <td>137.710123</td>\n",
       "      <td>29.841831</td>\n",
       "      <td>13.0</td>\n",
       "      <td>132.0</td>\n",
       "      <td>148.0</td>\n",
       "      <td>157.0</td>\n",
       "      <td>223.0</td>\n",
       "    </tr>\n",
       "  </tbody>\n",
       "</table>\n",
       "</div>"
      ],
      "text/plain": [
       "        count        mean        std   min    25%    50%    75%    max\n",
       "label                                                                 \n",
       "ham    4518.0   70.894865  56.590179   2.0   34.0   53.0   91.0  910.0\n",
       "spam    652.0  137.710123  29.841831  13.0  132.0  148.0  157.0  223.0"
      ]
     },
     "execution_count": 49,
     "metadata": {},
     "output_type": "execute_result"
    }
   ],
   "source": [
    "#Plus synthetiquement...\n",
    "df.groupby('label')['nb_caracteres'].describe()"
   ]
  },
  {
   "cell_type": "code",
   "execution_count": 50,
   "id": "7420ffa0-05e8-4896-9b9b-433281e98956",
   "metadata": {
    "colab": {
     "base_uri": "https://localhost:8080/",
     "height": 488
    },
    "executionInfo": {
     "elapsed": 3,
     "status": "ok",
     "timestamp": 1736505539692,
     "user": {
      "displayName": "Cyril",
      "userId": "12507562464753876791"
     },
     "user_tz": -60
    },
    "id": "oNJ1LaDi_pFD",
    "outputId": "8727975a-38c6-4787-c2fe-8c6bc3911f95"
   },
   "outputs": [
    {
     "data": {
      "image/png": "[encoded data removed]",
      "text/plain": [
       "<Figure size 1500x500 with 1 Axes>"
      ]
     },
     "metadata": {},
     "output_type": "display_data"
    }
   ],
   "source": [
    "import seaborn as sns\n",
    "import matplotlib.pyplot as plt\n",
    "\n",
    "# Création de la figure et des axes\n",
    "fig, ax = plt.subplots(figsize=(15, 5))\n",
    "\n",
    "# Création du boxplot avec Seaborn\n",
    "# orient='h' : orientation horizontale du boxplot\n",
    "# ax=ax : indique à Seaborn d'utiliser les axes 'ax' que nous avons créés\n",
    "sns.boxplot(x='nb_caracteres', y='label', data=df, orient='h', ax=ax)\n",
    "\n",
    "ax.set_title('Distribution de la longueur des messages par label')\n",
    "ax.set_xlabel('Longueur du message (nombre de caractères)')\n",
    "ax.set_ylabel('Label')\n",
    "\n",
    "plt.show()"
   ]
  },
  {
   "cell_type": "markdown",
   "id": "c5d408a7-79eb-4494-ab80-b2078d60f631",
   "metadata": {},
   "source": [
    "## Analyse de la frequence des chiffres"
   ]
  },
  {
   "cell_type": "code",
   "execution_count": 52,
   "id": "19b087dd-e139-4312-b403-c919a9990650",
   "metadata": {
    "executionInfo": {
     "elapsed": 196,
     "status": "ok",
     "timestamp": 1736513844549,
     "user": {
      "displayName": "Cyril",
      "userId": "12507562464753876791"
     },
     "user_tz": -60
    },
    "id": "UzA24c_VKRdt"
   },
   "outputs": [],
   "source": [
    "# On va faire une analyse de la frequence des chiffres\n",
    "import re\n",
    "\n",
    "def contient_chiffre(text):\n",
    "    return bool(re.search(r\"\\d\", text))\n",
    "\n",
    "# On crée une colonne 'chiffres' de booleens\n",
    "df['chiffres'] = df['msg'].apply(contient_chiffre)"
   ]
  },
  {
   "cell_type": "code",
   "execution_count": 53,
   "id": "b4468381-6db1-4afb-b124-38d07dcd9514",
   "metadata": {
    "colab": {
     "base_uri": "https://localhost:8080/",
     "height": 238
    },
    "executionInfo": {
     "elapsed": 3,
     "status": "ok",
     "timestamp": 1736513845224,
     "user": {
      "displayName": "Cyril",
      "userId": "12507562464753876791"
     },
     "user_tz": -60
    },
    "id": "TN0r8eqafY_A",
    "outputId": "3e035bfc-8b39-4988-dfba-f34b930f9ded"
   },
   "outputs": [
    {
     "data": {
      "text/plain": [
       "label  chiffres\n",
       "ham    False       3803\n",
       "       True         715\n",
       "spam   True         613\n",
       "       False         39\n",
       "Name: count, dtype: int64"
      ]
     },
     "execution_count": 53,
     "metadata": {},
     "output_type": "execute_result"
    }
   ],
   "source": [
    "df.groupby('label')['chiffres'].value_counts()"
   ]
  },
  {
   "cell_type": "code",
   "execution_count": 54,
   "id": "2026d5d6-3538-4104-b155-e282efb40b4c",
   "metadata": {
    "colab": {
     "base_uri": "https://localhost:8080/",
     "height": 142
    },
    "executionInfo": {
     "elapsed": 205,
     "status": "ok",
     "timestamp": 1736513845721,
     "user": {
      "displayName": "Cyril",
      "userId": "12507562464753876791"
     },
     "user_tz": -60
    },
    "id": "w_9UYhn7gCIZ",
    "outputId": "36acf060-0b98-431b-bf16-4f9b13ad93d6"
   },
   "outputs": [
    {
     "data": {
      "text/html": [
       "<div>\n",
       "<style scoped>\n",
       "    .dataframe tbody tr th:only-of-type {\n",
       "        vertical-align: middle;\n",
       "    }\n",
       "\n",
       "    .dataframe tbody tr th {\n",
       "        vertical-align: top;\n",
       "    }\n",
       "\n",
       "    .dataframe thead th {\n",
       "        text-align: right;\n",
       "    }\n",
       "</style>\n",
       "<table border=\"1\" class=\"dataframe\">\n",
       "  <thead>\n",
       "    <tr style=\"text-align: right;\">\n",
       "      <th>chiffres</th>\n",
       "      <th>False</th>\n",
       "      <th>True</th>\n",
       "    </tr>\n",
       "    <tr>\n",
       "      <th>label</th>\n",
       "      <th></th>\n",
       "      <th></th>\n",
       "    </tr>\n",
       "  </thead>\n",
       "  <tbody>\n",
       "    <tr>\n",
       "      <th>ham</th>\n",
       "      <td>0.841744</td>\n",
       "      <td>0.158256</td>\n",
       "    </tr>\n",
       "    <tr>\n",
       "      <th>spam</th>\n",
       "      <td>0.059816</td>\n",
       "      <td>0.940184</td>\n",
       "    </tr>\n",
       "  </tbody>\n",
       "</table>\n",
       "</div>"
      ],
      "text/plain": [
       "chiffres     False     True \n",
       "label                       \n",
       "ham       0.841744  0.158256\n",
       "spam      0.059816  0.940184"
      ]
     },
     "execution_count": 54,
     "metadata": {},
     "output_type": "execute_result"
    }
   ],
   "source": [
    "proportions = df.groupby('label')['chiffres'].value_counts(normalize=True).unstack()\n",
    "proportions"
   ]
  },
  {
   "cell_type": "code",
   "execution_count": 55,
   "id": "176929ee-82c4-41c7-bca0-ea85e32550f8",
   "metadata": {
    "colab": {
     "base_uri": "https://localhost:8080/",
     "height": 512
    },
    "executionInfo": {
     "elapsed": 582,
     "status": "ok",
     "timestamp": 1736513847380,
     "user": {
      "displayName": "Cyril",
      "userId": "12507562464753876791"
     },
     "user_tz": -60
    },
    "id": "JMDyZl4vg0x9",
    "outputId": "aa5dcac7-1dee-4f22-aaac-bd395fc55170"
   },
   "outputs": [
    {
     "data": {
      "image/png": "[encoded data removed]",
      "text/plain": [
       "<Figure size 1000x500 with 2 Axes>"
      ]
     },
     "metadata": {},
     "output_type": "display_data"
    }
   ],
   "source": [
    "def display_percentage(p):\n",
    "    return f'{p:.1f}%'\n",
    "\n",
    "\n",
    "\n",
    "fig, axes = plt.subplots(1, 2, figsize=(10, 5))  # 1 ligne, 2 colonnes de graphiques\n",
    "\n",
    "# Camembert pour les messages 'ham'\n",
    "axes[0].pie(proportions.loc['ham'].values, labels=proportions.loc['ham'].index, autopct=display_percentage, startangle=90)\n",
    "axes[0].set_title('ham')\n",
    "axes[0].axis('equal')\n",
    "\n",
    "# Camembert pour les messages 'spam'\n",
    "axes[1].pie(proportions.loc['spam'].values, labels=proportions.loc['ham'].index, autopct=display_percentage, startangle=90)\n",
    "axes[1].set_title('spam')\n",
    "axes[0].axis('equal')\n",
    "\n",
    "# Titre global et ajustement de la mise en page\n",
    "fig.suptitle('Proportion de messages avec (True) / sans (False) chiffres par label')\n",
    "plt.tight_layout()\n",
    "plt.show()"
   ]
  },
  {
   "cell_type": "markdown",
   "id": "655d8801-2244-487c-a35d-1e3fa6f0d548",
   "metadata": {},
   "source": [
    "# Modeles ML"
   ]
  },
  {
   "cell_type": "markdown",
   "id": "952d0257-7393-4752-baa2-f1c02837197c",
   "metadata": {},
   "source": [
    "## Premiers tests rapides CountVectorizer et SVC"
   ]
  },
  {
   "cell_type": "code",
   "execution_count": 58,
   "id": "f005059c-9bb8-4f3b-b686-7df96a598613",
   "metadata": {
    "colab": {
     "base_uri": "https://localhost:8080/"
    },
    "executionInfo": {
     "elapsed": 721,
     "status": "ok",
     "timestamp": 1736523331598,
     "user": {
      "displayName": "Cyril",
      "userId": "12507562464753876791"
     },
     "user_tz": -60
    },
    "id": "24jF9_L27UAq",
    "outputId": "3c341462-bda0-4001-9394-239fc1eeb5a0"
   },
   "outputs": [
    {
     "name": "stdout",
     "output_type": "stream",
     "text": [
      "(5170, 8712)\n",
      "[[0 0 0 ... 0 0 0]\n",
      " [0 0 0 ... 0 0 0]\n",
      " [0 0 0 ... 0 0 0]\n",
      " ...\n",
      " [0 0 0 ... 0 0 0]\n",
      " [0 0 0 ... 0 0 0]\n",
      " [0 0 0 ... 0 0 0]]\n"
     ]
    }
   ],
   "source": [
    "# Vectorisation\n",
    "from sklearn.feature_extraction.text import CountVectorizer\n",
    "vectorizer = CountVectorizer()\n",
    "X = vectorizer.fit_transform(df['msg'])\n",
    "vectorizer.get_feature_names_out()\n",
    "print(X.toarray().shape)\n",
    "print(X.toarray())"
   ]
  },
  {
   "cell_type": "code",
   "execution_count": 59,
   "id": "ae6fef8b-f63d-440d-88ca-38961868603b",
   "metadata": {
    "executionInfo": {
     "elapsed": 257,
     "status": "ok",
     "timestamp": 1736523333338,
     "user": {
      "displayName": "Cyril",
      "userId": "12507562464753876791"
     },
     "user_tz": -60
    },
    "id": "zul6pKShQdyq"
   },
   "outputs": [],
   "source": [
    " # Split du dataset : train & test\n",
    "\n",
    "from sklearn.model_selection import train_test_split\n",
    "\n",
    "features_train, features_test, labels_train, labels_test = train_test_split(\n",
    "X, df['label'], test_size=0.20, random_state=1)"
   ]
  },
  {
   "cell_type": "code",
   "execution_count": 60,
   "id": "1c071501-5a16-4062-af47-8b9bb9fa75f6",
   "metadata": {
    "colab": {
     "base_uri": "https://localhost:8080/"
    },
    "executionInfo": {
     "elapsed": 1615,
     "status": "ok",
     "timestamp": 1736523336791,
     "user": {
      "displayName": "Cyril",
      "userId": "12507562464753876791"
     },
     "user_tz": -60
    },
    "id": "lc6X1zEGQ8J0",
    "outputId": "8b5a16fa-38fa-409b-9334-6035397c10ca"
   },
   "outputs": [
    {
     "name": "stdout",
     "output_type": "stream",
     "text": [
      "Précision entrainement: 0.9997582205029013\n"
     ]
    }
   ],
   "source": [
    "#Test SVC\n",
    "my_SVCmodel = SVC(kernel = 'linear', C = 1).fit(features_train, labels_train)\n",
    "my_SVCmodel_predictions = my_SVCmodel.predict(features_train)\n",
    "accuracy= my_SVCmodel.score(features_train, labels_train)\n",
    "print(\"Précision entrainement:\",accuracy)\n"
   ]
  },
  {
   "cell_type": "code",
   "execution_count": 61,
   "id": "d7860621-f8c0-441b-a04d-6db4e3154581",
   "metadata": {
    "colab": {
     "base_uri": "https://localhost:8080/"
    },
    "executionInfo": {
     "elapsed": 992,
     "status": "ok",
     "timestamp": 1736513764191,
     "user": {
      "displayName": "Cyril",
      "userId": "12507562464753876791"
     },
     "user_tz": -60
    },
    "id": "eTVDdUdRRAEh",
    "outputId": "97130e56-3fb1-4c31-937c-d7aeb4d69c56"
   },
   "outputs": [
    {
     "name": "stdout",
     "output_type": "stream",
     "text": [
      "Précision du test: 0.9845261121856866\n"
     ]
    }
   ],
   "source": [
    "my_SVCmodel_predictions = my_SVCmodel.predict(features_test)\n",
    "accuracy= my_SVCmodel.score(features_test, labels_test)\n",
    "print(\"Précision du test:\",accuracy)"
   ]
  },
  {
   "cell_type": "code",
   "execution_count": 62,
   "id": "be3307f8-938e-4835-933f-f7f5fc778c92",
   "metadata": {
    "colab": {
     "base_uri": "https://localhost:8080/",
     "height": 466
    },
    "executionInfo": {
     "elapsed": 949,
     "status": "ok",
     "timestamp": 1736513787794,
     "user": {
      "displayName": "Cyril",
      "userId": "12507562464753876791"
     },
     "user_tz": -60
    },
    "id": "EoGjcmb-STZP",
    "outputId": "52f6aed3-4937-4948-ac12-187a874aa32e"
   },
   "outputs": [
    {
     "data": {
      "text/plain": [
       "<sklearn.metrics._plot.confusion_matrix.ConfusionMatrixDisplay at 0x16920acf0>"
      ]
     },
     "execution_count": 62,
     "metadata": {},
     "output_type": "execute_result"
    },
    {
     "data": {
      "image/png": "[encoded data removed]",
      "text/plain": [
       "<Figure size 640x480 with 2 Axes>"
      ]
     },
     "metadata": {},
     "output_type": "display_data"
    }
   ],
   "source": [
    "cm = confusion_matrix(my_SVCmodel_predictions, labels_test)\n",
    "display = ConfusionMatrixDisplay(cm, display_labels = ['ham', 'spam'])\n",
    "display.plot()"
   ]
  },
  {
   "cell_type": "code",
   "execution_count": 63,
   "id": "73557a8c-cd15-4c71-99cd-4c6f7d816e5d",
   "metadata": {
    "colab": {
     "base_uri": "https://localhost:8080/"
    },
    "executionInfo": {
     "elapsed": 22582,
     "status": "ok",
     "timestamp": 1736524667344,
     "user": {
      "displayName": "Cyril",
      "userId": "12507562464753876791"
     },
     "user_tz": -60
    },
    "id": "tBBCykl6vFmy",
    "outputId": "ce28a2d3-5157-4769-daa7-6c48d00ecb3c"
   },
   "outputs": [
    {
     "name": "stdout",
     "output_type": "stream",
     "text": [
      "taille de l'echantillon de test :  0.1\n",
      "feature_test :  (517, 8712)\n",
      "label\n",
      "ham     0.903288\n",
      "spam    0.096712\n",
      "Name: proportion, dtype: float64\n",
      "feature_train :  (4653, 8712)\n",
      "label\n",
      "ham     0.870621\n",
      "spam    0.129379\n",
      "Name: proportion, dtype: float64\n",
      "Précision entrainement : 1.0 Précision du test : 0.9903288201160542\n",
      "[[467   5]\n",
      " [  0  45]]\n",
      "\n",
      "taille de l'echantillon de test :  0.15\n",
      "feature_test :  (776, 8712)\n",
      "label\n",
      "ham     0.903351\n",
      "spam    0.096649\n",
      "Name: proportion, dtype: float64\n",
      "feature_train :  (4394, 8712)\n",
      "label\n",
      "ham     0.868685\n",
      "spam    0.131315\n",
      "Name: proportion, dtype: float64\n",
      "Précision entrainement : 1.0 Précision du test : 0.9871134020618557\n",
      "[[700   9]\n",
      " [  1  66]]\n",
      "\n",
      "taille de l'echantillon de test :  0.2\n",
      "feature_test :  (1034, 8712)\n",
      "label\n",
      "ham     0.889749\n",
      "spam    0.110251\n",
      "Name: proportion, dtype: float64\n",
      "feature_train :  (4136, 8712)\n",
      "label\n",
      "ham     0.869923\n",
      "spam    0.130077\n",
      "Name: proportion, dtype: float64\n",
      "Précision entrainement : 1.0 Précision du test : 0.9845261121856866\n",
      "[[920  16]\n",
      " [  0  98]]\n",
      "\n",
      "taille de l'echantillon de test :  0.25\n",
      "feature_test :  (1293, 8712)\n",
      "label\n",
      "ham     0.885538\n",
      "spam    0.114462\n",
      "Name: proportion, dtype: float64\n",
      "feature_train :  (3877, 8712)\n",
      "label\n",
      "ham     0.870003\n",
      "spam    0.129997\n",
      "Name: proportion, dtype: float64\n",
      "Précision entrainement : 1.0 Précision du test : 0.9845320959010054\n",
      "[[1145   20]\n",
      " [   0  128]]\n",
      "\n",
      "taille de l'echantillon de test :  0.3\n",
      "feature_test :  (1551, 8712)\n",
      "label\n",
      "ham     0.872985\n",
      "spam    0.127015\n",
      "Name: proportion, dtype: float64\n",
      "feature_train :  (3619, 8712)\n",
      "label\n",
      "ham     0.874275\n",
      "spam    0.125725\n",
      "Name: proportion, dtype: float64\n",
      "Précision entrainement : 1.0 Précision du test : 0.9832366215344939\n",
      "[[1354   26]\n",
      " [   0  171]]\n",
      "\n",
      "taille de l'echantillon de test :  0.35\n",
      "feature_test :  (1810, 8712)\n",
      "label\n",
      "ham     0.872376\n",
      "spam    0.127624\n",
      "Name: proportion, dtype: float64\n",
      "feature_train :  (3360, 8712)\n",
      "label\n",
      "ham     0.874702\n",
      "spam    0.125298\n",
      "Name: proportion, dtype: float64\n",
      "Précision entrainement : 1.0 Précision du test : 0.9828729281767956\n",
      "[[1578   30]\n",
      " [   1  201]]\n",
      "\n",
      "taille de l'echantillon de test :  0.4\n",
      "feature_test :  (2068, 8712)\n",
      "label\n",
      "ham     0.873791\n",
      "spam    0.126209\n",
      "Name: proportion, dtype: float64\n",
      "feature_train :  (3102, 8712)\n",
      "label\n",
      "ham     0.873952\n",
      "spam    0.126048\n",
      "Name: proportion, dtype: float64\n",
      "Précision entrainement : 1.0 Précision du test : 0.9806576402321083\n",
      "[[1804   37]\n",
      " [   3  224]]\n",
      "\n",
      "taille de l'echantillon de test :  0.45\n",
      "feature_test :  (2327, 8712)\n",
      "label\n",
      "ham     0.877954\n",
      "spam    0.122046\n",
      "Name: proportion, dtype: float64\n",
      "feature_train :  (2843, 8712)\n",
      "label\n",
      "ham     0.870559\n",
      "spam    0.129441\n",
      "Name: proportion, dtype: float64\n",
      "Précision entrainement : 1.0 Précision du test : 0.9810915341641598\n",
      "[[2039   40]\n",
      " [   4  244]]\n",
      "\n",
      "taille de l'echantillon de test :  0.5\n",
      "feature_test :  (2585, 8712)\n",
      "label\n",
      "ham     0.876209\n",
      "spam    0.123791\n",
      "Name: proportion, dtype: float64\n",
      "feature_train :  (2585, 8712)\n",
      "label\n",
      "ham     0.871567\n",
      "spam    0.128433\n",
      "Name: proportion, dtype: float64\n",
      "Précision entrainement : 1.0 Précision du test : 0.9798839458413926\n",
      "[[2260   47]\n",
      " [   5  273]]\n",
      "\n",
      "taille de l'echantillon de test :  0.55\n",
      "feature_test :  (2844, 8712)\n",
      "label\n",
      "ham     0.877286\n",
      "spam    0.122714\n",
      "Name: proportion, dtype: float64\n",
      "feature_train :  (2326, 8712)\n",
      "label\n",
      "ham     0.869733\n",
      "spam    0.130267\n",
      "Name: proportion, dtype: float64\n",
      "Précision entrainement : 1.0 Précision du test : 0.9796061884669479\n",
      "[[2490   53]\n",
      " [   5  296]]\n",
      "\n",
      "taille de l'echantillon de test :  0.6\n",
      "feature_test :  (3102, 8712)\n",
      "label\n",
      "ham     0.876209\n",
      "spam    0.123791\n",
      "Name: proportion, dtype: float64\n",
      "feature_train :  (2068, 8712)\n",
      "label\n",
      "ham     0.870406\n",
      "spam    0.129594\n",
      "Name: proportion, dtype: float64\n",
      "Précision entrainement : 1.0 Précision du test : 0.9774339136041263\n",
      "[[2715   67]\n",
      " [   3  317]]\n",
      "\n",
      "taille de l'echantillon de test :  0.65\n",
      "feature_test :  (3361, 8712)\n",
      "label\n",
      "ham     0.878012\n",
      "spam    0.121988\n",
      "Name: proportion, dtype: float64\n",
      "feature_train :  (1809, 8712)\n",
      "label\n",
      "ham     0.866224\n",
      "spam    0.133776\n",
      "Name: proportion, dtype: float64\n",
      "Précision entrainement : 1.0 Précision du test : 0.9767926212436775\n",
      "[[2946   73]\n",
      " [   5  337]]\n",
      "\n",
      "taille de l'echantillon de test :  0.7\n",
      "feature_test :  (3619, 8712)\n",
      "label\n",
      "ham     0.875933\n",
      "spam    0.124067\n",
      "Name: proportion, dtype: float64\n",
      "feature_train :  (1551, 8712)\n",
      "label\n",
      "ham     0.869117\n",
      "spam    0.130883\n",
      "Name: proportion, dtype: float64\n",
      "Précision entrainement : 1.0 Précision du test : 0.9765128488532744\n",
      "[[3161   76]\n",
      " [   9  373]]\n",
      "\n",
      "taille de l'echantillon de test :  0.75\n",
      "feature_test :  (3878, 8712)\n",
      "label\n",
      "ham     0.878546\n",
      "spam    0.121454\n",
      "Name: proportion, dtype: float64\n",
      "feature_train :  (1292, 8712)\n",
      "label\n",
      "ham     0.859907\n",
      "spam    0.140093\n",
      "Name: proportion, dtype: float64\n",
      "Précision entrainement : 1.0 Précision du test : 0.9752449716348633\n",
      "[[3397   86]\n",
      " [  10  385]]\n",
      "\n",
      "taille de l'echantillon de test :  0.8\n",
      "feature_test :  (4136, 8712)\n",
      "label\n",
      "ham     0.87766\n",
      "spam    0.12234\n",
      "Name: proportion, dtype: float64\n",
      "feature_train :  (1034, 8712)\n",
      "label\n",
      "ham     0.858801\n",
      "spam    0.141199\n",
      "Name: proportion, dtype: float64\n",
      "Précision entrainement : 1.0 Précision du test : 0.9736460348162476\n",
      "[[3620   99]\n",
      " [  10  407]]\n",
      "\n",
      "taille de l'echantillon de test :  0.85\n",
      "feature_test :  (4395, 8712)\n",
      "label\n",
      "ham     0.877816\n",
      "spam    0.122184\n",
      "Name: proportion, dtype: float64\n",
      "feature_train :  (775, 8712)\n",
      "label\n",
      "ham     0.851613\n",
      "spam    0.148387\n",
      "Name: proportion, dtype: float64\n",
      "Précision entrainement : 1.0 Précision du test : 0.9708759954493743\n",
      "[[3846  116]\n",
      " [  12  421]]\n",
      "\n"
     ]
    }
   ],
   "source": [
    " # On va tester la taille des set test et train avec une variation de 5%\n",
    "vectorizer = CountVectorizer()\n",
    "X = vectorizer.fit_transform(df['msg'])\n",
    "\n",
    "for size in range(10, 90, 5):\n",
    "  print(\"taille de l'echantillon de test : \",size/100)\n",
    "  features_train, features_test, labels_train, labels_test = train_test_split(\n",
    "X, df['label'], test_size=size/100, random_state=1)\n",
    "\n",
    "  print(\"feature_test : \",features_test.shape)\n",
    "  print(labels_test.value_counts(normalize=True))\n",
    "  print(\"feature_train : \",features_train.shape)\n",
    "  print(labels_train.value_counts(normalize=True))\n",
    "\n",
    "\n",
    "  my_SVCmodel = SVC(kernel = 'linear', C = 2).fit(features_train, labels_train)\n",
    "  my_SVCmodel_predictions = my_SVCmodel.predict(features_train)\n",
    "  accuracy_train= my_SVCmodel.score(features_train, labels_train)\n",
    "  my_SVCmodel_predictions = my_SVCmodel.predict(features_test)\n",
    "  accuracy_test= my_SVCmodel.score(features_test, labels_test)\n",
    "  print(f\"Précision entrainement : {accuracy_train} Précision du test : {accuracy_test}\")\n",
    "  cm = confusion_matrix(my_SVCmodel_predictions, labels_test)\n",
    "  print(cm)\n",
    "  print()"
   ]
  },
  {
   "cell_type": "markdown",
   "id": "390cf681-ead7-41f0-a2e2-3ae3b594d572",
   "metadata": {},
   "source": [
    "**Remarque :**  \n",
    "*Plus la taille de l'ehcantillon d'entrainement est grande plus grande est la precision mais je pense que c'est dû à un surentrainement. Dans le doute je me conforme aux valeurs usuelles du train_test_split avec un test_size de 20%.*"
   ]
  },
  {
   "cell_type": "markdown",
   "id": "e01cef83-1ed5-4025-8b3a-dbfa9b9bb9f2",
   "metadata": {},
   "source": [
    "## Utilisation des pipelines"
   ]
  },
  {
   "cell_type": "code",
   "execution_count": 66,
   "id": "250c3f97-d4dd-468a-8406-d4f15b7fd2ea",
   "metadata": {},
   "outputs": [],
   "source": [
    "from sklearn.model_selection import train_test_split\n",
    "\n",
    "from sklearn.preprocessing import LabelBinarizer\n",
    "\n",
    "from sklearn.feature_extraction.text import CountVectorizer\n",
    "from sklearn.feature_extraction.text import HashingVectorizer\n",
    "from sklearn.feature_extraction.text import TfidfVectorizer\n",
    "\n",
    "from sklearn.svm import SVC\n",
    "\n",
    "\n",
    "from sklearn.pipeline import make_pipeline\n",
    "\n",
    "from sklearn.metrics import confusion_matrix, ConfusionMatrixDisplay\n",
    "\n"
   ]
  },
  {
   "cell_type": "code",
   "execution_count": 67,
   "id": "e9349d6b-1445-4572-83d5-0b69bcaee41d",
   "metadata": {},
   "outputs": [],
   "source": [
    "# Dataset split\n",
    "\n",
    "lb = LabelBinarizer()\n",
    "\n",
    "y = lb.fit_transform(df.label)\n",
    "X = df.msg\n",
    "\n",
    "X_train, X_test, y_train, y_test = train_test_split(X, y, test_size=0.20, random_state=0)"
   ]
  },
  {
   "cell_type": "code",
   "execution_count": 68,
   "id": "96637995-d748-4d0c-b462-7830cbdaf9d3",
   "metadata": {},
   "outputs": [
    {
     "data": {
      "text/html": [
       "<style>#sk-container-id-1 {\n",
       "  /* Definition of color scheme common for light and dark mode */\n",
       "  --sklearn-color-text: black;\n",
       "  --sklearn-color-line: gray;\n",
       "  /* Definition of color scheme for unfitted estimators */\n",
       "  --sklearn-color-unfitted-level-0: #fff5e6;\n",
       "  --sklearn-color-unfitted-level-1: #f6e4d2;\n",
       "  --sklearn-color-unfitted-level-2: #ffe0b3;\n",
       "  --sklearn-color-unfitted-level-3: chocolate;\n",
       "  /* Definition of color scheme for fitted estimators */\n",
       "  --sklearn-color-fitted-level-0: #f0f8ff;\n",
       "  --sklearn-color-fitted-level-1: #d4ebff;\n",
       "  --sklearn-color-fitted-level-2: #b3dbfd;\n",
       "  --sklearn-color-fitted-level-3: cornflowerblue;\n",
       "\n",
       "  /* Specific color for light theme */\n",
       "  --sklearn-color-text-on-default-background: var(--sg-text-color, var(--theme-code-foreground, var(--jp-content-font-color1, black)));\n",
       "  --sklearn-color-background: var(--sg-background-color, var(--theme-background, var(--jp-layout-color0, white)));\n",
       "  --sklearn-color-border-box: var(--sg-text-color, var(--theme-code-foreground, var(--jp-content-font-color1, black)));\n",
       "  --sklearn-color-icon: #696969;\n",
       "\n",
       "  @media (prefers-color-scheme: dark) {\n",
       "    /* Redefinition of color scheme for dark theme */\n",
       "    --sklearn-color-text-on-default-background: var(--sg-text-color, var(--theme-code-foreground, var(--jp-content-font-color1, white)));\n",
       "    --sklearn-color-background: var(--sg-background-color, var(--theme-background, var(--jp-layout-color0, #111)));\n",
       "    --sklearn-color-border-box: var(--sg-text-color, var(--theme-code-foreground, var(--jp-content-font-color1, white)));\n",
       "    --sklearn-color-icon: #878787;\n",
       "  }\n",
       "}\n",
       "\n",
       "#sk-container-id-1 {\n",
       "  color: var(--sklearn-color-text);\n",
       "}\n",
       "\n",
       "#sk-container-id-1 pre {\n",
       "  padding: 0;\n",
       "}\n",
       "\n",
       "#sk-container-id-1 input.sk-hidden--visually {\n",
       "  border: 0;\n",
       "  clip: rect(1px 1px 1px 1px);\n",
       "  clip: rect(1px, 1px, 1px, 1px);\n",
       "  height: 1px;\n",
       "  margin: -1px;\n",
       "  overflow: hidden;\n",
       "  padding: 0;\n",
       "  position: absolute;\n",
       "  width: 1px;\n",
       "}\n",
       "\n",
       "#sk-container-id-1 div.sk-dashed-wrapped {\n",
       "  border: 1px dashed var(--sklearn-color-line);\n",
       "  margin: 0 0.4em 0.5em 0.4em;\n",
       "  box-sizing: border-box;\n",
       "  padding-bottom: 0.4em;\n",
       "  background-color: var(--sklearn-color-background);\n",
       "}\n",
       "\n",
       "#sk-container-id-1 div.sk-container {\n",
       "  /* jupyter's `normalize.less` sets `[hidden] { display: none; }`\n",
       "     but bootstrap.min.css set `[hidden] { display: none !important; }`\n",
       "     so we also need the `!important` here to be able to override the\n",
       "     default hidden behavior on the sphinx rendered scikit-learn.org.\n",
       "     See: https://github.com/scikit-learn/scikit-learn/issues/21755 */\n",
       "  display: inline-block !important;\n",
       "  position: relative;\n",
       "}\n",
       "\n",
       "#sk-container-id-1 div.sk-text-repr-fallback {\n",
       "  display: none;\n",
       "}\n",
       "\n",
       "div.sk-parallel-item,\n",
       "div.sk-serial,\n",
       "div.sk-item {\n",
       "  /* draw centered vertical line to link estimators */\n",
       "  background-image: linear-gradient(var(--sklearn-color-text-on-default-background), var(--sklearn-color-text-on-default-background));\n",
       "  background-size: 2px 100%;\n",
       "  background-repeat: no-repeat;\n",
       "  background-position: center center;\n",
       "}\n",
       "\n",
       "/* Parallel-specific style estimator block */\n",
       "\n",
       "#sk-container-id-1 div.sk-parallel-item::after {\n",
       "  content: \"\";\n",
       "  width: 100%;\n",
       "  border-bottom: 2px solid var(--sklearn-color-text-on-default-background);\n",
       "  flex-grow: 1;\n",
       "}\n",
       "\n",
       "#sk-container-id-1 div.sk-parallel {\n",
       "  display: flex;\n",
       "  align-items: stretch;\n",
       "  justify-content: center;\n",
       "  background-color: var(--sklearn-color-background);\n",
       "  position: relative;\n",
       "}\n",
       "\n",
       "#sk-container-id-1 div.sk-parallel-item {\n",
       "  display: flex;\n",
       "  flex-direction: column;\n",
       "}\n",
       "\n",
       "#sk-container-id-1 div.sk-parallel-item:first-child::after {\n",
       "  align-self: flex-end;\n",
       "  width: 50%;\n",
       "}\n",
       "\n",
       "#sk-container-id-1 div.sk-parallel-item:last-child::after {\n",
       "  align-self: flex-start;\n",
       "  width: 50%;\n",
       "}\n",
       "\n",
       "#sk-container-id-1 div.sk-parallel-item:only-child::after {\n",
       "  width: 0;\n",
       "}\n",
       "\n",
       "/* Serial-specific style estimator block */\n",
       "\n",
       "#sk-container-id-1 div.sk-serial {\n",
       "  display: flex;\n",
       "  flex-direction: column;\n",
       "  align-items: center;\n",
       "  background-color: var(--sklearn-color-background);\n",
       "  padding-right: 1em;\n",
       "  padding-left: 1em;\n",
       "}\n",
       "\n",
       "\n",
       "/* Toggleable style: style used for estimator/Pipeline/ColumnTransformer box that is\n",
       "clickable and can be expanded/collapsed.\n",
       "- Pipeline and ColumnTransformer use this feature and define the default style\n",
       "- Estimators will overwrite some part of the style using the `sk-estimator` class\n",
       "*/\n",
       "\n",
       "/* Pipeline and ColumnTransformer style (default) */\n",
       "\n",
       "#sk-container-id-1 div.sk-toggleable {\n",
       "  /* Default theme specific background. It is overwritten whether we have a\n",
       "  specific estimator or a Pipeline/ColumnTransformer */\n",
       "  background-color: var(--sklearn-color-background);\n",
       "}\n",
       "\n",
       "/* Toggleable label */\n",
       "#sk-container-id-1 label.sk-toggleable__label {\n",
       "  cursor: pointer;\n",
       "  display: block;\n",
       "  width: 100%;\n",
       "  margin-bottom: 0;\n",
       "  padding: 0.5em;\n",
       "  box-sizing: border-box;\n",
       "  text-align: center;\n",
       "}\n",
       "\n",
       "#sk-container-id-1 label.sk-toggleable__label-arrow:before {\n",
       "  /* Arrow on the left of the label */\n",
       "  content: \"▸\";\n",
       "  float: left;\n",
       "  margin-right: 0.25em;\n",
       "  color: var(--sklearn-color-icon);\n",
       "}\n",
       "\n",
       "#sk-container-id-1 label.sk-toggleable__label-arrow:hover:before {\n",
       "  color: var(--sklearn-color-text);\n",
       "}\n",
       "\n",
       "/* Toggleable content - dropdown */\n",
       "\n",
       "#sk-container-id-1 div.sk-toggleable__content {\n",
       "  max-height: 0;\n",
       "  max-width: 0;\n",
       "  overflow: hidden;\n",
       "  text-align: left;\n",
       "  /* unfitted */\n",
       "  background-color: var(--sklearn-color-unfitted-level-0);\n",
       "}\n",
       "\n",
       "#sk-container-id-1 div.sk-toggleable__content.fitted {\n",
       "  /* fitted */\n",
       "  background-color: var(--sklearn-color-fitted-level-0);\n",
       "}\n",
       "\n",
       "#sk-container-id-1 div.sk-toggleable__content pre {\n",
       "  margin: 0.2em;\n",
       "  border-radius: 0.25em;\n",
       "  color: var(--sklearn-color-text);\n",
       "  /* unfitted */\n",
       "  background-color: var(--sklearn-color-unfitted-level-0);\n",
       "}\n",
       "\n",
       "#sk-container-id-1 div.sk-toggleable__content.fitted pre {\n",
       "  /* unfitted */\n",
       "  background-color: var(--sklearn-color-fitted-level-0);\n",
       "}\n",
       "\n",
       "#sk-container-id-1 input.sk-toggleable__control:checked~div.sk-toggleable__content {\n",
       "  /* Expand drop-down */\n",
       "  max-height: 200px;\n",
       "  max-width: 100%;\n",
       "  overflow: auto;\n",
       "}\n",
       "\n",
       "#sk-container-id-1 input.sk-toggleable__control:checked~label.sk-toggleable__label-arrow:before {\n",
       "  content: \"▾\";\n",
       "}\n",
       "\n",
       "/* Pipeline/ColumnTransformer-specific style */\n",
       "\n",
       "#sk-container-id-1 div.sk-label input.sk-toggleable__control:checked~label.sk-toggleable__label {\n",
       "  color: var(--sklearn-color-text);\n",
       "  background-color: var(--sklearn-color-unfitted-level-2);\n",
       "}\n",
       "\n",
       "#sk-container-id-1 div.sk-label.fitted input.sk-toggleable__control:checked~label.sk-toggleable__label {\n",
       "  background-color: var(--sklearn-color-fitted-level-2);\n",
       "}\n",
       "\n",
       "/* Estimator-specific style */\n",
       "\n",
       "/* Colorize estimator box */\n",
       "#sk-container-id-1 div.sk-estimator input.sk-toggleable__control:checked~label.sk-toggleable__label {\n",
       "  /* unfitted */\n",
       "  background-color: var(--sklearn-color-unfitted-level-2);\n",
       "}\n",
       "\n",
       "#sk-container-id-1 div.sk-estimator.fitted input.sk-toggleable__control:checked~label.sk-toggleable__label {\n",
       "  /* fitted */\n",
       "  background-color: var(--sklearn-color-fitted-level-2);\n",
       "}\n",
       "\n",
       "#sk-container-id-1 div.sk-label label.sk-toggleable__label,\n",
       "#sk-container-id-1 div.sk-label label {\n",
       "  /* The background is the default theme color */\n",
       "  color: var(--sklearn-color-text-on-default-background);\n",
       "}\n",
       "\n",
       "/* On hover, darken the color of the background */\n",
       "#sk-container-id-1 div.sk-label:hover label.sk-toggleable__label {\n",
       "  color: var(--sklearn-color-text);\n",
       "  background-color: var(--sklearn-color-unfitted-level-2);\n",
       "}\n",
       "\n",
       "/* Label box, darken color on hover, fitted */\n",
       "#sk-container-id-1 div.sk-label.fitted:hover label.sk-toggleable__label.fitted {\n",
       "  color: var(--sklearn-color-text);\n",
       "  background-color: var(--sklearn-color-fitted-level-2);\n",
       "}\n",
       "\n",
       "/* Estimator label */\n",
       "\n",
       "#sk-container-id-1 div.sk-label label {\n",
       "  font-family: monospace;\n",
       "  font-weight: bold;\n",
       "  display: inline-block;\n",
       "  line-height: 1.2em;\n",
       "}\n",
       "\n",
       "#sk-container-id-1 div.sk-label-container {\n",
       "  text-align: center;\n",
       "}\n",
       "\n",
       "/* Estimator-specific */\n",
       "#sk-container-id-1 div.sk-estimator {\n",
       "  font-family: monospace;\n",
       "  border: 1px dotted var(--sklearn-color-border-box);\n",
       "  border-radius: 0.25em;\n",
       "  box-sizing: border-box;\n",
       "  margin-bottom: 0.5em;\n",
       "  /* unfitted */\n",
       "  background-color: var(--sklearn-color-unfitted-level-0);\n",
       "}\n",
       "\n",
       "#sk-container-id-1 div.sk-estimator.fitted {\n",
       "  /* fitted */\n",
       "  background-color: var(--sklearn-color-fitted-level-0);\n",
       "}\n",
       "\n",
       "/* on hover */\n",
       "#sk-container-id-1 div.sk-estimator:hover {\n",
       "  /* unfitted */\n",
       "  background-color: var(--sklearn-color-unfitted-level-2);\n",
       "}\n",
       "\n",
       "#sk-container-id-1 div.sk-estimator.fitted:hover {\n",
       "  /* fitted */\n",
       "  background-color: var(--sklearn-color-fitted-level-2);\n",
       "}\n",
       "\n",
       "/* Specification for estimator info (e.g. \"i\" and \"?\") */\n",
       "\n",
       "/* Common style for \"i\" and \"?\" */\n",
       "\n",
       ".sk-estimator-doc-link,\n",
       "a:link.sk-estimator-doc-link,\n",
       "a:visited.sk-estimator-doc-link {\n",
       "  float: right;\n",
       "  font-size: smaller;\n",
       "  line-height: 1em;\n",
       "  font-family: monospace;\n",
       "  background-color: var(--sklearn-color-background);\n",
       "  border-radius: 1em;\n",
       "  height: 1em;\n",
       "  width: 1em;\n",
       "  text-decoration: none !important;\n",
       "  margin-left: 1ex;\n",
       "  /* unfitted */\n",
       "  border: var(--sklearn-color-unfitted-level-1) 1pt solid;\n",
       "  color: var(--sklearn-color-unfitted-level-1);\n",
       "}\n",
       "\n",
       ".sk-estimator-doc-link.fitted,\n",
       "a:link.sk-estimator-doc-link.fitted,\n",
       "a:visited.sk-estimator-doc-link.fitted {\n",
       "  /* fitted */\n",
       "  border: var(--sklearn-color-fitted-level-1) 1pt solid;\n",
       "  color: var(--sklearn-color-fitted-level-1);\n",
       "}\n",
       "\n",
       "/* On hover */\n",
       "div.sk-estimator:hover .sk-estimator-doc-link:hover,\n",
       ".sk-estimator-doc-link:hover,\n",
       "div.sk-label-container:hover .sk-estimator-doc-link:hover,\n",
       ".sk-estimator-doc-link:hover {\n",
       "  /* unfitted */\n",
       "  background-color: var(--sklearn-color-unfitted-level-3);\n",
       "  color: var(--sklearn-color-background);\n",
       "  text-decoration: none;\n",
       "}\n",
       "\n",
       "div.sk-estimator.fitted:hover .sk-estimator-doc-link.fitted:hover,\n",
       ".sk-estimator-doc-link.fitted:hover,\n",
       "div.sk-label-container:hover .sk-estimator-doc-link.fitted:hover,\n",
       ".sk-estimator-doc-link.fitted:hover {\n",
       "  /* fitted */\n",
       "  background-color: var(--sklearn-color-fitted-level-3);\n",
       "  color: var(--sklearn-color-background);\n",
       "  text-decoration: none;\n",
       "}\n",
       "\n",
       "/* Span, style for the box shown on hovering the info icon */\n",
       ".sk-estimator-doc-link span {\n",
       "  display: none;\n",
       "  z-index: 9999;\n",
       "  position: relative;\n",
       "  font-weight: normal;\n",
       "  right: .2ex;\n",
       "  padding: .5ex;\n",
       "  margin: .5ex;\n",
       "  width: min-content;\n",
       "  min-width: 20ex;\n",
       "  max-width: 50ex;\n",
       "  color: var(--sklearn-color-text);\n",
       "  box-shadow: 2pt 2pt 4pt #999;\n",
       "  /* unfitted */\n",
       "  background: var(--sklearn-color-unfitted-level-0);\n",
       "  border: .5pt solid var(--sklearn-color-unfitted-level-3);\n",
       "}\n",
       "\n",
       ".sk-estimator-doc-link.fitted span {\n",
       "  /* fitted */\n",
       "  background: var(--sklearn-color-fitted-level-0);\n",
       "  border: var(--sklearn-color-fitted-level-3);\n",
       "}\n",
       "\n",
       ".sk-estimator-doc-link:hover span {\n",
       "  display: block;\n",
       "}\n",
       "\n",
       "/* \"?\"-specific style due to the `<a>` HTML tag */\n",
       "\n",
       "#sk-container-id-1 a.estimator_doc_link {\n",
       "  float: right;\n",
       "  font-size: 1rem;\n",
       "  line-height: 1em;\n",
       "  font-family: monospace;\n",
       "  background-color: var(--sklearn-color-background);\n",
       "  border-radius: 1rem;\n",
       "  height: 1rem;\n",
       "  width: 1rem;\n",
       "  text-decoration: none;\n",
       "  /* unfitted */\n",
       "  color: var(--sklearn-color-unfitted-level-1);\n",
       "  border: var(--sklearn-color-unfitted-level-1) 1pt solid;\n",
       "}\n",
       "\n",
       "#sk-container-id-1 a.estimator_doc_link.fitted {\n",
       "  /* fitted */\n",
       "  border: var(--sklearn-color-fitted-level-1) 1pt solid;\n",
       "  color: var(--sklearn-color-fitted-level-1);\n",
       "}\n",
       "\n",
       "/* On hover */\n",
       "#sk-container-id-1 a.estimator_doc_link:hover {\n",
       "  /* unfitted */\n",
       "  background-color: var(--sklearn-color-unfitted-level-3);\n",
       "  color: var(--sklearn-color-background);\n",
       "  text-decoration: none;\n",
       "}\n",
       "\n",
       "#sk-container-id-1 a.estimator_doc_link.fitted:hover {\n",
       "  /* fitted */\n",
       "  background-color: var(--sklearn-color-fitted-level-3);\n",
       "}\n",
       "</style><div id=\"sk-container-id-1\" class=\"sk-top-container\"><div class=\"sk-text-repr-fallback\"><pre>Pipeline(steps=[(&#x27;countvectorizer&#x27;, CountVectorizer()),\n",
       "                (&#x27;svc&#x27;, SVC(C=1, kernel=&#x27;linear&#x27;))])</pre><b>In a Jupyter environment, please rerun this cell to show the HTML representation or trust the notebook. <br />On GitHub, the HTML representation is unable to render, please try loading this page with nbviewer.org.</b></div><div class=\"sk-container\" hidden><div class=\"sk-item sk-dashed-wrapped\"><div class=\"sk-label-container\"><div class=\"sk-label  sk-toggleable\"><input class=\"sk-toggleable__control sk-hidden--visually\" id=\"sk-estimator-id-1\" type=\"checkbox\" ><label for=\"sk-estimator-id-1\" class=\"sk-toggleable__label  sk-toggleable__label-arrow \">&nbsp;&nbsp;Pipeline<a class=\"sk-estimator-doc-link \" rel=\"noreferrer\" target=\"_blank\" href=\"https://scikit-learn.org/1.5/modules/generated/sklearn.pipeline.Pipeline.html\">?<span>Documentation for Pipeline</span></a><span class=\"sk-estimator-doc-link \">i<span>Not fitted</span></span></label><div class=\"sk-toggleable__content \"><pre>Pipeline(steps=[(&#x27;countvectorizer&#x27;, CountVectorizer()),\n",
       "                (&#x27;svc&#x27;, SVC(C=1, kernel=&#x27;linear&#x27;))])</pre></div> </div></div><div class=\"sk-serial\"><div class=\"sk-item\"><div class=\"sk-estimator  sk-toggleable\"><input class=\"sk-toggleable__control sk-hidden--visually\" id=\"sk-estimator-id-2\" type=\"checkbox\" ><label for=\"sk-estimator-id-2\" class=\"sk-toggleable__label  sk-toggleable__label-arrow \">&nbsp;CountVectorizer<a class=\"sk-estimator-doc-link \" rel=\"noreferrer\" target=\"_blank\" href=\"https://scikit-learn.org/1.5/modules/generated/sklearn.feature_extraction.text.CountVectorizer.html\">?<span>Documentation for CountVectorizer</span></a></label><div class=\"sk-toggleable__content \"><pre>CountVectorizer()</pre></div> </div></div><div class=\"sk-item\"><div class=\"sk-estimator  sk-toggleable\"><input class=\"sk-toggleable__control sk-hidden--visually\" id=\"sk-estimator-id-3\" type=\"checkbox\" ><label for=\"sk-estimator-id-3\" class=\"sk-toggleable__label  sk-toggleable__label-arrow \">&nbsp;SVC<a class=\"sk-estimator-doc-link \" rel=\"noreferrer\" target=\"_blank\" href=\"https://scikit-learn.org/1.5/modules/generated/sklearn.svm.SVC.html\">?<span>Documentation for SVC</span></a></label><div class=\"sk-toggleable__content \"><pre>SVC(C=1, kernel=&#x27;linear&#x27;)</pre></div> </div></div></div></div></div></div>"
      ],
      "text/plain": [
       "Pipeline(steps=[('countvectorizer', CountVectorizer()),\n",
       "                ('svc', SVC(C=1, kernel='linear'))])"
      ]
     },
     "execution_count": 68,
     "metadata": {},
     "output_type": "execute_result"
    }
   ],
   "source": [
    "model = make_pipeline(CountVectorizer(),\n",
    "                      SVC(kernel = 'linear', C = 1))\n",
    "model"
   ]
  },
  {
   "cell_type": "code",
   "execution_count": 69,
   "id": "315212c7-a9fd-4f75-a722-585c11527e38",
   "metadata": {},
   "outputs": [
    {
     "data": {
      "text/html": [
       "<style>#sk-container-id-2 {\n",
       "  /* Definition of color scheme common for light and dark mode */\n",
       "  --sklearn-color-text: black;\n",
       "  --sklearn-color-line: gray;\n",
       "  /* Definition of color scheme for unfitted estimators */\n",
       "  --sklearn-color-unfitted-level-0: #fff5e6;\n",
       "  --sklearn-color-unfitted-level-1: #f6e4d2;\n",
       "  --sklearn-color-unfitted-level-2: #ffe0b3;\n",
       "  --sklearn-color-unfitted-level-3: chocolate;\n",
       "  /* Definition of color scheme for fitted estimators */\n",
       "  --sklearn-color-fitted-level-0: #f0f8ff;\n",
       "  --sklearn-color-fitted-level-1: #d4ebff;\n",
       "  --sklearn-color-fitted-level-2: #b3dbfd;\n",
       "  --sklearn-color-fitted-level-3: cornflowerblue;\n",
       "\n",
       "  /* Specific color for light theme */\n",
       "  --sklearn-color-text-on-default-background: var(--sg-text-color, var(--theme-code-foreground, var(--jp-content-font-color1, black)));\n",
       "  --sklearn-color-background: var(--sg-background-color, var(--theme-background, var(--jp-layout-color0, white)));\n",
       "  --sklearn-color-border-box: var(--sg-text-color, var(--theme-code-foreground, var(--jp-content-font-color1, black)));\n",
       "  --sklearn-color-icon: #696969;\n",
       "\n",
       "  @media (prefers-color-scheme: dark) {\n",
       "    /* Redefinition of color scheme for dark theme */\n",
       "    --sklearn-color-text-on-default-background: var(--sg-text-color, var(--theme-code-foreground, var(--jp-content-font-color1, white)));\n",
       "    --sklearn-color-background: var(--sg-background-color, var(--theme-background, var(--jp-layout-color0, #111)));\n",
       "    --sklearn-color-border-box: var(--sg-text-color, var(--theme-code-foreground, var(--jp-content-font-color1, white)));\n",
       "    --sklearn-color-icon: #878787;\n",
       "  }\n",
       "}\n",
       "\n",
       "#sk-container-id-2 {\n",
       "  color: var(--sklearn-color-text);\n",
       "}\n",
       "\n",
       "#sk-container-id-2 pre {\n",
       "  padding: 0;\n",
       "}\n",
       "\n",
       "#sk-container-id-2 input.sk-hidden--visually {\n",
       "  border: 0;\n",
       "  clip: rect(1px 1px 1px 1px);\n",
       "  clip: rect(1px, 1px, 1px, 1px);\n",
       "  height: 1px;\n",
       "  margin: -1px;\n",
       "  overflow: hidden;\n",
       "  padding: 0;\n",
       "  position: absolute;\n",
       "  width: 1px;\n",
       "}\n",
       "\n",
       "#sk-container-id-2 div.sk-dashed-wrapped {\n",
       "  border: 1px dashed var(--sklearn-color-line);\n",
       "  margin: 0 0.4em 0.5em 0.4em;\n",
       "  box-sizing: border-box;\n",
       "  padding-bottom: 0.4em;\n",
       "  background-color: var(--sklearn-color-background);\n",
       "}\n",
       "\n",
       "#sk-container-id-2 div.sk-container {\n",
       "  /* jupyter's `normalize.less` sets `[hidden] { display: none; }`\n",
       "     but bootstrap.min.css set `[hidden] { display: none !important; }`\n",
       "     so we also need the `!important` here to be able to override the\n",
       "     default hidden behavior on the sphinx rendered scikit-learn.org.\n",
       "     See: https://github.com/scikit-learn/scikit-learn/issues/21755 */\n",
       "  display: inline-block !important;\n",
       "  position: relative;\n",
       "}\n",
       "\n",
       "#sk-container-id-2 div.sk-text-repr-fallback {\n",
       "  display: none;\n",
       "}\n",
       "\n",
       "div.sk-parallel-item,\n",
       "div.sk-serial,\n",
       "div.sk-item {\n",
       "  /* draw centered vertical line to link estimators */\n",
       "  background-image: linear-gradient(var(--sklearn-color-text-on-default-background), var(--sklearn-color-text-on-default-background));\n",
       "  background-size: 2px 100%;\n",
       "  background-repeat: no-repeat;\n",
       "  background-position: center center;\n",
       "}\n",
       "\n",
       "/* Parallel-specific style estimator block */\n",
       "\n",
       "#sk-container-id-2 div.sk-parallel-item::after {\n",
       "  content: \"\";\n",
       "  width: 100%;\n",
       "  border-bottom: 2px solid var(--sklearn-color-text-on-default-background);\n",
       "  flex-grow: 1;\n",
       "}\n",
       "\n",
       "#sk-container-id-2 div.sk-parallel {\n",
       "  display: flex;\n",
       "  align-items: stretch;\n",
       "  justify-content: center;\n",
       "  background-color: var(--sklearn-color-background);\n",
       "  position: relative;\n",
       "}\n",
       "\n",
       "#sk-container-id-2 div.sk-parallel-item {\n",
       "  display: flex;\n",
       "  flex-direction: column;\n",
       "}\n",
       "\n",
       "#sk-container-id-2 div.sk-parallel-item:first-child::after {\n",
       "  align-self: flex-end;\n",
       "  width: 50%;\n",
       "}\n",
       "\n",
       "#sk-container-id-2 div.sk-parallel-item:last-child::after {\n",
       "  align-self: flex-start;\n",
       "  width: 50%;\n",
       "}\n",
       "\n",
       "#sk-container-id-2 div.sk-parallel-item:only-child::after {\n",
       "  width: 0;\n",
       "}\n",
       "\n",
       "/* Serial-specific style estimator block */\n",
       "\n",
       "#sk-container-id-2 div.sk-serial {\n",
       "  display: flex;\n",
       "  flex-direction: column;\n",
       "  align-items: center;\n",
       "  background-color: var(--sklearn-color-background);\n",
       "  padding-right: 1em;\n",
       "  padding-left: 1em;\n",
       "}\n",
       "\n",
       "\n",
       "/* Toggleable style: style used for estimator/Pipeline/ColumnTransformer box that is\n",
       "clickable and can be expanded/collapsed.\n",
       "- Pipeline and ColumnTransformer use this feature and define the default style\n",
       "- Estimators will overwrite some part of the style using the `sk-estimator` class\n",
       "*/\n",
       "\n",
       "/* Pipeline and ColumnTransformer style (default) */\n",
       "\n",
       "#sk-container-id-2 div.sk-toggleable {\n",
       "  /* Default theme specific background. It is overwritten whether we have a\n",
       "  specific estimator or a Pipeline/ColumnTransformer */\n",
       "  background-color: var(--sklearn-color-background);\n",
       "}\n",
       "\n",
       "/* Toggleable label */\n",
       "#sk-container-id-2 label.sk-toggleable__label {\n",
       "  cursor: pointer;\n",
       "  display: block;\n",
       "  width: 100%;\n",
       "  margin-bottom: 0;\n",
       "  padding: 0.5em;\n",
       "  box-sizing: border-box;\n",
       "  text-align: center;\n",
       "}\n",
       "\n",
       "#sk-container-id-2 label.sk-toggleable__label-arrow:before {\n",
       "  /* Arrow on the left of the label */\n",
       "  content: \"▸\";\n",
       "  float: left;\n",
       "  margin-right: 0.25em;\n",
       "  color: var(--sklearn-color-icon);\n",
       "}\n",
       "\n",
       "#sk-container-id-2 label.sk-toggleable__label-arrow:hover:before {\n",
       "  color: var(--sklearn-color-text);\n",
       "}\n",
       "\n",
       "/* Toggleable content - dropdown */\n",
       "\n",
       "#sk-container-id-2 div.sk-toggleable__content {\n",
       "  max-height: 0;\n",
       "  max-width: 0;\n",
       "  overflow: hidden;\n",
       "  text-align: left;\n",
       "  /* unfitted */\n",
       "  background-color: var(--sklearn-color-unfitted-level-0);\n",
       "}\n",
       "\n",
       "#sk-container-id-2 div.sk-toggleable__content.fitted {\n",
       "  /* fitted */\n",
       "  background-color: var(--sklearn-color-fitted-level-0);\n",
       "}\n",
       "\n",
       "#sk-container-id-2 div.sk-toggleable__content pre {\n",
       "  margin: 0.2em;\n",
       "  border-radius: 0.25em;\n",
       "  color: var(--sklearn-color-text);\n",
       "  /* unfitted */\n",
       "  background-color: var(--sklearn-color-unfitted-level-0);\n",
       "}\n",
       "\n",
       "#sk-container-id-2 div.sk-toggleable__content.fitted pre {\n",
       "  /* unfitted */\n",
       "  background-color: var(--sklearn-color-fitted-level-0);\n",
       "}\n",
       "\n",
       "#sk-container-id-2 input.sk-toggleable__control:checked~div.sk-toggleable__content {\n",
       "  /* Expand drop-down */\n",
       "  max-height: 200px;\n",
       "  max-width: 100%;\n",
       "  overflow: auto;\n",
       "}\n",
       "\n",
       "#sk-container-id-2 input.sk-toggleable__control:checked~label.sk-toggleable__label-arrow:before {\n",
       "  content: \"▾\";\n",
       "}\n",
       "\n",
       "/* Pipeline/ColumnTransformer-specific style */\n",
       "\n",
       "#sk-container-id-2 div.sk-label input.sk-toggleable__control:checked~label.sk-toggleable__label {\n",
       "  color: var(--sklearn-color-text);\n",
       "  background-color: var(--sklearn-color-unfitted-level-2);\n",
       "}\n",
       "\n",
       "#sk-container-id-2 div.sk-label.fitted input.sk-toggleable__control:checked~label.sk-toggleable__label {\n",
       "  background-color: var(--sklearn-color-fitted-level-2);\n",
       "}\n",
       "\n",
       "/* Estimator-specific style */\n",
       "\n",
       "/* Colorize estimator box */\n",
       "#sk-container-id-2 div.sk-estimator input.sk-toggleable__control:checked~label.sk-toggleable__label {\n",
       "  /* unfitted */\n",
       "  background-color: var(--sklearn-color-unfitted-level-2);\n",
       "}\n",
       "\n",
       "#sk-container-id-2 div.sk-estimator.fitted input.sk-toggleable__control:checked~label.sk-toggleable__label {\n",
       "  /* fitted */\n",
       "  background-color: var(--sklearn-color-fitted-level-2);\n",
       "}\n",
       "\n",
       "#sk-container-id-2 div.sk-label label.sk-toggleable__label,\n",
       "#sk-container-id-2 div.sk-label label {\n",
       "  /* The background is the default theme color */\n",
       "  color: var(--sklearn-color-text-on-default-background);\n",
       "}\n",
       "\n",
       "/* On hover, darken the color of the background */\n",
       "#sk-container-id-2 div.sk-label:hover label.sk-toggleable__label {\n",
       "  color: var(--sklearn-color-text);\n",
       "  background-color: var(--sklearn-color-unfitted-level-2);\n",
       "}\n",
       "\n",
       "/* Label box, darken color on hover, fitted */\n",
       "#sk-container-id-2 div.sk-label.fitted:hover label.sk-toggleable__label.fitted {\n",
       "  color: var(--sklearn-color-text);\n",
       "  background-color: var(--sklearn-color-fitted-level-2);\n",
       "}\n",
       "\n",
       "/* Estimator label */\n",
       "\n",
       "#sk-container-id-2 div.sk-label label {\n",
       "  font-family: monospace;\n",
       "  font-weight: bold;\n",
       "  display: inline-block;\n",
       "  line-height: 1.2em;\n",
       "}\n",
       "\n",
       "#sk-container-id-2 div.sk-label-container {\n",
       "  text-align: center;\n",
       "}\n",
       "\n",
       "/* Estimator-specific */\n",
       "#sk-container-id-2 div.sk-estimator {\n",
       "  font-family: monospace;\n",
       "  border: 1px dotted var(--sklearn-color-border-box);\n",
       "  border-radius: 0.25em;\n",
       "  box-sizing: border-box;\n",
       "  margin-bottom: 0.5em;\n",
       "  /* unfitted */\n",
       "  background-color: var(--sklearn-color-unfitted-level-0);\n",
       "}\n",
       "\n",
       "#sk-container-id-2 div.sk-estimator.fitted {\n",
       "  /* fitted */\n",
       "  background-color: var(--sklearn-color-fitted-level-0);\n",
       "}\n",
       "\n",
       "/* on hover */\n",
       "#sk-container-id-2 div.sk-estimator:hover {\n",
       "  /* unfitted */\n",
       "  background-color: var(--sklearn-color-unfitted-level-2);\n",
       "}\n",
       "\n",
       "#sk-container-id-2 div.sk-estimator.fitted:hover {\n",
       "  /* fitted */\n",
       "  background-color: var(--sklearn-color-fitted-level-2);\n",
       "}\n",
       "\n",
       "/* Specification for estimator info (e.g. \"i\" and \"?\") */\n",
       "\n",
       "/* Common style for \"i\" and \"?\" */\n",
       "\n",
       ".sk-estimator-doc-link,\n",
       "a:link.sk-estimator-doc-link,\n",
       "a:visited.sk-estimator-doc-link {\n",
       "  float: right;\n",
       "  font-size: smaller;\n",
       "  line-height: 1em;\n",
       "  font-family: monospace;\n",
       "  background-color: var(--sklearn-color-background);\n",
       "  border-radius: 1em;\n",
       "  height: 1em;\n",
       "  width: 1em;\n",
       "  text-decoration: none !important;\n",
       "  margin-left: 1ex;\n",
       "  /* unfitted */\n",
       "  border: var(--sklearn-color-unfitted-level-1) 1pt solid;\n",
       "  color: var(--sklearn-color-unfitted-level-1);\n",
       "}\n",
       "\n",
       ".sk-estimator-doc-link.fitted,\n",
       "a:link.sk-estimator-doc-link.fitted,\n",
       "a:visited.sk-estimator-doc-link.fitted {\n",
       "  /* fitted */\n",
       "  border: var(--sklearn-color-fitted-level-1) 1pt solid;\n",
       "  color: var(--sklearn-color-fitted-level-1);\n",
       "}\n",
       "\n",
       "/* On hover */\n",
       "div.sk-estimator:hover .sk-estimator-doc-link:hover,\n",
       ".sk-estimator-doc-link:hover,\n",
       "div.sk-label-container:hover .sk-estimator-doc-link:hover,\n",
       ".sk-estimator-doc-link:hover {\n",
       "  /* unfitted */\n",
       "  background-color: var(--sklearn-color-unfitted-level-3);\n",
       "  color: var(--sklearn-color-background);\n",
       "  text-decoration: none;\n",
       "}\n",
       "\n",
       "div.sk-estimator.fitted:hover .sk-estimator-doc-link.fitted:hover,\n",
       ".sk-estimator-doc-link.fitted:hover,\n",
       "div.sk-label-container:hover .sk-estimator-doc-link.fitted:hover,\n",
       ".sk-estimator-doc-link.fitted:hover {\n",
       "  /* fitted */\n",
       "  background-color: var(--sklearn-color-fitted-level-3);\n",
       "  color: var(--sklearn-color-background);\n",
       "  text-decoration: none;\n",
       "}\n",
       "\n",
       "/* Span, style for the box shown on hovering the info icon */\n",
       ".sk-estimator-doc-link span {\n",
       "  display: none;\n",
       "  z-index: 9999;\n",
       "  position: relative;\n",
       "  font-weight: normal;\n",
       "  right: .2ex;\n",
       "  padding: .5ex;\n",
       "  margin: .5ex;\n",
       "  width: min-content;\n",
       "  min-width: 20ex;\n",
       "  max-width: 50ex;\n",
       "  color: var(--sklearn-color-text);\n",
       "  box-shadow: 2pt 2pt 4pt #999;\n",
       "  /* unfitted */\n",
       "  background: var(--sklearn-color-unfitted-level-0);\n",
       "  border: .5pt solid var(--sklearn-color-unfitted-level-3);\n",
       "}\n",
       "\n",
       ".sk-estimator-doc-link.fitted span {\n",
       "  /* fitted */\n",
       "  background: var(--sklearn-color-fitted-level-0);\n",
       "  border: var(--sklearn-color-fitted-level-3);\n",
       "}\n",
       "\n",
       ".sk-estimator-doc-link:hover span {\n",
       "  display: block;\n",
       "}\n",
       "\n",
       "/* \"?\"-specific style due to the `<a>` HTML tag */\n",
       "\n",
       "#sk-container-id-2 a.estimator_doc_link {\n",
       "  float: right;\n",
       "  font-size: 1rem;\n",
       "  line-height: 1em;\n",
       "  font-family: monospace;\n",
       "  background-color: var(--sklearn-color-background);\n",
       "  border-radius: 1rem;\n",
       "  height: 1rem;\n",
       "  width: 1rem;\n",
       "  text-decoration: none;\n",
       "  /* unfitted */\n",
       "  color: var(--sklearn-color-unfitted-level-1);\n",
       "  border: var(--sklearn-color-unfitted-level-1) 1pt solid;\n",
       "}\n",
       "\n",
       "#sk-container-id-2 a.estimator_doc_link.fitted {\n",
       "  /* fitted */\n",
       "  border: var(--sklearn-color-fitted-level-1) 1pt solid;\n",
       "  color: var(--sklearn-color-fitted-level-1);\n",
       "}\n",
       "\n",
       "/* On hover */\n",
       "#sk-container-id-2 a.estimator_doc_link:hover {\n",
       "  /* unfitted */\n",
       "  background-color: var(--sklearn-color-unfitted-level-3);\n",
       "  color: var(--sklearn-color-background);\n",
       "  text-decoration: none;\n",
       "}\n",
       "\n",
       "#sk-container-id-2 a.estimator_doc_link.fitted:hover {\n",
       "  /* fitted */\n",
       "  background-color: var(--sklearn-color-fitted-level-3);\n",
       "}\n",
       "</style><div id=\"sk-container-id-2\" class=\"sk-top-container\"><div class=\"sk-text-repr-fallback\"><pre>Pipeline(steps=[(&#x27;countvectorizer&#x27;, CountVectorizer()),\n",
       "                (&#x27;svc&#x27;, SVC(C=1, kernel=&#x27;linear&#x27;))])</pre><b>In a Jupyter environment, please rerun this cell to show the HTML representation or trust the notebook. <br />On GitHub, the HTML representation is unable to render, please try loading this page with nbviewer.org.</b></div><div class=\"sk-container\" hidden><div class=\"sk-item sk-dashed-wrapped\"><div class=\"sk-label-container\"><div class=\"sk-label fitted sk-toggleable\"><input class=\"sk-toggleable__control sk-hidden--visually\" id=\"sk-estimator-id-4\" type=\"checkbox\" ><label for=\"sk-estimator-id-4\" class=\"sk-toggleable__label fitted sk-toggleable__label-arrow fitted\">&nbsp;&nbsp;Pipeline<a class=\"sk-estimator-doc-link fitted\" rel=\"noreferrer\" target=\"_blank\" href=\"https://scikit-learn.org/1.5/modules/generated/sklearn.pipeline.Pipeline.html\">?<span>Documentation for Pipeline</span></a><span class=\"sk-estimator-doc-link fitted\">i<span>Fitted</span></span></label><div class=\"sk-toggleable__content fitted\"><pre>Pipeline(steps=[(&#x27;countvectorizer&#x27;, CountVectorizer()),\n",
       "                (&#x27;svc&#x27;, SVC(C=1, kernel=&#x27;linear&#x27;))])</pre></div> </div></div><div class=\"sk-serial\"><div class=\"sk-item\"><div class=\"sk-estimator fitted sk-toggleable\"><input class=\"sk-toggleable__control sk-hidden--visually\" id=\"sk-estimator-id-5\" type=\"checkbox\" ><label for=\"sk-estimator-id-5\" class=\"sk-toggleable__label fitted sk-toggleable__label-arrow fitted\">&nbsp;CountVectorizer<a class=\"sk-estimator-doc-link fitted\" rel=\"noreferrer\" target=\"_blank\" href=\"https://scikit-learn.org/1.5/modules/generated/sklearn.feature_extraction.text.CountVectorizer.html\">?<span>Documentation for CountVectorizer</span></a></label><div class=\"sk-toggleable__content fitted\"><pre>CountVectorizer()</pre></div> </div></div><div class=\"sk-item\"><div class=\"sk-estimator fitted sk-toggleable\"><input class=\"sk-toggleable__control sk-hidden--visually\" id=\"sk-estimator-id-6\" type=\"checkbox\" ><label for=\"sk-estimator-id-6\" class=\"sk-toggleable__label fitted sk-toggleable__label-arrow fitted\">&nbsp;SVC<a class=\"sk-estimator-doc-link fitted\" rel=\"noreferrer\" target=\"_blank\" href=\"https://scikit-learn.org/1.5/modules/generated/sklearn.svm.SVC.html\">?<span>Documentation for SVC</span></a></label><div class=\"sk-toggleable__content fitted\"><pre>SVC(C=1, kernel=&#x27;linear&#x27;)</pre></div> </div></div></div></div></div></div>"
      ],
      "text/plain": [
       "Pipeline(steps=[('countvectorizer', CountVectorizer()),\n",
       "                ('svc', SVC(C=1, kernel='linear'))])"
      ]
     },
     "execution_count": 69,
     "metadata": {},
     "output_type": "execute_result"
    }
   ],
   "source": [
    "model.fit(X_train, y_train.ravel())"
   ]
  },
  {
   "cell_type": "code",
   "execution_count": 70,
   "id": "c29b46e2-6620-4cee-bbc0-739440f175a6",
   "metadata": {},
   "outputs": [
    {
     "data": {
      "text/plain": [
       "array([0, 0, 0, ..., 0, 0, 0])"
      ]
     },
     "execution_count": 70,
     "metadata": {},
     "output_type": "execute_result"
    }
   ],
   "source": [
    "model.predict(X_test)"
   ]
  },
  {
   "cell_type": "code",
   "execution_count": 71,
   "id": "a14bf692-c81d-49be-ba90-c59b96dcd9e8",
   "metadata": {},
   "outputs": [
    {
     "data": {
      "text/plain": [
       "0.9997582205029013"
      ]
     },
     "execution_count": 71,
     "metadata": {},
     "output_type": "execute_result"
    }
   ],
   "source": [
    "model.score(X_train, y_train)\n"
   ]
  },
  {
   "cell_type": "code",
   "execution_count": 72,
   "id": "ad33a349-f6e0-4970-b277-7762f2b12b9f",
   "metadata": {},
   "outputs": [
    {
     "data": {
      "text/plain": [
       "0.9816247582205029"
      ]
     },
     "execution_count": 72,
     "metadata": {},
     "output_type": "execute_result"
    }
   ],
   "source": [
    "model.score(X_test, y_test)\n"
   ]
  },
  {
   "cell_type": "code",
   "execution_count": 73,
   "id": "18e71461-f344-49aa-a603-fbbb694250ef",
   "metadata": {},
   "outputs": [
    {
     "data": {
      "text/plain": [
       "<sklearn.metrics._plot.confusion_matrix.ConfusionMatrixDisplay at 0x169c5d8b0>"
      ]
     },
     "execution_count": 73,
     "metadata": {},
     "output_type": "execute_result"
    },
    {
     "data": {
      "image/png": "[encoded data removed]",
      "text/plain": [
       "<Figure size 640x480 with 2 Axes>"
      ]
     },
     "metadata": {},
     "output_type": "display_data"
    }
   ],
   "source": [
    "cm = confusion_matrix(model.predict(X_test), y_test)\n",
    "display = ConfusionMatrixDisplay(cm, display_labels = ['ham', 'spam'])\n",
    "display.plot()\n",
    "    "
   ]
  },
  {
   "cell_type": "markdown",
   "id": "3eb50ec9-4481-4613-ba56-40801536dffe",
   "metadata": {},
   "source": [
    "## Faisons varier mes parametres avec GridSearchCV"
   ]
  },
  {
   "cell_type": "code",
   "execution_count": 75,
   "id": "4108b942-cfaf-4d3b-8025-2b688c9ccff9",
   "metadata": {},
   "outputs": [],
   "source": [
    "from sklearn.model_selection import GridSearchCV"
   ]
  },
  {
   "cell_type": "code",
   "execution_count": 76,
   "id": "c24d66ec-300a-44ee-98eb-f9bf5d79b4fa",
   "metadata": {},
   "outputs": [
    {
     "data": {
      "text/html": [
       "<style>#sk-container-id-3 {\n",
       "  /* Definition of color scheme common for light and dark mode */\n",
       "  --sklearn-color-text: black;\n",
       "  --sklearn-color-line: gray;\n",
       "  /* Definition of color scheme for unfitted estimators */\n",
       "  --sklearn-color-unfitted-level-0: #fff5e6;\n",
       "  --sklearn-color-unfitted-level-1: #f6e4d2;\n",
       "  --sklearn-color-unfitted-level-2: #ffe0b3;\n",
       "  --sklearn-color-unfitted-level-3: chocolate;\n",
       "  /* Definition of color scheme for fitted estimators */\n",
       "  --sklearn-color-fitted-level-0: #f0f8ff;\n",
       "  --sklearn-color-fitted-level-1: #d4ebff;\n",
       "  --sklearn-color-fitted-level-2: #b3dbfd;\n",
       "  --sklearn-color-fitted-level-3: cornflowerblue;\n",
       "\n",
       "  /* Specific color for light theme */\n",
       "  --sklearn-color-text-on-default-background: var(--sg-text-color, var(--theme-code-foreground, var(--jp-content-font-color1, black)));\n",
       "  --sklearn-color-background: var(--sg-background-color, var(--theme-background, var(--jp-layout-color0, white)));\n",
       "  --sklearn-color-border-box: var(--sg-text-color, var(--theme-code-foreground, var(--jp-content-font-color1, black)));\n",
       "  --sklearn-color-icon: #696969;\n",
       "\n",
       "  @media (prefers-color-scheme: dark) {\n",
       "    /* Redefinition of color scheme for dark theme */\n",
       "    --sklearn-color-text-on-default-background: var(--sg-text-color, var(--theme-code-foreground, var(--jp-content-font-color1, white)));\n",
       "    --sklearn-color-background: var(--sg-background-color, var(--theme-background, var(--jp-layout-color0, #111)));\n",
       "    --sklearn-color-border-box: var(--sg-text-color, var(--theme-code-foreground, var(--jp-content-font-color1, white)));\n",
       "    --sklearn-color-icon: #878787;\n",
       "  }\n",
       "}\n",
       "\n",
       "#sk-container-id-3 {\n",
       "  color: var(--sklearn-color-text);\n",
       "}\n",
       "\n",
       "#sk-container-id-3 pre {\n",
       "  padding: 0;\n",
       "}\n",
       "\n",
       "#sk-container-id-3 input.sk-hidden--visually {\n",
       "  border: 0;\n",
       "  clip: rect(1px 1px 1px 1px);\n",
       "  clip: rect(1px, 1px, 1px, 1px);\n",
       "  height: 1px;\n",
       "  margin: -1px;\n",
       "  overflow: hidden;\n",
       "  padding: 0;\n",
       "  position: absolute;\n",
       "  width: 1px;\n",
       "}\n",
       "\n",
       "#sk-container-id-3 div.sk-dashed-wrapped {\n",
       "  border: 1px dashed var(--sklearn-color-line);\n",
       "  margin: 0 0.4em 0.5em 0.4em;\n",
       "  box-sizing: border-box;\n",
       "  padding-bottom: 0.4em;\n",
       "  background-color: var(--sklearn-color-background);\n",
       "}\n",
       "\n",
       "#sk-container-id-3 div.sk-container {\n",
       "  /* jupyter's `normalize.less` sets `[hidden] { display: none; }`\n",
       "     but bootstrap.min.css set `[hidden] { display: none !important; }`\n",
       "     so we also need the `!important` here to be able to override the\n",
       "     default hidden behavior on the sphinx rendered scikit-learn.org.\n",
       "     See: https://github.com/scikit-learn/scikit-learn/issues/21755 */\n",
       "  display: inline-block !important;\n",
       "  position: relative;\n",
       "}\n",
       "\n",
       "#sk-container-id-3 div.sk-text-repr-fallback {\n",
       "  display: none;\n",
       "}\n",
       "\n",
       "div.sk-parallel-item,\n",
       "div.sk-serial,\n",
       "div.sk-item {\n",
       "  /* draw centered vertical line to link estimators */\n",
       "  background-image: linear-gradient(var(--sklearn-color-text-on-default-background), var(--sklearn-color-text-on-default-background));\n",
       "  background-size: 2px 100%;\n",
       "  background-repeat: no-repeat;\n",
       "  background-position: center center;\n",
       "}\n",
       "\n",
       "/* Parallel-specific style estimator block */\n",
       "\n",
       "#sk-container-id-3 div.sk-parallel-item::after {\n",
       "  content: \"\";\n",
       "  width: 100%;\n",
       "  border-bottom: 2px solid var(--sklearn-color-text-on-default-background);\n",
       "  flex-grow: 1;\n",
       "}\n",
       "\n",
       "#sk-container-id-3 div.sk-parallel {\n",
       "  display: flex;\n",
       "  align-items: stretch;\n",
       "  justify-content: center;\n",
       "  background-color: var(--sklearn-color-background);\n",
       "  position: relative;\n",
       "}\n",
       "\n",
       "#sk-container-id-3 div.sk-parallel-item {\n",
       "  display: flex;\n",
       "  flex-direction: column;\n",
       "}\n",
       "\n",
       "#sk-container-id-3 div.sk-parallel-item:first-child::after {\n",
       "  align-self: flex-end;\n",
       "  width: 50%;\n",
       "}\n",
       "\n",
       "#sk-container-id-3 div.sk-parallel-item:last-child::after {\n",
       "  align-self: flex-start;\n",
       "  width: 50%;\n",
       "}\n",
       "\n",
       "#sk-container-id-3 div.sk-parallel-item:only-child::after {\n",
       "  width: 0;\n",
       "}\n",
       "\n",
       "/* Serial-specific style estimator block */\n",
       "\n",
       "#sk-container-id-3 div.sk-serial {\n",
       "  display: flex;\n",
       "  flex-direction: column;\n",
       "  align-items: center;\n",
       "  background-color: var(--sklearn-color-background);\n",
       "  padding-right: 1em;\n",
       "  padding-left: 1em;\n",
       "}\n",
       "\n",
       "\n",
       "/* Toggleable style: style used for estimator/Pipeline/ColumnTransformer box that is\n",
       "clickable and can be expanded/collapsed.\n",
       "- Pipeline and ColumnTransformer use this feature and define the default style\n",
       "- Estimators will overwrite some part of the style using the `sk-estimator` class\n",
       "*/\n",
       "\n",
       "/* Pipeline and ColumnTransformer style (default) */\n",
       "\n",
       "#sk-container-id-3 div.sk-toggleable {\n",
       "  /* Default theme specific background. It is overwritten whether we have a\n",
       "  specific estimator or a Pipeline/ColumnTransformer */\n",
       "  background-color: var(--sklearn-color-background);\n",
       "}\n",
       "\n",
       "/* Toggleable label */\n",
       "#sk-container-id-3 label.sk-toggleable__label {\n",
       "  cursor: pointer;\n",
       "  display: block;\n",
       "  width: 100%;\n",
       "  margin-bottom: 0;\n",
       "  padding: 0.5em;\n",
       "  box-sizing: border-box;\n",
       "  text-align: center;\n",
       "}\n",
       "\n",
       "#sk-container-id-3 label.sk-toggleable__label-arrow:before {\n",
       "  /* Arrow on the left of the label */\n",
       "  content: \"▸\";\n",
       "  float: left;\n",
       "  margin-right: 0.25em;\n",
       "  color: var(--sklearn-color-icon);\n",
       "}\n",
       "\n",
       "#sk-container-id-3 label.sk-toggleable__label-arrow:hover:before {\n",
       "  color: var(--sklearn-color-text);\n",
       "}\n",
       "\n",
       "/* Toggleable content - dropdown */\n",
       "\n",
       "#sk-container-id-3 div.sk-toggleable__content {\n",
       "  max-height: 0;\n",
       "  max-width: 0;\n",
       "  overflow: hidden;\n",
       "  text-align: left;\n",
       "  /* unfitted */\n",
       "  background-color: var(--sklearn-color-unfitted-level-0);\n",
       "}\n",
       "\n",
       "#sk-container-id-3 div.sk-toggleable__content.fitted {\n",
       "  /* fitted */\n",
       "  background-color: var(--sklearn-color-fitted-level-0);\n",
       "}\n",
       "\n",
       "#sk-container-id-3 div.sk-toggleable__content pre {\n",
       "  margin: 0.2em;\n",
       "  border-radius: 0.25em;\n",
       "  color: var(--sklearn-color-text);\n",
       "  /* unfitted */\n",
       "  background-color: var(--sklearn-color-unfitted-level-0);\n",
       "}\n",
       "\n",
       "#sk-container-id-3 div.sk-toggleable__content.fitted pre {\n",
       "  /* unfitted */\n",
       "  background-color: var(--sklearn-color-fitted-level-0);\n",
       "}\n",
       "\n",
       "#sk-container-id-3 input.sk-toggleable__control:checked~div.sk-toggleable__content {\n",
       "  /* Expand drop-down */\n",
       "  max-height: 200px;\n",
       "  max-width: 100%;\n",
       "  overflow: auto;\n",
       "}\n",
       "\n",
       "#sk-container-id-3 input.sk-toggleable__control:checked~label.sk-toggleable__label-arrow:before {\n",
       "  content: \"▾\";\n",
       "}\n",
       "\n",
       "/* Pipeline/ColumnTransformer-specific style */\n",
       "\n",
       "#sk-container-id-3 div.sk-label input.sk-toggleable__control:checked~label.sk-toggleable__label {\n",
       "  color: var(--sklearn-color-text);\n",
       "  background-color: var(--sklearn-color-unfitted-level-2);\n",
       "}\n",
       "\n",
       "#sk-container-id-3 div.sk-label.fitted input.sk-toggleable__control:checked~label.sk-toggleable__label {\n",
       "  background-color: var(--sklearn-color-fitted-level-2);\n",
       "}\n",
       "\n",
       "/* Estimator-specific style */\n",
       "\n",
       "/* Colorize estimator box */\n",
       "#sk-container-id-3 div.sk-estimator input.sk-toggleable__control:checked~label.sk-toggleable__label {\n",
       "  /* unfitted */\n",
       "  background-color: var(--sklearn-color-unfitted-level-2);\n",
       "}\n",
       "\n",
       "#sk-container-id-3 div.sk-estimator.fitted input.sk-toggleable__control:checked~label.sk-toggleable__label {\n",
       "  /* fitted */\n",
       "  background-color: var(--sklearn-color-fitted-level-2);\n",
       "}\n",
       "\n",
       "#sk-container-id-3 div.sk-label label.sk-toggleable__label,\n",
       "#sk-container-id-3 div.sk-label label {\n",
       "  /* The background is the default theme color */\n",
       "  color: var(--sklearn-color-text-on-default-background);\n",
       "}\n",
       "\n",
       "/* On hover, darken the color of the background */\n",
       "#sk-container-id-3 div.sk-label:hover label.sk-toggleable__label {\n",
       "  color: var(--sklearn-color-text);\n",
       "  background-color: var(--sklearn-color-unfitted-level-2);\n",
       "}\n",
       "\n",
       "/* Label box, darken color on hover, fitted */\n",
       "#sk-container-id-3 div.sk-label.fitted:hover label.sk-toggleable__label.fitted {\n",
       "  color: var(--sklearn-color-text);\n",
       "  background-color: var(--sklearn-color-fitted-level-2);\n",
       "}\n",
       "\n",
       "/* Estimator label */\n",
       "\n",
       "#sk-container-id-3 div.sk-label label {\n",
       "  font-family: monospace;\n",
       "  font-weight: bold;\n",
       "  display: inline-block;\n",
       "  line-height: 1.2em;\n",
       "}\n",
       "\n",
       "#sk-container-id-3 div.sk-label-container {\n",
       "  text-align: center;\n",
       "}\n",
       "\n",
       "/* Estimator-specific */\n",
       "#sk-container-id-3 div.sk-estimator {\n",
       "  font-family: monospace;\n",
       "  border: 1px dotted var(--sklearn-color-border-box);\n",
       "  border-radius: 0.25em;\n",
       "  box-sizing: border-box;\n",
       "  margin-bottom: 0.5em;\n",
       "  /* unfitted */\n",
       "  background-color: var(--sklearn-color-unfitted-level-0);\n",
       "}\n",
       "\n",
       "#sk-container-id-3 div.sk-estimator.fitted {\n",
       "  /* fitted */\n",
       "  background-color: var(--sklearn-color-fitted-level-0);\n",
       "}\n",
       "\n",
       "/* on hover */\n",
       "#sk-container-id-3 div.sk-estimator:hover {\n",
       "  /* unfitted */\n",
       "  background-color: var(--sklearn-color-unfitted-level-2);\n",
       "}\n",
       "\n",
       "#sk-container-id-3 div.sk-estimator.fitted:hover {\n",
       "  /* fitted */\n",
       "  background-color: var(--sklearn-color-fitted-level-2);\n",
       "}\n",
       "\n",
       "/* Specification for estimator info (e.g. \"i\" and \"?\") */\n",
       "\n",
       "/* Common style for \"i\" and \"?\" */\n",
       "\n",
       ".sk-estimator-doc-link,\n",
       "a:link.sk-estimator-doc-link,\n",
       "a:visited.sk-estimator-doc-link {\n",
       "  float: right;\n",
       "  font-size: smaller;\n",
       "  line-height: 1em;\n",
       "  font-family: monospace;\n",
       "  background-color: var(--sklearn-color-background);\n",
       "  border-radius: 1em;\n",
       "  height: 1em;\n",
       "  width: 1em;\n",
       "  text-decoration: none !important;\n",
       "  margin-left: 1ex;\n",
       "  /* unfitted */\n",
       "  border: var(--sklearn-color-unfitted-level-1) 1pt solid;\n",
       "  color: var(--sklearn-color-unfitted-level-1);\n",
       "}\n",
       "\n",
       ".sk-estimator-doc-link.fitted,\n",
       "a:link.sk-estimator-doc-link.fitted,\n",
       "a:visited.sk-estimator-doc-link.fitted {\n",
       "  /* fitted */\n",
       "  border: var(--sklearn-color-fitted-level-1) 1pt solid;\n",
       "  color: var(--sklearn-color-fitted-level-1);\n",
       "}\n",
       "\n",
       "/* On hover */\n",
       "div.sk-estimator:hover .sk-estimator-doc-link:hover,\n",
       ".sk-estimator-doc-link:hover,\n",
       "div.sk-label-container:hover .sk-estimator-doc-link:hover,\n",
       ".sk-estimator-doc-link:hover {\n",
       "  /* unfitted */\n",
       "  background-color: var(--sklearn-color-unfitted-level-3);\n",
       "  color: var(--sklearn-color-background);\n",
       "  text-decoration: none;\n",
       "}\n",
       "\n",
       "div.sk-estimator.fitted:hover .sk-estimator-doc-link.fitted:hover,\n",
       ".sk-estimator-doc-link.fitted:hover,\n",
       "div.sk-label-container:hover .sk-estimator-doc-link.fitted:hover,\n",
       ".sk-estimator-doc-link.fitted:hover {\n",
       "  /* fitted */\n",
       "  background-color: var(--sklearn-color-fitted-level-3);\n",
       "  color: var(--sklearn-color-background);\n",
       "  text-decoration: none;\n",
       "}\n",
       "\n",
       "/* Span, style for the box shown on hovering the info icon */\n",
       ".sk-estimator-doc-link span {\n",
       "  display: none;\n",
       "  z-index: 9999;\n",
       "  position: relative;\n",
       "  font-weight: normal;\n",
       "  right: .2ex;\n",
       "  padding: .5ex;\n",
       "  margin: .5ex;\n",
       "  width: min-content;\n",
       "  min-width: 20ex;\n",
       "  max-width: 50ex;\n",
       "  color: var(--sklearn-color-text);\n",
       "  box-shadow: 2pt 2pt 4pt #999;\n",
       "  /* unfitted */\n",
       "  background: var(--sklearn-color-unfitted-level-0);\n",
       "  border: .5pt solid var(--sklearn-color-unfitted-level-3);\n",
       "}\n",
       "\n",
       ".sk-estimator-doc-link.fitted span {\n",
       "  /* fitted */\n",
       "  background: var(--sklearn-color-fitted-level-0);\n",
       "  border: var(--sklearn-color-fitted-level-3);\n",
       "}\n",
       "\n",
       ".sk-estimator-doc-link:hover span {\n",
       "  display: block;\n",
       "}\n",
       "\n",
       "/* \"?\"-specific style due to the `<a>` HTML tag */\n",
       "\n",
       "#sk-container-id-3 a.estimator_doc_link {\n",
       "  float: right;\n",
       "  font-size: 1rem;\n",
       "  line-height: 1em;\n",
       "  font-family: monospace;\n",
       "  background-color: var(--sklearn-color-background);\n",
       "  border-radius: 1rem;\n",
       "  height: 1rem;\n",
       "  width: 1rem;\n",
       "  text-decoration: none;\n",
       "  /* unfitted */\n",
       "  color: var(--sklearn-color-unfitted-level-1);\n",
       "  border: var(--sklearn-color-unfitted-level-1) 1pt solid;\n",
       "}\n",
       "\n",
       "#sk-container-id-3 a.estimator_doc_link.fitted {\n",
       "  /* fitted */\n",
       "  border: var(--sklearn-color-fitted-level-1) 1pt solid;\n",
       "  color: var(--sklearn-color-fitted-level-1);\n",
       "}\n",
       "\n",
       "/* On hover */\n",
       "#sk-container-id-3 a.estimator_doc_link:hover {\n",
       "  /* unfitted */\n",
       "  background-color: var(--sklearn-color-unfitted-level-3);\n",
       "  color: var(--sklearn-color-background);\n",
       "  text-decoration: none;\n",
       "}\n",
       "\n",
       "#sk-container-id-3 a.estimator_doc_link.fitted:hover {\n",
       "  /* fitted */\n",
       "  background-color: var(--sklearn-color-fitted-level-3);\n",
       "}\n",
       "</style><div id=\"sk-container-id-3\" class=\"sk-top-container\"><div class=\"sk-text-repr-fallback\"><pre>GridSearchCV(cv=5,\n",
       "             estimator=Pipeline(steps=[(&#x27;countvectorizer&#x27;, CountVectorizer()),\n",
       "                                       (&#x27;svc&#x27;, SVC(C=1, kernel=&#x27;linear&#x27;))]),\n",
       "             param_grid={&#x27;svc__C&#x27;: array([0.1, 0.2, 0.3, 0.4, 0.5, 0.6, 0.7, 0.8, 0.9, 1. , 1.1, 1.2, 1.3,\n",
       "       1.4, 1.5, 1.6, 1.7, 1.8, 1.9])})</pre><b>In a Jupyter environment, please rerun this cell to show the HTML representation or trust the notebook. <br />On GitHub, the HTML representation is unable to render, please try loading this page with nbviewer.org.</b></div><div class=\"sk-container\" hidden><div class=\"sk-item sk-dashed-wrapped\"><div class=\"sk-label-container\"><div class=\"sk-label fitted sk-toggleable\"><input class=\"sk-toggleable__control sk-hidden--visually\" id=\"sk-estimator-id-7\" type=\"checkbox\" ><label for=\"sk-estimator-id-7\" class=\"sk-toggleable__label fitted sk-toggleable__label-arrow fitted\">&nbsp;&nbsp;GridSearchCV<a class=\"sk-estimator-doc-link fitted\" rel=\"noreferrer\" target=\"_blank\" href=\"https://scikit-learn.org/1.5/modules/generated/sklearn.model_selection.GridSearchCV.html\">?<span>Documentation for GridSearchCV</span></a><span class=\"sk-estimator-doc-link fitted\">i<span>Fitted</span></span></label><div class=\"sk-toggleable__content fitted\"><pre>GridSearchCV(cv=5,\n",
       "             estimator=Pipeline(steps=[(&#x27;countvectorizer&#x27;, CountVectorizer()),\n",
       "                                       (&#x27;svc&#x27;, SVC(C=1, kernel=&#x27;linear&#x27;))]),\n",
       "             param_grid={&#x27;svc__C&#x27;: array([0.1, 0.2, 0.3, 0.4, 0.5, 0.6, 0.7, 0.8, 0.9, 1. , 1.1, 1.2, 1.3,\n",
       "       1.4, 1.5, 1.6, 1.7, 1.8, 1.9])})</pre></div> </div></div><div class=\"sk-parallel\"><div class=\"sk-parallel-item\"><div class=\"sk-item\"><div class=\"sk-label-container\"><div class=\"sk-label fitted sk-toggleable\"><input class=\"sk-toggleable__control sk-hidden--visually\" id=\"sk-estimator-id-8\" type=\"checkbox\" ><label for=\"sk-estimator-id-8\" class=\"sk-toggleable__label fitted sk-toggleable__label-arrow fitted\">best_estimator_: Pipeline</label><div class=\"sk-toggleable__content fitted\"><pre>Pipeline(steps=[(&#x27;countvectorizer&#x27;, CountVectorizer()),\n",
       "                (&#x27;svc&#x27;, SVC(C=0.2, kernel=&#x27;linear&#x27;))])</pre></div> </div></div><div class=\"sk-serial\"><div class=\"sk-item\"><div class=\"sk-serial\"><div class=\"sk-item\"><div class=\"sk-estimator fitted sk-toggleable\"><input class=\"sk-toggleable__control sk-hidden--visually\" id=\"sk-estimator-id-9\" type=\"checkbox\" ><label for=\"sk-estimator-id-9\" class=\"sk-toggleable__label fitted sk-toggleable__label-arrow fitted\">&nbsp;CountVectorizer<a class=\"sk-estimator-doc-link fitted\" rel=\"noreferrer\" target=\"_blank\" href=\"https://scikit-learn.org/1.5/modules/generated/sklearn.feature_extraction.text.CountVectorizer.html\">?<span>Documentation for CountVectorizer</span></a></label><div class=\"sk-toggleable__content fitted\"><pre>CountVectorizer()</pre></div> </div></div><div class=\"sk-item\"><div class=\"sk-estimator fitted sk-toggleable\"><input class=\"sk-toggleable__control sk-hidden--visually\" id=\"sk-estimator-id-10\" type=\"checkbox\" ><label for=\"sk-estimator-id-10\" class=\"sk-toggleable__label fitted sk-toggleable__label-arrow fitted\">&nbsp;SVC<a class=\"sk-estimator-doc-link fitted\" rel=\"noreferrer\" target=\"_blank\" href=\"https://scikit-learn.org/1.5/modules/generated/sklearn.svm.SVC.html\">?<span>Documentation for SVC</span></a></label><div class=\"sk-toggleable__content fitted\"><pre>SVC(C=0.2, kernel=&#x27;linear&#x27;)</pre></div> </div></div></div></div></div></div></div></div></div></div></div>"
      ],
      "text/plain": [
       "GridSearchCV(cv=5,\n",
       "             estimator=Pipeline(steps=[('countvectorizer', CountVectorizer()),\n",
       "                                       ('svc', SVC(C=1, kernel='linear'))]),\n",
       "             param_grid={'svc__C': array([0.1, 0.2, 0.3, 0.4, 0.5, 0.6, 0.7, 0.8, 0.9, 1. , 1.1, 1.2, 1.3,\n",
       "       1.4, 1.5, 1.6, 1.7, 1.8, 1.9])})"
      ]
     },
     "execution_count": 76,
     "metadata": {},
     "output_type": "execute_result"
    }
   ],
   "source": [
    "param_grid = {'svc__C' : np.arange(0.1 , 2.0 , 0.1)\n",
    "             }\n",
    "grid = GridSearchCV(model, param_grid, cv=5)\n",
    "grid.fit(X_train, y_train.ravel())"
   ]
  },
  {
   "cell_type": "code",
   "execution_count": 77,
   "id": "79e49c0a-7210-4302-890c-a0a5c32eb54e",
   "metadata": {},
   "outputs": [
    {
     "data": {
      "text/plain": [
       "0.9818662414056977"
      ]
     },
     "execution_count": 77,
     "metadata": {},
     "output_type": "execute_result"
    }
   ],
   "source": [
    "grid.best_score_\n"
   ]
  },
  {
   "cell_type": "code",
   "execution_count": 78,
   "id": "1a9cefb7-fe25-47af-81ec-7bd1e1428fee",
   "metadata": {},
   "outputs": [
    {
     "data": {
      "text/plain": [
       "{'svc__C': 0.2}"
      ]
     },
     "execution_count": 78,
     "metadata": {},
     "output_type": "execute_result"
    }
   ],
   "source": [
    "grid.best_params_"
   ]
  },
  {
   "cell_type": "code",
   "execution_count": 79,
   "id": "5f9ee0de-6c9d-417e-9c11-a17bbdfe876e",
   "metadata": {},
   "outputs": [
    {
     "name": "stdout",
     "output_type": "stream",
     "text": [
      "0.9990328820116054\n",
      "0.9835589941972921\n"
     ]
    },
    {
     "data": {
      "text/plain": [
       "<sklearn.metrics._plot.confusion_matrix.ConfusionMatrixDisplay at 0x169c5abd0>"
      ]
     },
     "execution_count": 79,
     "metadata": {},
     "output_type": "execute_result"
    },
    {
     "data": {
      "image/png": "[encoded data removed]",
      "text/plain": [
       "<Figure size 640x480 with 2 Axes>"
      ]
     },
     "metadata": {},
     "output_type": "display_data"
    }
   ],
   "source": [
    "model = make_pipeline(CountVectorizer(),\n",
    "                      SVC(kernel = 'linear', C = 0.2))\n",
    "model.fit(X_train, y_train.ravel())\n",
    "print(model.score(X_train, y_train))\n",
    "print(model.score(X_test, y_test))\n",
    "\n",
    "cm = confusion_matrix(model.predict(X_test), y_test, normalize=\"true\")\n",
    "display = ConfusionMatrixDisplay(cm, display_labels = ['ham', 'spam'])\n",
    "display.plot()"
   ]
  },
  {
   "cell_type": "markdown",
   "id": "391eae7b-9653-4a61-be8f-35ef2912c3df",
   "metadata": {},
   "source": [
    "**Remarque :**  \n",
    "*Pour le SVC, la meilleure valeur de C varie selon le random state uilisé lors du train split. On va choisir arbitrairement C=0,2*"
   ]
  },
  {
   "cell_type": "markdown",
   "id": "71abcd4e-f642-484b-93e4-aef606d0de92",
   "metadata": {
    "jp-MarkdownHeadingCollapsed": true
   },
   "source": [
    "# On va essayer d'autres type d'extracteurs"
   ]
  },
  {
   "cell_type": "markdown",
   "id": "b05c8136-0c35-41bd-8a91-0cb6a2f09b32",
   "metadata": {},
   "source": [
    "## HashingVectorizer"
   ]
  },
  {
   "cell_type": "code",
   "execution_count": 83,
   "id": "10a7dae7-b06a-464d-82cb-d2f4e2454fbf",
   "metadata": {},
   "outputs": [
    {
     "name": "stdout",
     "output_type": "stream",
     "text": [
      "0.9770309477756286\n",
      "0.971953578336557\n"
     ]
    },
    {
     "data": {
      "text/plain": [
       "<sklearn.metrics._plot.confusion_matrix.ConfusionMatrixDisplay at 0x168dd33b0>"
      ]
     },
     "execution_count": 83,
     "metadata": {},
     "output_type": "execute_result"
    },
    {
     "data": {
      "image/png": "[encoded data removed]",
      "text/plain": [
       "<Figure size 640x480 with 2 Axes>"
      ]
     },
     "metadata": {},
     "output_type": "display_data"
    }
   ],
   "source": [
    "model = make_pipeline(HashingVectorizer(),\n",
    "                      SVC(kernel = 'linear', C = 0.2))\n",
    "model.fit(X_train, y_train.ravel())\n",
    "print(model.score(X_train, y_train))\n",
    "print(model.score(X_test, y_test))\n",
    "\n",
    "cm = confusion_matrix(model.predict(X_test), y_test, normalize=\"true\")\n",
    "display = ConfusionMatrixDisplay(cm, display_labels = ['ham', 'spam'])\n",
    "display.plot()"
   ]
  },
  {
   "cell_type": "code",
   "execution_count": 84,
   "id": "4a9c0b67-c3ee-407c-bb47-5ba888c423cf",
   "metadata": {},
   "outputs": [
    {
     "data": {
      "text/html": [
       "<style>#sk-container-id-4 {\n",
       "  /* Definition of color scheme common for light and dark mode */\n",
       "  --sklearn-color-text: black;\n",
       "  --sklearn-color-line: gray;\n",
       "  /* Definition of color scheme for unfitted estimators */\n",
       "  --sklearn-color-unfitted-level-0: #fff5e6;\n",
       "  --sklearn-color-unfitted-level-1: #f6e4d2;\n",
       "  --sklearn-color-unfitted-level-2: #ffe0b3;\n",
       "  --sklearn-color-unfitted-level-3: chocolate;\n",
       "  /* Definition of color scheme for fitted estimators */\n",
       "  --sklearn-color-fitted-level-0: #f0f8ff;\n",
       "  --sklearn-color-fitted-level-1: #d4ebff;\n",
       "  --sklearn-color-fitted-level-2: #b3dbfd;\n",
       "  --sklearn-color-fitted-level-3: cornflowerblue;\n",
       "\n",
       "  /* Specific color for light theme */\n",
       "  --sklearn-color-text-on-default-background: var(--sg-text-color, var(--theme-code-foreground, var(--jp-content-font-color1, black)));\n",
       "  --sklearn-color-background: var(--sg-background-color, var(--theme-background, var(--jp-layout-color0, white)));\n",
       "  --sklearn-color-border-box: var(--sg-text-color, var(--theme-code-foreground, var(--jp-content-font-color1, black)));\n",
       "  --sklearn-color-icon: #696969;\n",
       "\n",
       "  @media (prefers-color-scheme: dark) {\n",
       "    /* Redefinition of color scheme for dark theme */\n",
       "    --sklearn-color-text-on-default-background: var(--sg-text-color, var(--theme-code-foreground, var(--jp-content-font-color1, white)));\n",
       "    --sklearn-color-background: var(--sg-background-color, var(--theme-background, var(--jp-layout-color0, #111)));\n",
       "    --sklearn-color-border-box: var(--sg-text-color, var(--theme-code-foreground, var(--jp-content-font-color1, white)));\n",
       "    --sklearn-color-icon: #878787;\n",
       "  }\n",
       "}\n",
       "\n",
       "#sk-container-id-4 {\n",
       "  color: var(--sklearn-color-text);\n",
       "}\n",
       "\n",
       "#sk-container-id-4 pre {\n",
       "  padding: 0;\n",
       "}\n",
       "\n",
       "#sk-container-id-4 input.sk-hidden--visually {\n",
       "  border: 0;\n",
       "  clip: rect(1px 1px 1px 1px);\n",
       "  clip: rect(1px, 1px, 1px, 1px);\n",
       "  height: 1px;\n",
       "  margin: -1px;\n",
       "  overflow: hidden;\n",
       "  padding: 0;\n",
       "  position: absolute;\n",
       "  width: 1px;\n",
       "}\n",
       "\n",
       "#sk-container-id-4 div.sk-dashed-wrapped {\n",
       "  border: 1px dashed var(--sklearn-color-line);\n",
       "  margin: 0 0.4em 0.5em 0.4em;\n",
       "  box-sizing: border-box;\n",
       "  padding-bottom: 0.4em;\n",
       "  background-color: var(--sklearn-color-background);\n",
       "}\n",
       "\n",
       "#sk-container-id-4 div.sk-container {\n",
       "  /* jupyter's `normalize.less` sets `[hidden] { display: none; }`\n",
       "     but bootstrap.min.css set `[hidden] { display: none !important; }`\n",
       "     so we also need the `!important` here to be able to override the\n",
       "     default hidden behavior on the sphinx rendered scikit-learn.org.\n",
       "     See: https://github.com/scikit-learn/scikit-learn/issues/21755 */\n",
       "  display: inline-block !important;\n",
       "  position: relative;\n",
       "}\n",
       "\n",
       "#sk-container-id-4 div.sk-text-repr-fallback {\n",
       "  display: none;\n",
       "}\n",
       "\n",
       "div.sk-parallel-item,\n",
       "div.sk-serial,\n",
       "div.sk-item {\n",
       "  /* draw centered vertical line to link estimators */\n",
       "  background-image: linear-gradient(var(--sklearn-color-text-on-default-background), var(--sklearn-color-text-on-default-background));\n",
       "  background-size: 2px 100%;\n",
       "  background-repeat: no-repeat;\n",
       "  background-position: center center;\n",
       "}\n",
       "\n",
       "/* Parallel-specific style estimator block */\n",
       "\n",
       "#sk-container-id-4 div.sk-parallel-item::after {\n",
       "  content: \"\";\n",
       "  width: 100%;\n",
       "  border-bottom: 2px solid var(--sklearn-color-text-on-default-background);\n",
       "  flex-grow: 1;\n",
       "}\n",
       "\n",
       "#sk-container-id-4 div.sk-parallel {\n",
       "  display: flex;\n",
       "  align-items: stretch;\n",
       "  justify-content: center;\n",
       "  background-color: var(--sklearn-color-background);\n",
       "  position: relative;\n",
       "}\n",
       "\n",
       "#sk-container-id-4 div.sk-parallel-item {\n",
       "  display: flex;\n",
       "  flex-direction: column;\n",
       "}\n",
       "\n",
       "#sk-container-id-4 div.sk-parallel-item:first-child::after {\n",
       "  align-self: flex-end;\n",
       "  width: 50%;\n",
       "}\n",
       "\n",
       "#sk-container-id-4 div.sk-parallel-item:last-child::after {\n",
       "  align-self: flex-start;\n",
       "  width: 50%;\n",
       "}\n",
       "\n",
       "#sk-container-id-4 div.sk-parallel-item:only-child::after {\n",
       "  width: 0;\n",
       "}\n",
       "\n",
       "/* Serial-specific style estimator block */\n",
       "\n",
       "#sk-container-id-4 div.sk-serial {\n",
       "  display: flex;\n",
       "  flex-direction: column;\n",
       "  align-items: center;\n",
       "  background-color: var(--sklearn-color-background);\n",
       "  padding-right: 1em;\n",
       "  padding-left: 1em;\n",
       "}\n",
       "\n",
       "\n",
       "/* Toggleable style: style used for estimator/Pipeline/ColumnTransformer box that is\n",
       "clickable and can be expanded/collapsed.\n",
       "- Pipeline and ColumnTransformer use this feature and define the default style\n",
       "- Estimators will overwrite some part of the style using the `sk-estimator` class\n",
       "*/\n",
       "\n",
       "/* Pipeline and ColumnTransformer style (default) */\n",
       "\n",
       "#sk-container-id-4 div.sk-toggleable {\n",
       "  /* Default theme specific background. It is overwritten whether we have a\n",
       "  specific estimator or a Pipeline/ColumnTransformer */\n",
       "  background-color: var(--sklearn-color-background);\n",
       "}\n",
       "\n",
       "/* Toggleable label */\n",
       "#sk-container-id-4 label.sk-toggleable__label {\n",
       "  cursor: pointer;\n",
       "  display: block;\n",
       "  width: 100%;\n",
       "  margin-bottom: 0;\n",
       "  padding: 0.5em;\n",
       "  box-sizing: border-box;\n",
       "  text-align: center;\n",
       "}\n",
       "\n",
       "#sk-container-id-4 label.sk-toggleable__label-arrow:before {\n",
       "  /* Arrow on the left of the label */\n",
       "  content: \"▸\";\n",
       "  float: left;\n",
       "  margin-right: 0.25em;\n",
       "  color: var(--sklearn-color-icon);\n",
       "}\n",
       "\n",
       "#sk-container-id-4 label.sk-toggleable__label-arrow:hover:before {\n",
       "  color: var(--sklearn-color-text);\n",
       "}\n",
       "\n",
       "/* Toggleable content - dropdown */\n",
       "\n",
       "#sk-container-id-4 div.sk-toggleable__content {\n",
       "  max-height: 0;\n",
       "  max-width: 0;\n",
       "  overflow: hidden;\n",
       "  text-align: left;\n",
       "  /* unfitted */\n",
       "  background-color: var(--sklearn-color-unfitted-level-0);\n",
       "}\n",
       "\n",
       "#sk-container-id-4 div.sk-toggleable__content.fitted {\n",
       "  /* fitted */\n",
       "  background-color: var(--sklearn-color-fitted-level-0);\n",
       "}\n",
       "\n",
       "#sk-container-id-4 div.sk-toggleable__content pre {\n",
       "  margin: 0.2em;\n",
       "  border-radius: 0.25em;\n",
       "  color: var(--sklearn-color-text);\n",
       "  /* unfitted */\n",
       "  background-color: var(--sklearn-color-unfitted-level-0);\n",
       "}\n",
       "\n",
       "#sk-container-id-4 div.sk-toggleable__content.fitted pre {\n",
       "  /* unfitted */\n",
       "  background-color: var(--sklearn-color-fitted-level-0);\n",
       "}\n",
       "\n",
       "#sk-container-id-4 input.sk-toggleable__control:checked~div.sk-toggleable__content {\n",
       "  /* Expand drop-down */\n",
       "  max-height: 200px;\n",
       "  max-width: 100%;\n",
       "  overflow: auto;\n",
       "}\n",
       "\n",
       "#sk-container-id-4 input.sk-toggleable__control:checked~label.sk-toggleable__label-arrow:before {\n",
       "  content: \"▾\";\n",
       "}\n",
       "\n",
       "/* Pipeline/ColumnTransformer-specific style */\n",
       "\n",
       "#sk-container-id-4 div.sk-label input.sk-toggleable__control:checked~label.sk-toggleable__label {\n",
       "  color: var(--sklearn-color-text);\n",
       "  background-color: var(--sklearn-color-unfitted-level-2);\n",
       "}\n",
       "\n",
       "#sk-container-id-4 div.sk-label.fitted input.sk-toggleable__control:checked~label.sk-toggleable__label {\n",
       "  background-color: var(--sklearn-color-fitted-level-2);\n",
       "}\n",
       "\n",
       "/* Estimator-specific style */\n",
       "\n",
       "/* Colorize estimator box */\n",
       "#sk-container-id-4 div.sk-estimator input.sk-toggleable__control:checked~label.sk-toggleable__label {\n",
       "  /* unfitted */\n",
       "  background-color: var(--sklearn-color-unfitted-level-2);\n",
       "}\n",
       "\n",
       "#sk-container-id-4 div.sk-estimator.fitted input.sk-toggleable__control:checked~label.sk-toggleable__label {\n",
       "  /* fitted */\n",
       "  background-color: var(--sklearn-color-fitted-level-2);\n",
       "}\n",
       "\n",
       "#sk-container-id-4 div.sk-label label.sk-toggleable__label,\n",
       "#sk-container-id-4 div.sk-label label {\n",
       "  /* The background is the default theme color */\n",
       "  color: var(--sklearn-color-text-on-default-background);\n",
       "}\n",
       "\n",
       "/* On hover, darken the color of the background */\n",
       "#sk-container-id-4 div.sk-label:hover label.sk-toggleable__label {\n",
       "  color: var(--sklearn-color-text);\n",
       "  background-color: var(--sklearn-color-unfitted-level-2);\n",
       "}\n",
       "\n",
       "/* Label box, darken color on hover, fitted */\n",
       "#sk-container-id-4 div.sk-label.fitted:hover label.sk-toggleable__label.fitted {\n",
       "  color: var(--sklearn-color-text);\n",
       "  background-color: var(--sklearn-color-fitted-level-2);\n",
       "}\n",
       "\n",
       "/* Estimator label */\n",
       "\n",
       "#sk-container-id-4 div.sk-label label {\n",
       "  font-family: monospace;\n",
       "  font-weight: bold;\n",
       "  display: inline-block;\n",
       "  line-height: 1.2em;\n",
       "}\n",
       "\n",
       "#sk-container-id-4 div.sk-label-container {\n",
       "  text-align: center;\n",
       "}\n",
       "\n",
       "/* Estimator-specific */\n",
       "#sk-container-id-4 div.sk-estimator {\n",
       "  font-family: monospace;\n",
       "  border: 1px dotted var(--sklearn-color-border-box);\n",
       "  border-radius: 0.25em;\n",
       "  box-sizing: border-box;\n",
       "  margin-bottom: 0.5em;\n",
       "  /* unfitted */\n",
       "  background-color: var(--sklearn-color-unfitted-level-0);\n",
       "}\n",
       "\n",
       "#sk-container-id-4 div.sk-estimator.fitted {\n",
       "  /* fitted */\n",
       "  background-color: var(--sklearn-color-fitted-level-0);\n",
       "}\n",
       "\n",
       "/* on hover */\n",
       "#sk-container-id-4 div.sk-estimator:hover {\n",
       "  /* unfitted */\n",
       "  background-color: var(--sklearn-color-unfitted-level-2);\n",
       "}\n",
       "\n",
       "#sk-container-id-4 div.sk-estimator.fitted:hover {\n",
       "  /* fitted */\n",
       "  background-color: var(--sklearn-color-fitted-level-2);\n",
       "}\n",
       "\n",
       "/* Specification for estimator info (e.g. \"i\" and \"?\") */\n",
       "\n",
       "/* Common style for \"i\" and \"?\" */\n",
       "\n",
       ".sk-estimator-doc-link,\n",
       "a:link.sk-estimator-doc-link,\n",
       "a:visited.sk-estimator-doc-link {\n",
       "  float: right;\n",
       "  font-size: smaller;\n",
       "  line-height: 1em;\n",
       "  font-family: monospace;\n",
       "  background-color: var(--sklearn-color-background);\n",
       "  border-radius: 1em;\n",
       "  height: 1em;\n",
       "  width: 1em;\n",
       "  text-decoration: none !important;\n",
       "  margin-left: 1ex;\n",
       "  /* unfitted */\n",
       "  border: var(--sklearn-color-unfitted-level-1) 1pt solid;\n",
       "  color: var(--sklearn-color-unfitted-level-1);\n",
       "}\n",
       "\n",
       ".sk-estimator-doc-link.fitted,\n",
       "a:link.sk-estimator-doc-link.fitted,\n",
       "a:visited.sk-estimator-doc-link.fitted {\n",
       "  /* fitted */\n",
       "  border: var(--sklearn-color-fitted-level-1) 1pt solid;\n",
       "  color: var(--sklearn-color-fitted-level-1);\n",
       "}\n",
       "\n",
       "/* On hover */\n",
       "div.sk-estimator:hover .sk-estimator-doc-link:hover,\n",
       ".sk-estimator-doc-link:hover,\n",
       "div.sk-label-container:hover .sk-estimator-doc-link:hover,\n",
       ".sk-estimator-doc-link:hover {\n",
       "  /* unfitted */\n",
       "  background-color: var(--sklearn-color-unfitted-level-3);\n",
       "  color: var(--sklearn-color-background);\n",
       "  text-decoration: none;\n",
       "}\n",
       "\n",
       "div.sk-estimator.fitted:hover .sk-estimator-doc-link.fitted:hover,\n",
       ".sk-estimator-doc-link.fitted:hover,\n",
       "div.sk-label-container:hover .sk-estimator-doc-link.fitted:hover,\n",
       ".sk-estimator-doc-link.fitted:hover {\n",
       "  /* fitted */\n",
       "  background-color: var(--sklearn-color-fitted-level-3);\n",
       "  color: var(--sklearn-color-background);\n",
       "  text-decoration: none;\n",
       "}\n",
       "\n",
       "/* Span, style for the box shown on hovering the info icon */\n",
       ".sk-estimator-doc-link span {\n",
       "  display: none;\n",
       "  z-index: 9999;\n",
       "  position: relative;\n",
       "  font-weight: normal;\n",
       "  right: .2ex;\n",
       "  padding: .5ex;\n",
       "  margin: .5ex;\n",
       "  width: min-content;\n",
       "  min-width: 20ex;\n",
       "  max-width: 50ex;\n",
       "  color: var(--sklearn-color-text);\n",
       "  box-shadow: 2pt 2pt 4pt #999;\n",
       "  /* unfitted */\n",
       "  background: var(--sklearn-color-unfitted-level-0);\n",
       "  border: .5pt solid var(--sklearn-color-unfitted-level-3);\n",
       "}\n",
       "\n",
       ".sk-estimator-doc-link.fitted span {\n",
       "  /* fitted */\n",
       "  background: var(--sklearn-color-fitted-level-0);\n",
       "  border: var(--sklearn-color-fitted-level-3);\n",
       "}\n",
       "\n",
       ".sk-estimator-doc-link:hover span {\n",
       "  display: block;\n",
       "}\n",
       "\n",
       "/* \"?\"-specific style due to the `<a>` HTML tag */\n",
       "\n",
       "#sk-container-id-4 a.estimator_doc_link {\n",
       "  float: right;\n",
       "  font-size: 1rem;\n",
       "  line-height: 1em;\n",
       "  font-family: monospace;\n",
       "  background-color: var(--sklearn-color-background);\n",
       "  border-radius: 1rem;\n",
       "  height: 1rem;\n",
       "  width: 1rem;\n",
       "  text-decoration: none;\n",
       "  /* unfitted */\n",
       "  color: var(--sklearn-color-unfitted-level-1);\n",
       "  border: var(--sklearn-color-unfitted-level-1) 1pt solid;\n",
       "}\n",
       "\n",
       "#sk-container-id-4 a.estimator_doc_link.fitted {\n",
       "  /* fitted */\n",
       "  border: var(--sklearn-color-fitted-level-1) 1pt solid;\n",
       "  color: var(--sklearn-color-fitted-level-1);\n",
       "}\n",
       "\n",
       "/* On hover */\n",
       "#sk-container-id-4 a.estimator_doc_link:hover {\n",
       "  /* unfitted */\n",
       "  background-color: var(--sklearn-color-unfitted-level-3);\n",
       "  color: var(--sklearn-color-background);\n",
       "  text-decoration: none;\n",
       "}\n",
       "\n",
       "#sk-container-id-4 a.estimator_doc_link.fitted:hover {\n",
       "  /* fitted */\n",
       "  background-color: var(--sklearn-color-fitted-level-3);\n",
       "}\n",
       "</style><div id=\"sk-container-id-4\" class=\"sk-top-container\"><div class=\"sk-text-repr-fallback\"><pre>GridSearchCV(cv=5,\n",
       "             estimator=Pipeline(steps=[(&#x27;hashingvectorizer&#x27;,\n",
       "                                        HashingVectorizer()),\n",
       "                                       (&#x27;svc&#x27;, SVC(C=0.2, kernel=&#x27;linear&#x27;))]),\n",
       "             param_grid={&#x27;hashingvectorizer__n_features&#x27;: array([ 500, 1000, 1500, 2000, 2500, 3000, 3500, 4000, 4500, 5000, 5500])})</pre><b>In a Jupyter environment, please rerun this cell to show the HTML representation or trust the notebook. <br />On GitHub, the HTML representation is unable to render, please try loading this page with nbviewer.org.</b></div><div class=\"sk-container\" hidden><div class=\"sk-item sk-dashed-wrapped\"><div class=\"sk-label-container\"><div class=\"sk-label fitted sk-toggleable\"><input class=\"sk-toggleable__control sk-hidden--visually\" id=\"sk-estimator-id-11\" type=\"checkbox\" ><label for=\"sk-estimator-id-11\" class=\"sk-toggleable__label fitted sk-toggleable__label-arrow fitted\">&nbsp;&nbsp;GridSearchCV<a class=\"sk-estimator-doc-link fitted\" rel=\"noreferrer\" target=\"_blank\" href=\"https://scikit-learn.org/1.5/modules/generated/sklearn.model_selection.GridSearchCV.html\">?<span>Documentation for GridSearchCV</span></a><span class=\"sk-estimator-doc-link fitted\">i<span>Fitted</span></span></label><div class=\"sk-toggleable__content fitted\"><pre>GridSearchCV(cv=5,\n",
       "             estimator=Pipeline(steps=[(&#x27;hashingvectorizer&#x27;,\n",
       "                                        HashingVectorizer()),\n",
       "                                       (&#x27;svc&#x27;, SVC(C=0.2, kernel=&#x27;linear&#x27;))]),\n",
       "             param_grid={&#x27;hashingvectorizer__n_features&#x27;: array([ 500, 1000, 1500, 2000, 2500, 3000, 3500, 4000, 4500, 5000, 5500])})</pre></div> </div></div><div class=\"sk-parallel\"><div class=\"sk-parallel-item\"><div class=\"sk-item\"><div class=\"sk-label-container\"><div class=\"sk-label fitted sk-toggleable\"><input class=\"sk-toggleable__control sk-hidden--visually\" id=\"sk-estimator-id-12\" type=\"checkbox\" ><label for=\"sk-estimator-id-12\" class=\"sk-toggleable__label fitted sk-toggleable__label-arrow fitted\">best_estimator_: Pipeline</label><div class=\"sk-toggleable__content fitted\"><pre>Pipeline(steps=[(&#x27;hashingvectorizer&#x27;, HashingVectorizer(n_features=5000)),\n",
       "                (&#x27;svc&#x27;, SVC(C=0.2, kernel=&#x27;linear&#x27;))])</pre></div> </div></div><div class=\"sk-serial\"><div class=\"sk-item\"><div class=\"sk-serial\"><div class=\"sk-item\"><div class=\"sk-estimator fitted sk-toggleable\"><input class=\"sk-toggleable__control sk-hidden--visually\" id=\"sk-estimator-id-13\" type=\"checkbox\" ><label for=\"sk-estimator-id-13\" class=\"sk-toggleable__label fitted sk-toggleable__label-arrow fitted\">&nbsp;HashingVectorizer<a class=\"sk-estimator-doc-link fitted\" rel=\"noreferrer\" target=\"_blank\" href=\"https://scikit-learn.org/1.5/modules/generated/sklearn.feature_extraction.text.HashingVectorizer.html\">?<span>Documentation for HashingVectorizer</span></a></label><div class=\"sk-toggleable__content fitted\"><pre>HashingVectorizer(n_features=5000)</pre></div> </div></div><div class=\"sk-item\"><div class=\"sk-estimator fitted sk-toggleable\"><input class=\"sk-toggleable__control sk-hidden--visually\" id=\"sk-estimator-id-14\" type=\"checkbox\" ><label for=\"sk-estimator-id-14\" class=\"sk-toggleable__label fitted sk-toggleable__label-arrow fitted\">&nbsp;SVC<a class=\"sk-estimator-doc-link fitted\" rel=\"noreferrer\" target=\"_blank\" href=\"https://scikit-learn.org/1.5/modules/generated/sklearn.svm.SVC.html\">?<span>Documentation for SVC</span></a></label><div class=\"sk-toggleable__content fitted\"><pre>SVC(C=0.2, kernel=&#x27;linear&#x27;)</pre></div> </div></div></div></div></div></div></div></div></div></div></div>"
      ],
      "text/plain": [
       "GridSearchCV(cv=5,\n",
       "             estimator=Pipeline(steps=[('hashingvectorizer',\n",
       "                                        HashingVectorizer()),\n",
       "                                       ('svc', SVC(C=0.2, kernel='linear'))]),\n",
       "             param_grid={'hashingvectorizer__n_features': array([ 500, 1000, 1500, 2000, 2500, 3000, 3500, 4000, 4500, 5000, 5500])})"
      ]
     },
     "execution_count": 84,
     "metadata": {},
     "output_type": "execute_result"
    }
   ],
   "source": [
    "param_grid = {'hashingvectorizer__n_features' : np.arange(500 , 6000 , 500)\n",
    "             }\n",
    "grid = GridSearchCV(model, param_grid, cv=5)\n",
    "grid.fit(X_train, y_train.ravel())"
   ]
  },
  {
   "cell_type": "code",
   "execution_count": 85,
   "id": "492b9324-cfce-4f21-884f-4efc598be9d9",
   "metadata": {},
   "outputs": [
    {
     "data": {
      "text/plain": [
       "0.9642161587485176"
      ]
     },
     "execution_count": 85,
     "metadata": {},
     "output_type": "execute_result"
    }
   ],
   "source": [
    "grid.best_score_\n"
   ]
  },
  {
   "cell_type": "code",
   "execution_count": 86,
   "id": "1ae4815d-077e-4c11-ae30-ea10ae461138",
   "metadata": {},
   "outputs": [
    {
     "data": {
      "text/plain": [
       "{'hashingvectorizer__n_features': 5000}"
      ]
     },
     "execution_count": 86,
     "metadata": {},
     "output_type": "execute_result"
    }
   ],
   "source": [
    "grid.best_params_"
   ]
  },
  {
   "cell_type": "markdown",
   "id": "70fe4209-dc1d-4c38-85a2-0b41c88cbc15",
   "metadata": {},
   "source": [
    "## TfidVectorizer"
   ]
  },
  {
   "cell_type": "code",
   "execution_count": 88,
   "id": "5c6ddf3c-1d5d-4fef-9a3b-578552ee2d70",
   "metadata": {},
   "outputs": [
    {
     "name": "stdout",
     "output_type": "stream",
     "text": [
      "0.9748549323017408\n",
      "0.9709864603481625\n"
     ]
    },
    {
     "data": {
      "text/plain": [
       "<sklearn.metrics._plot.confusion_matrix.ConfusionMatrixDisplay at 0x16b33a1b0>"
      ]
     },
     "execution_count": 88,
     "metadata": {},
     "output_type": "execute_result"
    },
    {
     "data": {
      "image/png": "[encoded data removed]",
      "text/plain": [
       "<Figure size 640x480 with 2 Axes>"
      ]
     },
     "metadata": {},
     "output_type": "display_data"
    }
   ],
   "source": [
    "model = make_pipeline(TfidfVectorizer(),\n",
    "                      SVC(kernel = 'linear', C = 0.2))\n",
    "model.fit(X_train, y_train.ravel())\n",
    "print(model.score(X_train, y_train))\n",
    "print(model.score(X_test, y_test))\n",
    "\n",
    "cm = confusion_matrix(model.predict(X_test), y_test, normalize=\"true\")\n",
    "display = ConfusionMatrixDisplay(cm, display_labels = ['ham', 'spam'])\n",
    "display.plot()"
   ]
  },
  {
   "cell_type": "markdown",
   "id": "62bfeb9b-55f2-4881-a754-cdbaa59651e2",
   "metadata": {},
   "source": [
    "**Remarque :**  \n",
    "*Apres plusieurs tests sur les features extracteurs, le countVectorizer semble offrir les meilleures performances pour notre SVC*"
   ]
  },
  {
   "cell_type": "markdown",
   "id": "5104252d-568f-4847-b5d3-8e8b4af3fa84",
   "metadata": {},
   "source": [
    "# Essayons d'autres classifiers\n",
    "et ajoutons-y des metriques avec classification_report"
   ]
  },
  {
   "cell_type": "markdown",
   "id": "31385064-77e0-49cf-a221-3e9308a53800",
   "metadata": {},
   "source": [
    "## KNN classifier"
   ]
  },
  {
   "cell_type": "code",
   "execution_count": 92,
   "id": "082047fa-d533-413e-9df1-492a85186c56",
   "metadata": {},
   "outputs": [
    {
     "name": "stdout",
     "output_type": "stream",
     "text": [
      "0.9248065764023211\n",
      "0.9148936170212766\n",
      "              precision    recall  f1-score   support\n",
      "\n",
      "         ham       0.91      1.00      0.95       894\n",
      "        spam       1.00      0.37      0.54       140\n",
      "\n",
      "    accuracy                           0.91      1034\n",
      "   macro avg       0.96      0.69      0.75      1034\n",
      "weighted avg       0.92      0.91      0.90      1034\n",
      "\n"
     ]
    },
    {
     "data": {
      "image/png": "[encoded data removed]",
      "text/plain": [
       "<Figure size 640x480 with 2 Axes>"
      ]
     },
     "metadata": {},
     "output_type": "display_data"
    }
   ],
   "source": [
    "from sklearn.neighbors import KNeighborsClassifier\n",
    "\n",
    "model = make_pipeline(CountVectorizer(),\n",
    "                      KNeighborsClassifier(n_neighbors=5))\n",
    "model.fit(X_train, y_train.ravel())\n",
    "print(model.score(X_train, y_train))\n",
    "print(model.score(X_test, y_test))\n",
    "y_pred = model.predict(X_test)\n",
    "cm = confusion_matrix(model.predict(X_test), y_test, normalize=\"true\")\n",
    "display = ConfusionMatrixDisplay(cm, display_labels = ['ham', 'spam'])\n",
    "display.plot()\n",
    "target_names = ['ham', 'spam']\n",
    "print(classification_report(y_test, y_pred, target_names=target_names))"
   ]
  },
  {
   "cell_type": "markdown",
   "id": "3d87c68f-da23-4f47-afa0-f6570c8c4e2b",
   "metadata": {},
   "source": [
    "### GridSearchCV sur les parametres de notre KNN\n"
   ]
  },
  {
   "cell_type": "code",
   "execution_count": 94,
   "id": "434873a1-4b19-4434-9399-981ed4764a3c",
   "metadata": {},
   "outputs": [
    {
     "name": "stdout",
     "output_type": "stream",
     "text": [
      "0.9708352731115882\n",
      "{'kneighborsclassifier__metric': 'cosine', 'kneighborsclassifier__n_neighbors': 70}\n"
     ]
    }
   ],
   "source": [
    "param_grid = {'kneighborsclassifier__n_neighbors' : [25, 70],#np.arange(39, 80 , 1),\n",
    "              'kneighborsclassifier__metric' : ['euclidean', 'cityblock', 'cosine', 'manhattan'],\n",
    "              #'kneighborsclassifier__algorithm' : ['ball_tree', 'kd_tree' ]\n",
    "             }\n",
    "grid = GridSearchCV(model, param_grid, cv=5, scoring = 'roc_auc')\n",
    "grid.fit(X_train, y_train.ravel())\n",
    "print(grid.best_score_)\n",
    "print(grid.best_params_)"
   ]
  },
  {
   "cell_type": "code",
   "execution_count": 95,
   "id": "401304d0-9791-4516-9caf-cc8e4c0f8c68",
   "metadata": {},
   "outputs": [
    {
     "name": "stdout",
     "output_type": "stream",
     "text": [
      "0.9373791102514507\n",
      "0.9313346228239845\n",
      "              precision    recall  f1-score   support\n",
      "\n",
      "         ham       0.93      1.00      0.96       894\n",
      "        spam       1.00      0.49      0.66       140\n",
      "\n",
      "    accuracy                           0.93      1034\n",
      "   macro avg       0.96      0.75      0.81      1034\n",
      "weighted avg       0.94      0.93      0.92      1034\n",
      "\n"
     ]
    },
    {
     "data": {
      "image/png": "[encoded data removed]",
      "text/plain": [
       "<Figure size 640x480 with 2 Axes>"
      ]
     },
     "metadata": {},
     "output_type": "display_data"
    }
   ],
   "source": [
    "model = make_pipeline(CountVectorizer(),\n",
    "                      KNeighborsClassifier(metric = 'cosine', n_neighbors=70))\n",
    "model.fit(X_train, y_train.ravel())\n",
    "print(model.score(X_train, y_train))\n",
    "print(model.score(X_test, y_test))\n",
    "y_pred = model.predict(X_test)\n",
    "cm = confusion_matrix(model.predict(X_test), y_test, normalize=\"true\")\n",
    "display = ConfusionMatrixDisplay(cm, display_labels = ['ham', 'spam'])\n",
    "display.plot()\n",
    "target_names = ['ham', 'spam']\n",
    "print(classification_report(y_test, y_pred, target_names=target_names))"
   ]
  },
  {
   "cell_type": "code",
   "execution_count": 96,
   "id": "10d3638f-f08f-427f-911b-55346f6b874a",
   "metadata": {},
   "outputs": [
    {
     "name": "stdout",
     "output_type": "stream",
     "text": [
      "0.9828336557059961\n",
      "0.965183752417795\n",
      "              precision    recall  f1-score   support\n",
      "\n",
      "         ham       0.97      0.99      0.98       894\n",
      "        spam       0.96      0.78      0.86       140\n",
      "\n",
      "    accuracy                           0.97      1034\n",
      "   macro avg       0.96      0.89      0.92      1034\n",
      "weighted avg       0.96      0.97      0.96      1034\n",
      "\n"
     ]
    },
    {
     "data": {
      "image/png": "[encoded data removed]",
      "text/plain": [
       "<Figure size 640x480 with 2 Axes>"
      ]
     },
     "metadata": {},
     "output_type": "display_data"
    }
   ],
   "source": [
    "model = make_pipeline(CountVectorizer(),\n",
    "                      KNeighborsClassifier(metric = 'cosine', n_neighbors=3))\n",
    "model.fit(X_train, y_train.ravel())\n",
    "print(model.score(X_train, y_train))\n",
    "print(model.score(X_test, y_test))\n",
    "y_pred = model.predict(X_test)\n",
    "cm = confusion_matrix(model.predict(X_test), y_test, normalize=\"true\")\n",
    "display = ConfusionMatrixDisplay(cm, display_labels = ['ham', 'spam'])\n",
    "display.plot()\n",
    "target_names = ['ham', 'spam']\n",
    "print(classification_report(y_test, y_pred, target_names=target_names))"
   ]
  },
  {
   "cell_type": "code",
   "execution_count": 97,
   "id": "3ad79bef-426e-444a-a314-ea6f58e7f94d",
   "metadata": {},
   "outputs": [
    {
     "data": {
      "text/plain": [
       "make_scorer(roc_auc_score, response_method=('decision_function', 'predict_proba'))"
      ]
     },
     "execution_count": 97,
     "metadata": {},
     "output_type": "execute_result"
    }
   ],
   "source": [
    "grid.scorer_\n"
   ]
  },
  {
   "cell_type": "markdown",
   "id": "4eb3b13c-8285-417b-9722-7725d4b1246c",
   "metadata": {},
   "source": [
    "On refait les tests avec le scorer 'roc_auc'"
   ]
  },
  {
   "cell_type": "code",
   "execution_count": 99,
   "id": "618360c0-f625-4036-a801-c54a7b8706a8",
   "metadata": {},
   "outputs": [
    {
     "name": "stdout",
     "output_type": "stream",
     "text": [
      "0.9897098927621106\n",
      "{'svc__C': 0.1}\n"
     ]
    }
   ],
   "source": [
    "model = make_pipeline(CountVectorizer(),\n",
    "                      SVC(kernel = 'linear', C = 1))\n",
    "param_grid = {'svc__C' : np.arange(0.1 , 2.0 , 0.1)\n",
    "             }\n",
    "grid = GridSearchCV(model, param_grid, cv=5, scoring = 'roc_auc')\n",
    "grid.fit(X_train, y_train.ravel())\n",
    "print(grid.best_score_)\n",
    "print(grid.best_params_)"
   ]
  },
  {
   "cell_type": "code",
   "execution_count": 100,
   "id": "578429e0-3d61-4c2c-998e-5427892b5b8a",
   "metadata": {},
   "outputs": [
    {
     "data": {
      "text/plain": [
       "make_scorer(roc_auc_score, response_method=('decision_function', 'predict_proba'))"
      ]
     },
     "execution_count": 100,
     "metadata": {},
     "output_type": "execute_result"
    }
   ],
   "source": [
    "grid.scorer_\n"
   ]
  },
  {
   "cell_type": "code",
   "execution_count": 101,
   "id": "8bfeb969-7fa8-43b1-a7aa-9563741d873f",
   "metadata": {},
   "outputs": [],
   "source": [
    "X_train, X_test, y_train, y_test = train_test_split(X, y, test_size=0.20, random_state=14)"
   ]
  },
  {
   "cell_type": "code",
   "execution_count": 102,
   "id": "80ac9f2a-cb6d-4c0b-a732-62220c9ba105",
   "metadata": {},
   "outputs": [
    {
     "name": "stdout",
     "output_type": "stream",
     "text": [
      "0.9990328820116054\n",
      "0.9835589941972921\n",
      "              precision    recall  f1-score   support\n",
      "\n",
      "         ham       0.98      1.00      0.99       904\n",
      "        spam       0.99      0.88      0.93       130\n",
      "\n",
      "    accuracy                           0.98      1034\n",
      "   macro avg       0.99      0.94      0.96      1034\n",
      "weighted avg       0.98      0.98      0.98      1034\n",
      "\n"
     ]
    },
    {
     "data": {
      "image/png": "[encoded data removed]",
      "text/plain": [
       "<Figure size 640x480 with 2 Axes>"
      ]
     },
     "metadata": {},
     "output_type": "display_data"
    }
   ],
   "source": [
    "model = make_pipeline(CountVectorizer(),\n",
    "                      SVC(kernel = 'linear', C = 0.2))\n",
    "model.fit(X_train, y_train.ravel())\n",
    "print(model.score(X_train, y_train))\n",
    "print(model.score(X_test, y_test))\n",
    "y_pred = model.predict(X_test)\n",
    "cm = confusion_matrix(model.predict(X_test), y_test, normalize=\"true\")\n",
    "display = ConfusionMatrixDisplay(cm, display_labels = ['ham', 'spam'])\n",
    "display.plot()\n",
    "target_names = ['ham', 'spam']\n",
    "print(classification_report(y_test, y_pred, target_names=target_names))"
   ]
  },
  {
   "cell_type": "code",
   "execution_count": 103,
   "id": "788ef711-04fc-4a6b-8d9d-f26c87912a3f",
   "metadata": {},
   "outputs": [
    {
     "name": "stdout",
     "output_type": "stream",
     "text": [
      "0.995889748549323\n",
      "0.9796905222437138\n",
      "              precision    recall  f1-score   support\n",
      "\n",
      "         ham       0.98      1.00      0.99       904\n",
      "        spam       0.99      0.85      0.91       130\n",
      "\n",
      "    accuracy                           0.98      1034\n",
      "   macro avg       0.98      0.92      0.95      1034\n",
      "weighted avg       0.98      0.98      0.98      1034\n",
      "\n"
     ]
    },
    {
     "data": {
      "image/png": "[encoded data removed]",
      "text/plain": [
       "<Figure size 640x480 with 2 Axes>"
      ]
     },
     "metadata": {},
     "output_type": "display_data"
    }
   ],
   "source": [
    "model = make_pipeline(CountVectorizer(),\n",
    "                      SVC(kernel = 'linear', C = 0.1))\n",
    "model.fit(X_train, y_train.ravel())\n",
    "print(model.score(X_train, y_train))\n",
    "print(model.score(X_test, y_test))\n",
    "y_pred = model.predict(X_test)\n",
    "cm = confusion_matrix(model.predict(X_test), y_test, normalize=\"true\")\n",
    "display = ConfusionMatrixDisplay(cm, display_labels = ['ham', 'spam'])\n",
    "display.plot()\n",
    "target_names = ['ham', 'spam']\n",
    "print(classification_report(y_test, y_pred, target_names=target_names))"
   ]
  },
  {
   "cell_type": "code",
   "execution_count": 104,
   "id": "a51df4c6-c34f-40c4-af1a-25e9b4ff5497",
   "metadata": {},
   "outputs": [
    {
     "name": "stdout",
     "output_type": "stream",
     "text": [
      "0.9354448742746615\n",
      "0.937137330754352\n",
      "              precision    recall  f1-score   support\n",
      "\n",
      "         ham       0.93      1.00      0.97       904\n",
      "        spam       0.99      0.51      0.67       130\n",
      "\n",
      "    accuracy                           0.94      1034\n",
      "   macro avg       0.96      0.75      0.82      1034\n",
      "weighted avg       0.94      0.94      0.93      1034\n",
      "\n"
     ]
    },
    {
     "data": {
      "image/png": "[encoded data removed]",
      "text/plain": [
       "<Figure size 640x480 with 2 Axes>"
      ]
     },
     "metadata": {},
     "output_type": "display_data"
    }
   ],
   "source": [
    "model = make_pipeline(CountVectorizer(),\n",
    "                      KNeighborsClassifier(metric = 'cosine', n_neighbors=70))\n",
    "model.fit(X_train, y_train.ravel())\n",
    "print(model.score(X_train, y_train))\n",
    "print(model.score(X_test, y_test))\n",
    "y_pred = model.predict(X_test)\n",
    "cm = confusion_matrix(model.predict(X_test), y_test, normalize=\"true\")\n",
    "display = ConfusionMatrixDisplay(cm, display_labels = ['ham', 'spam'])\n",
    "display.plot()\n",
    "target_names = ['ham', 'spam']\n",
    "print(classification_report(y_test, y_pred, target_names=target_names))"
   ]
  },
  {
   "cell_type": "markdown",
   "id": "2de62978-9bb5-4772-8e04-287f9f5278b6",
   "metadata": {},
   "source": [
    "## MultinomialNB"
   ]
  },
  {
   "cell_type": "code",
   "execution_count": 106,
   "id": "5e327215-134e-46f1-82a2-17200e35f9e6",
   "metadata": {},
   "outputs": [
    {
     "name": "stdout",
     "output_type": "stream",
     "text": [
      "0.9932301740812379\n",
      "0.9864603481624759\n",
      "              precision    recall  f1-score   support\n",
      "\n",
      "         ham       0.99      1.00      0.99       904\n",
      "        spam       0.98      0.92      0.94       130\n",
      "\n",
      "    accuracy                           0.99      1034\n",
      "   macro avg       0.98      0.96      0.97      1034\n",
      "weighted avg       0.99      0.99      0.99      1034\n",
      "\n"
     ]
    },
    {
     "data": {
      "image/png": "[encoded data removed]",
      "text/plain": [
       "<Figure size 640x480 with 2 Axes>"
      ]
     },
     "metadata": {},
     "output_type": "display_data"
    }
   ],
   "source": [
    "from sklearn.naive_bayes import MultinomialNB\n",
    "\n",
    "model = make_pipeline(CountVectorizer(),\n",
    "                      MultinomialNB())\n",
    "model.fit(X_train, y_train.ravel())\n",
    "print(model.score(X_train, y_train))\n",
    "print(model.score(X_test, y_test))\n",
    "y_pred = model.predict(X_test)\n",
    "cm = confusion_matrix(model.predict(X_test), y_test, normalize=\"true\")\n",
    "display = ConfusionMatrixDisplay(cm, display_labels = ['ham', 'spam'])\n",
    "display.plot()\n",
    "target_names = ['ham', 'spam']\n",
    "print(classification_report(y_test, y_pred, target_names=target_names))"
   ]
  },
  {
   "cell_type": "markdown",
   "id": "6ff15e27-4bb6-4e28-89ad-0e3f2978bf63",
   "metadata": {},
   "source": [
    "## MultinomialNB + CountVectorizer(stop_words='english')"
   ]
  },
  {
   "cell_type": "code",
   "execution_count": 108,
   "id": "a8a297ef-c5b3-43f6-97a2-c0844e0aa992",
   "metadata": {},
   "outputs": [
    {
     "name": "stdout",
     "output_type": "stream",
     "text": [
      "0.9956479690522244\n",
      "0.9845261121856866\n",
      "              precision    recall  f1-score   support\n",
      "\n",
      "         ham       0.99      1.00      0.99       904\n",
      "        spam       0.97      0.91      0.94       130\n",
      "\n",
      "    accuracy                           0.98      1034\n",
      "   macro avg       0.98      0.95      0.96      1034\n",
      "weighted avg       0.98      0.98      0.98      1034\n",
      "\n"
     ]
    },
    {
     "data": {
      "image/png": "[encoded data removed]",
      "text/plain": [
       "<Figure size 640x480 with 2 Axes>"
      ]
     },
     "metadata": {},
     "output_type": "display_data"
    }
   ],
   "source": [
    "from sklearn.naive_bayes import MultinomialNB\n",
    "\n",
    "model = make_pipeline(CountVectorizer(stop_words='english'),\n",
    "                      MultinomialNB())\n",
    "model.fit(X_train, y_train.ravel())\n",
    "print(model.score(X_train, y_train))\n",
    "print(model.score(X_test, y_test))\n",
    "y_pred = model.predict(X_test)\n",
    "cm = confusion_matrix(model.predict(X_test), y_test, normalize=\"true\")\n",
    "display = ConfusionMatrixDisplay(cm, display_labels = ['ham', 'spam'])\n",
    "display.plot()\n",
    "target_names = ['ham', 'spam']\n",
    "print(classification_report(y_test, y_pred, target_names=target_names))"
   ]
  },
  {
   "cell_type": "markdown",
   "id": "bbf422c3-f9e7-45d4-8386-6e4c9a841315",
   "metadata": {},
   "source": [
    "## SVC + CountVectorizer(stop_words='english')"
   ]
  },
  {
   "cell_type": "code",
   "execution_count": 110,
   "id": "ba4c8f6e-a65a-4dde-916c-d9ae7b86b036",
   "metadata": {},
   "outputs": [
    {
     "name": "stdout",
     "output_type": "stream",
     "text": [
      "0.9975822050290135\n",
      "0.9787234042553191\n",
      "              precision    recall  f1-score   support\n",
      "\n",
      "         ham       0.98      1.00      0.99       904\n",
      "        spam       1.00      0.83      0.91       130\n",
      "\n",
      "    accuracy                           0.98      1034\n",
      "   macro avg       0.99      0.92      0.95      1034\n",
      "weighted avg       0.98      0.98      0.98      1034\n",
      "\n"
     ]
    },
    {
     "data": {
      "image/png": "[encoded data removed]",
      "text/plain": [
       "<Figure size 640x480 with 2 Axes>"
      ]
     },
     "metadata": {},
     "output_type": "display_data"
    }
   ],
   "source": [
    "model = make_pipeline(CountVectorizer(stop_words='english'),\n",
    "                      SVC(kernel = 'linear', C = 0.2))\n",
    "model.fit(X_train, y_train.ravel())\n",
    "print(model.score(X_train, y_train))\n",
    "print(model.score(X_test, y_test))\n",
    "y_pred = model.predict(X_test)\n",
    "cm = confusion_matrix(model.predict(X_test), y_test, normalize=\"true\")\n",
    "display = ConfusionMatrixDisplay(cm, display_labels = ['ham', 'spam'])\n",
    "display.plot()\n",
    "target_names = ['ham', 'spam']\n",
    "print(classification_report(y_test, y_pred, target_names=target_names))"
   ]
  },
  {
   "cell_type": "markdown",
   "id": "4b97d218-da42-4a65-8359-c3bea6aba227",
   "metadata": {},
   "source": [
    "## SVC + CountVectorizer(stop_words='english', ngram_range=(2,2))"
   ]
  },
  {
   "cell_type": "code",
   "execution_count": 112,
   "id": "7eef92fd-58bf-4ec9-8fa1-807e1290331f",
   "metadata": {},
   "outputs": [
    {
     "name": "stdout",
     "output_type": "stream",
     "text": [
      "0.9975822050290135\n",
      "0.9535783365570599\n",
      "              precision    recall  f1-score   support\n",
      "\n",
      "         ham       0.95      1.00      0.97       904\n",
      "        spam       1.00      0.63      0.77       130\n",
      "\n",
      "    accuracy                           0.95      1034\n",
      "   macro avg       0.97      0.82      0.87      1034\n",
      "weighted avg       0.96      0.95      0.95      1034\n",
      "\n"
     ]
    },
    {
     "data": {
      "image/png": "[encoded data removed]",
      "text/plain": [
       "<Figure size 640x480 with 2 Axes>"
      ]
     },
     "metadata": {},
     "output_type": "display_data"
    }
   ],
   "source": [
    "model = make_pipeline(CountVectorizer(analyzer='word', ngram_range=(2, 2), stop_words='english'),\n",
    "                      SVC(kernel = 'linear', C = 0.2))\n",
    "model.fit(X_train, y_train.ravel())\n",
    "print(model.score(X_train, y_train))\n",
    "print(model.score(X_test, y_test))\n",
    "y_pred = model.predict(X_test)\n",
    "cm = confusion_matrix(model.predict(X_test), y_test, normalize=\"true\")\n",
    "display = ConfusionMatrixDisplay(cm, display_labels = ['ham', 'spam'])\n",
    "display.plot()\n",
    "target_names = ['ham', 'spam']\n",
    "print(classification_report(y_test, y_pred, target_names=target_names))"
   ]
  },
  {
   "cell_type": "markdown",
   "id": "e2faf33c-df47-431d-8a1d-00a40d0bc682",
   "metadata": {},
   "source": [
    "**Remarque :**  \n",
    "*En jouant sur les options du CountVectorizer, je ne note aucune amélioration significative. Je vais donc le garder sans aucune option de base et continuer d'essayer de trouver un classifier plus performant.  Par plus performant, j'entends minimiser le nombre de faux négatif ('ham' classé en 'spam') car il me semble que c'est le plus important.*"
   ]
  },
  {
   "cell_type": "markdown",
   "id": "015d550c-36e3-408e-a26f-7cd1e106ca73",
   "metadata": {},
   "source": [
    "## SGDClassifier + CountVectorizer"
   ]
  },
  {
   "cell_type": "code",
   "execution_count": 115,
   "id": "06e4c1f2-7f49-4444-b9a9-35c96814f9ea",
   "metadata": {},
   "outputs": [
    {
     "name": "stdout",
     "output_type": "stream",
     "text": [
      "0.9995164410058027\n",
      "0.9777562862669246\n",
      "              precision    recall  f1-score   support\n",
      "\n",
      "         ham       0.98      0.99      0.99       904\n",
      "        spam       0.94      0.88      0.91       130\n",
      "\n",
      "    accuracy                           0.98      1034\n",
      "   macro avg       0.96      0.93      0.95      1034\n",
      "weighted avg       0.98      0.98      0.98      1034\n",
      "\n"
     ]
    },
    {
     "data": {
      "image/png": "[encoded data removed]",
      "text/plain": [
       "<Figure size 640x480 with 2 Axes>"
      ]
     },
     "metadata": {},
     "output_type": "display_data"
    }
   ],
   "source": [
    "from sklearn.linear_model import SGDClassifier\n",
    "model = make_pipeline(CountVectorizer(),\n",
    "                      SGDClassifier())\n",
    "model.fit(X_train, y_train.ravel())\n",
    "print(model.score(X_train, y_train))\n",
    "print(model.score(X_test, y_test))\n",
    "y_pred = model.predict(X_test)\n",
    "cm = confusion_matrix(model.predict(X_test), y_test, normalize=\"true\")\n",
    "display = ConfusionMatrixDisplay(cm, display_labels = ['ham', 'spam'])\n",
    "display.plot()\n",
    "target_names = ['ham', 'spam']\n",
    "print(classification_report(y_test, y_pred, target_names=target_names))"
   ]
  },
  {
   "cell_type": "markdown",
   "id": "6a57c540-acdd-4145-8c3e-0a588c15bc5d",
   "metadata": {},
   "source": [
    "## Perceptron + CountVectorizer"
   ]
  },
  {
   "cell_type": "code",
   "execution_count": 117,
   "id": "6db3c973-0ea6-4d0f-91f5-2d606d521719",
   "metadata": {},
   "outputs": [
    {
     "name": "stdout",
     "output_type": "stream",
     "text": [
      "0.9997582205029013\n",
      "0.9796905222437138\n",
      "              precision    recall  f1-score   support\n",
      "\n",
      "         ham       0.98      0.99      0.99       904\n",
      "        spam       0.96      0.88      0.92       130\n",
      "\n",
      "    accuracy                           0.98      1034\n",
      "   macro avg       0.97      0.94      0.95      1034\n",
      "weighted avg       0.98      0.98      0.98      1034\n",
      "\n"
     ]
    },
    {
     "data": {
      "image/png": "[encoded data removed]",
      "text/plain": [
       "<Figure size 640x480 with 2 Axes>"
      ]
     },
     "metadata": {},
     "output_type": "display_data"
    }
   ],
   "source": [
    "from sklearn.linear_model import Perceptron\n",
    "model = make_pipeline(CountVectorizer(),\n",
    "                      Perceptron())\n",
    "model.fit(X_train, y_train.ravel())\n",
    "print(model.score(X_train, y_train))\n",
    "print(model.score(X_test, y_test))\n",
    "y_pred = model.predict(X_test)\n",
    "cm = confusion_matrix(model.predict(X_test), y_test, normalize=\"true\")\n",
    "display = ConfusionMatrixDisplay(cm, display_labels = ['ham', 'spam'])\n",
    "display.plot()\n",
    "target_names = ['ham', 'spam']\n",
    "print(classification_report(y_test, y_pred, target_names=target_names))"
   ]
  },
  {
   "cell_type": "markdown",
   "id": "a41b551a-db6a-4baa-9041-2050664ec065",
   "metadata": {},
   "source": [
    "## PassiveAggressiveClassifier + CountVectorizer"
   ]
  },
  {
   "cell_type": "code",
   "execution_count": 119,
   "id": "b7ccecc0-719f-44c8-8450-e56af9c8b366",
   "metadata": {},
   "outputs": [
    {
     "name": "stdout",
     "output_type": "stream",
     "text": [
      "1.0\n",
      "0.9845261121856866\n",
      "              precision    recall  f1-score   support\n",
      "\n",
      "         ham       0.99      1.00      0.99       904\n",
      "        spam       0.97      0.90      0.94       130\n",
      "\n",
      "    accuracy                           0.98      1034\n",
      "   macro avg       0.98      0.95      0.96      1034\n",
      "weighted avg       0.98      0.98      0.98      1034\n",
      "\n"
     ]
    },
    {
     "data": {
      "image/png": "[encoded data removed]",
      "text/plain": [
       "<Figure size 640x480 with 2 Axes>"
      ]
     },
     "metadata": {},
     "output_type": "display_data"
    }
   ],
   "source": [
    "from sklearn.linear_model import PassiveAggressiveClassifier\n",
    "model = make_pipeline(CountVectorizer(),\n",
    "                      PassiveAggressiveClassifier())\n",
    "model.fit(X_train, y_train.ravel())\n",
    "print(model.score(X_train, y_train))\n",
    "print(model.score(X_test, y_test))\n",
    "y_pred = model.predict(X_test)\n",
    "cm = confusion_matrix(model.predict(X_test), y_test, normalize=\"true\")\n",
    "display = ConfusionMatrixDisplay(cm, display_labels = ['ham', 'spam'])\n",
    "display.plot()\n",
    "target_names = ['ham', 'spam']\n",
    "print(classification_report(y_test, y_pred, target_names=target_names))"
   ]
  },
  {
   "cell_type": "markdown",
   "id": "fa3f195d-0b06-4a70-a8c4-e5462a0cad9d",
   "metadata": {},
   "source": [
    "**Conclusion**  \n",
    "*Certains modeles (KNN) donnent d'excellents resultats sur le nombre de Faux Positif ('spam' classé 'ham') mais ce resutlat ne me semble pas le plus pertinent bien que cela puisse dependre des applications.*  \n",
    "*Pour le moment le meilleur modèle à mon sens, celui qui minimise le nombre de Faux Négatif (c'est à dire qui classe le moins de ham en spam), est le Bayes Naïf multinomial ci-dessous.* \n"
   ]
  },
  {
   "cell_type": "code",
   "execution_count": 121,
   "id": "3d32aa57-dcfd-401a-b1d5-e4dbddd84c65",
   "metadata": {},
   "outputs": [
    {
     "name": "stdout",
     "output_type": "stream",
     "text": [
      "0.9932301740812379\n",
      "0.9864603481624759\n",
      "              precision    recall  f1-score   support\n",
      "\n",
      "         ham       0.99      1.00      0.99       904\n",
      "        spam       0.98      0.92      0.94       130\n",
      "\n",
      "    accuracy                           0.99      1034\n",
      "   macro avg       0.98      0.96      0.97      1034\n",
      "weighted avg       0.99      0.99      0.99      1034\n",
      "\n"
     ]
    },
    {
     "data": {
      "image/png": "[encoded data removed]",
      "text/plain": [
       "<Figure size 640x480 with 2 Axes>"
      ]
     },
     "metadata": {},
     "output_type": "display_data"
    }
   ],
   "source": [
    "from sklearn.naive_bayes import MultinomialNB\n",
    "\n",
    "model = make_pipeline(CountVectorizer(),\n",
    "                      MultinomialNB())\n",
    "model.fit(X_train, y_train.ravel())\n",
    "print(model.score(X_train, y_train))\n",
    "print(model.score(X_test, y_test))\n",
    "\n",
    "y_pred = model.predict(X_test)\n",
    "cm = confusion_matrix(y_pred, y_test, normalize=\"true\")\n",
    "display = ConfusionMatrixDisplay(cm, display_labels = ['ham', 'spam'])\n",
    "display.plot()\n",
    "target_names = ['ham', 'spam']\n",
    "print(classification_report(y_test, y_pred, target_names=target_names))"
   ]
  },
  {
   "cell_type": "code",
   "execution_count": null,
   "id": "f69bfe87-d1f1-4660-bf47-3a9cf8906ed0",
   "metadata": {},
   "outputs": [],
   "source": []
  }
 ],
 "metadata": {
  "kernelspec": {
   "display_name": "Python 3 (ipykernel)",
   "language": "python",
   "name": "python3"
  },
  "language_info": {
   "codemirror_mode": {
    "name": "ipython",
    "version": 3
   },
   "file_extension": ".py",
   "mimetype": "text/x-python",
   "name": "python",
   "nbconvert_exporter": "python",
   "pygments_lexer": "ipython3",
   "version": "3.12.8"
  }
 },
 "nbformat": 4,
 "nbformat_minor": 5
}
